{
 "cells": [
  {
   "cell_type": "markdown",
   "metadata": {},
   "source": [
    "# Text Data Creation - Preparation for Sentiment Model Training"
   ]
  },
  {
   "cell_type": "code",
   "execution_count": 2,
   "id": "0fc70878-a032-449c-aedd-af16f820d2e8",
   "metadata": {},
   "outputs": [],
   "source": [
    "from nltk.translate.bleu_score import corpus_bleu\n",
    "import numpy as np\n",
    "import os\n",
    "import pandas as pd\n",
    "from sklearn.model_selection import train_test_split\n",
    "from transformers import BertModel, BertTokenizer\n",
    "import string\n",
    "import spacy\n",
    "import re\n",
    "import multiprocessing as mp\n",
    "from sklearn.metrics import classification_report\n",
    "\n",
    "import nltk\n",
    "from nltk.stem import PorterStemmer\n",
    "\n",
    "nlp = spacy.load('en_core_web_sm')\n",
    "pd.set_option('display.max_colwidth',999)"
   ]
  },
  {
   "cell_type": "markdown",
   "id": "0c43b660-a4d1-40bb-9fd3-ceaf7917a3bf",
   "metadata": {},
   "source": [
    "### Load Data"
   ]
  },
  {
   "cell_type": "code",
   "execution_count": 3,
   "id": "69a9ea6d-8763-4272-9154-27b877800644",
   "metadata": {},
   "outputs": [],
   "source": [
    "## Load all paths\n",
    "\n",
    "#importing financial phrase bank\n",
    "financial_phrasebank_file_name = os.path.join(\"data\",  \"all-data.csv\")\n",
    "\n",
    "## different files from Sem Eval Dataset\n",
    "semeval2_2017_train_file_name  = os.path.join('data','Headline_Trainingdata.json')\n",
    "semeval2_2017_test_file_name   = os.path.join('data','Headlines_Testdata.json')\n",
    "semeval2_2017_train_microblog_file_name   = os.path.join('data','Microblog_Trainingdata.json')\n",
    "semeval2_2017_test_microblog_file_name   = os.path.join('data','Microblogs_Testdata.json')\n",
    "\n",
    "# semeval2_2017_trial_file_name  = os.path.join('data','Project','Headline_Trialdata.json')"
   ]
  },
  {
   "cell_type": "code",
   "execution_count": 4,
   "id": "21dc9543-453f-403f-a770-7ae4ae86d92b",
   "metadata": {},
   "outputs": [
    {
     "name": "stdout",
     "output_type": "stream",
     "text": [
      "Shape of financial phrase bank dataset  4846\n"
     ]
    },
    {
     "data": {
      "text/html": [
       "<div>\n",
       "<style scoped>\n",
       "    .dataframe tbody tr th:only-of-type {\n",
       "        vertical-align: middle;\n",
       "    }\n",
       "\n",
       "    .dataframe tbody tr th {\n",
       "        vertical-align: top;\n",
       "    }\n",
       "\n",
       "    .dataframe thead th {\n",
       "        text-align: right;\n",
       "    }\n",
       "</style>\n",
       "<table border=\"1\" class=\"dataframe\">\n",
       "  <thead>\n",
       "    <tr style=\"text-align: right;\">\n",
       "      <th></th>\n",
       "      <th>sentiment_label</th>\n",
       "      <th>sentence</th>\n",
       "      <th>source</th>\n",
       "    </tr>\n",
       "  </thead>\n",
       "  <tbody>\n",
       "    <tr>\n",
       "      <th>0</th>\n",
       "      <td>neutral</td>\n",
       "      <td>According to Gran , the company has no plans to move all production to Russia , although that is where the company is growing .</td>\n",
       "      <td>financialphrasebank</td>\n",
       "    </tr>\n",
       "    <tr>\n",
       "      <th>1</th>\n",
       "      <td>neutral</td>\n",
       "      <td>Technopolis plans to develop in stages an area of no less than 100,000 square meters in order to host companies working in computer technologies and telecommunications , the statement said .</td>\n",
       "      <td>financialphrasebank</td>\n",
       "    </tr>\n",
       "    <tr>\n",
       "      <th>2</th>\n",
       "      <td>negative</td>\n",
       "      <td>The international electronic industry company Elcoteq has laid off tens of employees from its Tallinn facility ; contrary to earlier layoffs the company contracted the ranks of its office workers , the daily Postimees reported .</td>\n",
       "      <td>financialphrasebank</td>\n",
       "    </tr>\n",
       "    <tr>\n",
       "      <th>3</th>\n",
       "      <td>positive</td>\n",
       "      <td>With the new production plant the company would increase its capacity to meet the expected increase in demand and would improve the use of raw materials and therefore increase the production profitability .</td>\n",
       "      <td>financialphrasebank</td>\n",
       "    </tr>\n",
       "    <tr>\n",
       "      <th>4</th>\n",
       "      <td>positive</td>\n",
       "      <td>According to the company 's updated strategy for the years 2009-2012 , Basware targets a long-term net sales growth in the range of 20 % -40 % with an operating profit margin of 10 % -20 % of net sales .</td>\n",
       "      <td>financialphrasebank</td>\n",
       "    </tr>\n",
       "  </tbody>\n",
       "</table>\n",
       "</div>"
      ],
      "text/plain": [
       "  sentiment_label  \\\n",
       "0         neutral   \n",
       "1         neutral   \n",
       "2        negative   \n",
       "3        positive   \n",
       "4        positive   \n",
       "\n",
       "                                                                                                                                                                                                                               sentence  \\\n",
       "0                                                                                                       According to Gran , the company has no plans to move all production to Russia , although that is where the company is growing .   \n",
       "1                                        Technopolis plans to develop in stages an area of no less than 100,000 square meters in order to host companies working in computer technologies and telecommunications , the statement said .   \n",
       "2  The international electronic industry company Elcoteq has laid off tens of employees from its Tallinn facility ; contrary to earlier layoffs the company contracted the ranks of its office workers , the daily Postimees reported .   \n",
       "3                        With the new production plant the company would increase its capacity to meet the expected increase in demand and would improve the use of raw materials and therefore increase the production profitability .   \n",
       "4                           According to the company 's updated strategy for the years 2009-2012 , Basware targets a long-term net sales growth in the range of 20 % -40 % with an operating profit margin of 10 % -20 % of net sales .   \n",
       "\n",
       "                source  \n",
       "0  financialphrasebank  \n",
       "1  financialphrasebank  \n",
       "2  financialphrasebank  \n",
       "3  financialphrasebank  \n",
       "4  financialphrasebank  "
      ]
     },
     "execution_count": 4,
     "metadata": {},
     "output_type": "execute_result"
    }
   ],
   "source": [
    "df1 = pd.read_csv(financial_phrasebank_file_name,header=None,names=['label','sentence'])\n",
    "df1.rename(columns={'label':'sentiment_label'}, inplace=True)\n",
    "print('Shape of financial phrase bank dataset ', df1.shape[0])\n",
    "df1['source'] = 'financialphrasebank'\n",
    "df1.head()"
   ]
  },
  {
   "cell_type": "code",
   "execution_count": 5,
   "id": "0335089b-91a5-4249-8111-f5fb2776ffbd",
   "metadata": {},
   "outputs": [
    {
     "name": "stdout",
     "output_type": "stream",
     "text": [
      "Shape of SemEval 2017 Headline bank dataset  1633\n"
     ]
    },
    {
     "data": {
      "text/html": [
       "<div>\n",
       "<style scoped>\n",
       "    .dataframe tbody tr th:only-of-type {\n",
       "        vertical-align: middle;\n",
       "    }\n",
       "\n",
       "    .dataframe tbody tr th {\n",
       "        vertical-align: top;\n",
       "    }\n",
       "\n",
       "    .dataframe thead th {\n",
       "        text-align: right;\n",
       "    }\n",
       "</style>\n",
       "<table border=\"1\" class=\"dataframe\">\n",
       "  <thead>\n",
       "    <tr style=\"text-align: right;\">\n",
       "      <th></th>\n",
       "      <th>sentence</th>\n",
       "      <th>sentiment_score</th>\n",
       "      <th>source</th>\n",
       "      <th>sentiment_label</th>\n",
       "    </tr>\n",
       "  </thead>\n",
       "  <tbody>\n",
       "    <tr>\n",
       "      <th>0</th>\n",
       "      <td>Morrisons book second consecutive quarter of sales growth</td>\n",
       "      <td>0.430</td>\n",
       "      <td>headline</td>\n",
       "      <td>positive</td>\n",
       "    </tr>\n",
       "    <tr>\n",
       "      <th>1</th>\n",
       "      <td>IMI posts drop in first-quarter organic revenue; warns on full year</td>\n",
       "      <td>-0.344</td>\n",
       "      <td>headline</td>\n",
       "      <td>negative</td>\n",
       "    </tr>\n",
       "    <tr>\n",
       "      <th>2</th>\n",
       "      <td>Glencore to refinance its short-term debt early, shares rise</td>\n",
       "      <td>0.340</td>\n",
       "      <td>headline</td>\n",
       "      <td>positive</td>\n",
       "    </tr>\n",
       "    <tr>\n",
       "      <th>3</th>\n",
       "      <td>EasyJet attracts more passengers in June but still lags Ryanair</td>\n",
       "      <td>0.259</td>\n",
       "      <td>headline</td>\n",
       "      <td>positive</td>\n",
       "    </tr>\n",
       "    <tr>\n",
       "      <th>4</th>\n",
       "      <td>Barclays 'bad bank' chief to step down</td>\n",
       "      <td>-0.231</td>\n",
       "      <td>headline</td>\n",
       "      <td>negative</td>\n",
       "    </tr>\n",
       "  </tbody>\n",
       "</table>\n",
       "</div>"
      ],
      "text/plain": [
       "                                                              sentence  \\\n",
       "0            Morrisons book second consecutive quarter of sales growth   \n",
       "1  IMI posts drop in first-quarter organic revenue; warns on full year   \n",
       "2         Glencore to refinance its short-term debt early, shares rise   \n",
       "3      EasyJet attracts more passengers in June but still lags Ryanair   \n",
       "4                               Barclays 'bad bank' chief to step down   \n",
       "\n",
       "   sentiment_score    source sentiment_label  \n",
       "0            0.430  headline        positive  \n",
       "1           -0.344  headline        negative  \n",
       "2            0.340  headline        positive  \n",
       "3            0.259  headline        positive  \n",
       "4           -0.231  headline        negative  "
      ]
     },
     "execution_count": 5,
     "metadata": {},
     "output_type": "execute_result"
    }
   ],
   "source": [
    "df2_headline_train = pd.read_json(semeval2_2017_train_file_name)\n",
    "df2_headline_test = pd.read_json(semeval2_2017_test_file_name)\n",
    "df2_headline = pd.concat([df2_headline_train, df2_headline_test]).reset_index()\n",
    "df2_headline.rename(columns={'title':'sentence', 'sentiment':'sentiment_score'}, inplace=True)\n",
    "df2_headline = df2_headline[['sentence','sentiment_score']]\n",
    "df2_headline['source'] = 'headline'\n",
    "df2_headline['sentiment_label'] = df2_headline['sentiment_score'].apply(lambda x: 'positive' if x>0 else ('negative' if x<0 else 'neutral' ))\n",
    "print('Shape of SemEval 2017 Headline bank dataset ', df2_headline.shape[0])\n",
    "df2_headline.head()\n"
   ]
  },
  {
   "cell_type": "code",
   "execution_count": 6,
   "id": "3687eafb-06c5-4dd9-8d20-24b026b7f27b",
   "metadata": {},
   "outputs": [
    {
     "data": {
      "text/plain": [
       "positive    653\n",
       "neutral     529\n",
       "negative    451\n",
       "Name: sentiment_label, dtype: int64"
      ]
     },
     "execution_count": 6,
     "metadata": {},
     "output_type": "execute_result"
    }
   ],
   "source": [
    "df2_headline.sentiment_label.value_counts()"
   ]
  },
  {
   "cell_type": "markdown",
   "id": "98182346-f109-426e-8e50-951577896a7e",
   "metadata": {},
   "source": [
    "### Merging both dataframes to create final dataset"
   ]
  },
  {
   "cell_type": "code",
   "execution_count": 7,
   "id": "b7074fb3-90f2-4ace-a942-77705442b3e5",
   "metadata": {},
   "outputs": [
    {
     "data": {
      "text/html": [
       "<div>\n",
       "<style scoped>\n",
       "    .dataframe tbody tr th:only-of-type {\n",
       "        vertical-align: middle;\n",
       "    }\n",
       "\n",
       "    .dataframe tbody tr th {\n",
       "        vertical-align: top;\n",
       "    }\n",
       "\n",
       "    .dataframe thead th {\n",
       "        text-align: right;\n",
       "    }\n",
       "</style>\n",
       "<table border=\"1\" class=\"dataframe\">\n",
       "  <thead>\n",
       "    <tr style=\"text-align: right;\">\n",
       "      <th></th>\n",
       "      <th>sentiment_label</th>\n",
       "      <th>sentence</th>\n",
       "      <th>source</th>\n",
       "    </tr>\n",
       "  </thead>\n",
       "  <tbody>\n",
       "    <tr>\n",
       "      <th>0</th>\n",
       "      <td>neutral</td>\n",
       "      <td>According to Gran , the company has no plans to move all production to Russia , although that is where the company is growing .</td>\n",
       "      <td>financialphrasebank</td>\n",
       "    </tr>\n",
       "    <tr>\n",
       "      <th>1</th>\n",
       "      <td>neutral</td>\n",
       "      <td>Technopolis plans to develop in stages an area of no less than 100,000 square meters in order to host companies working in computer technologies and telecommunications , the statement said .</td>\n",
       "      <td>financialphrasebank</td>\n",
       "    </tr>\n",
       "    <tr>\n",
       "      <th>2</th>\n",
       "      <td>negative</td>\n",
       "      <td>The international electronic industry company Elcoteq has laid off tens of employees from its Tallinn facility ; contrary to earlier layoffs the company contracted the ranks of its office workers , the daily Postimees reported .</td>\n",
       "      <td>financialphrasebank</td>\n",
       "    </tr>\n",
       "    <tr>\n",
       "      <th>3</th>\n",
       "      <td>positive</td>\n",
       "      <td>With the new production plant the company would increase its capacity to meet the expected increase in demand and would improve the use of raw materials and therefore increase the production profitability .</td>\n",
       "      <td>financialphrasebank</td>\n",
       "    </tr>\n",
       "    <tr>\n",
       "      <th>4</th>\n",
       "      <td>positive</td>\n",
       "      <td>According to the company 's updated strategy for the years 2009-2012 , Basware targets a long-term net sales growth in the range of 20 % -40 % with an operating profit margin of 10 % -20 % of net sales .</td>\n",
       "      <td>financialphrasebank</td>\n",
       "    </tr>\n",
       "  </tbody>\n",
       "</table>\n",
       "</div>"
      ],
      "text/plain": [
       "  sentiment_label  \\\n",
       "0         neutral   \n",
       "1         neutral   \n",
       "2        negative   \n",
       "3        positive   \n",
       "4        positive   \n",
       "\n",
       "                                                                                                                                                                                                                               sentence  \\\n",
       "0                                                                                                       According to Gran , the company has no plans to move all production to Russia , although that is where the company is growing .   \n",
       "1                                        Technopolis plans to develop in stages an area of no less than 100,000 square meters in order to host companies working in computer technologies and telecommunications , the statement said .   \n",
       "2  The international electronic industry company Elcoteq has laid off tens of employees from its Tallinn facility ; contrary to earlier layoffs the company contracted the ranks of its office workers , the daily Postimees reported .   \n",
       "3                        With the new production plant the company would increase its capacity to meet the expected increase in demand and would improve the use of raw materials and therefore increase the production profitability .   \n",
       "4                           According to the company 's updated strategy for the years 2009-2012 , Basware targets a long-term net sales growth in the range of 20 % -40 % with an operating profit margin of 10 % -20 % of net sales .   \n",
       "\n",
       "                source  \n",
       "0  financialphrasebank  \n",
       "1  financialphrasebank  \n",
       "2  financialphrasebank  \n",
       "3  financialphrasebank  \n",
       "4  financialphrasebank  "
      ]
     },
     "execution_count": 7,
     "metadata": {},
     "output_type": "execute_result"
    }
   ],
   "source": [
    "final_df = pd.concat([df1, df2_headline.drop('sentiment_score', axis=1)])\n",
    "final_df.head()"
   ]
  },
  {
   "cell_type": "code",
   "execution_count": 9,
   "id": "6e9e2a31-f9c4-441d-bbe5-628a84884a17",
   "metadata": {},
   "outputs": [
    {
     "name": "stdout",
     "output_type": "stream",
     "text": [
      "Data label counts in the final dataset\n"
     ]
    },
    {
     "data": {
      "text/plain": [
       "neutral     3408\n",
       "positive    2016\n",
       "negative    1055\n",
       "Name: sentiment_label, dtype: int64"
      ]
     },
     "execution_count": 9,
     "metadata": {},
     "output_type": "execute_result"
    }
   ],
   "source": [
    "print('Data label counts in the final dataset')\n",
    "final_df.sentiment_label.value_counts()"
   ]
  },
  {
   "cell_type": "markdown",
   "id": "ea874ec0-12d2-423c-bbd5-7f12464b710a",
   "metadata": {},
   "source": [
    "### Split the Data into Train and Test"
   ]
  },
  {
   "cell_type": "code",
   "execution_count": 19,
   "id": "90874e94-e9ba-40c5-a190-4b677b7dc641",
   "metadata": {},
   "outputs": [],
   "source": [
    "from sklearn.model_selection import train_test_split\n",
    "train_set, test_set= train_test_split(final_df,  test_size=0.2, random_state=42)"
   ]
  },
  {
   "cell_type": "markdown",
   "id": "7da488d4-8d18-48c7-8e40-2c57940906d9",
   "metadata": {},
   "source": [
    "### Saving the dataframes"
   ]
  },
  {
   "cell_type": "code",
   "execution_count": 23,
   "id": "1ae56fcf-2d45-4968-9019-3902bed67fbd",
   "metadata": {},
   "outputs": [],
   "source": [
    "train_set.to_csv('data/train_data.csv', index=False)\n",
    "test_set.to_csv('data/test_data.csv', index=False)"
   ]
  }
 ],
 "metadata": {
  "kernelspec": {
   "display_name": "nlu",
   "language": "python",
   "name": "nlu"
  },
  "language_info": {
   "codemirror_mode": {
    "name": "ipython",
    "version": 3
   },
   "file_extension": ".py",
   "mimetype": "text/x-python",
   "name": "python",
   "nbconvert_exporter": "python",
   "pygments_lexer": "ipython3",
   "version": "3.8.8"
  }
 },
 "nbformat": 4,
 "nbformat_minor": 5
}
