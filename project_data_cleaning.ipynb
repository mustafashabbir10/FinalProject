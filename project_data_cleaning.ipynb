{
 "cells": [
  {
   "cell_type": "code",
   "execution_count": 1,
   "id": "1dbf758f-16fe-4008-8563-57861165afa8",
   "metadata": {},
   "outputs": [],
   "source": [
    "from nltk.translate.bleu_score import corpus_bleu\n",
    "import numpy as np\n",
    "import os\n",
    "import pandas as pd\n",
    "from sklearn.model_selection import train_test_split\n",
    "from transformers import BertModel, BertTokenizer\n",
    "import string\n",
    "import spacy\n",
    "import re\n",
    "import multiprocessing as mp\n",
    "\n",
    "nlp = spacy.load('en_core_web_sm')\n",
    "pd.set_option('display.max_colwidth',999)"
   ]
  },
  {
   "cell_type": "code",
   "execution_count": 2,
   "id": "2a598520-f226-420f-acf6-9897cfe97331",
   "metadata": {},
   "outputs": [],
   "source": [
    "#importing financial phrase bank\n",
    "financial_phrasebank_file_name = os.path.join(\"data\",  \"all-data.csv\")\n",
    "semeval2_2017_train_file_name  = os.path.join('data','Headline_Trainingdata.json')\n",
    "semeval2_2017_test_file_name   = os.path.join('data','Headlines_Testdata.json')\n",
    "semeval2_2017_train_microblog_file_name   = os.path.join('data','Microblog_Trainingdata.json')\n",
    "semeval2_2017_test_microblog_file_name   = os.path.join('data','Microblogs_Testdata.json')\n",
    "\n",
    "# semeval2_2017_trial_file_name  = os.path.join('data','Project','Headline_Trialdata.json')"
   ]
  },
  {
   "cell_type": "code",
   "execution_count": 3,
   "id": "52e99736-cb36-4e12-beeb-8a9de53e8a1f",
   "metadata": {
    "tags": []
   },
   "outputs": [
    {
     "name": "stdout",
     "output_type": "stream",
     "text": [
      "Shape of financial phrase bank dataset  4846\n"
     ]
    },
    {
     "data": {
      "text/html": [
       "<div>\n",
       "<style scoped>\n",
       "    .dataframe tbody tr th:only-of-type {\n",
       "        vertical-align: middle;\n",
       "    }\n",
       "\n",
       "    .dataframe tbody tr th {\n",
       "        vertical-align: top;\n",
       "    }\n",
       "\n",
       "    .dataframe thead th {\n",
       "        text-align: right;\n",
       "    }\n",
       "</style>\n",
       "<table border=\"1\" class=\"dataframe\">\n",
       "  <thead>\n",
       "    <tr style=\"text-align: right;\">\n",
       "      <th></th>\n",
       "      <th>sentiment_label</th>\n",
       "      <th>sentence</th>\n",
       "      <th>source</th>\n",
       "    </tr>\n",
       "  </thead>\n",
       "  <tbody>\n",
       "    <tr>\n",
       "      <th>0</th>\n",
       "      <td>neutral</td>\n",
       "      <td>According to Gran , the company has no plans to move all production to Russia , although that is where the company is growing .</td>\n",
       "      <td>financialphrasebank</td>\n",
       "    </tr>\n",
       "    <tr>\n",
       "      <th>1</th>\n",
       "      <td>neutral</td>\n",
       "      <td>Technopolis plans to develop in stages an area of no less than 100,000 square meters in order to host companies working in computer technologies and telecommunications , the statement said .</td>\n",
       "      <td>financialphrasebank</td>\n",
       "    </tr>\n",
       "    <tr>\n",
       "      <th>2</th>\n",
       "      <td>negative</td>\n",
       "      <td>The international electronic industry company Elcoteq has laid off tens of employees from its Tallinn facility ; contrary to earlier layoffs the company contracted the ranks of its office workers , the daily Postimees reported .</td>\n",
       "      <td>financialphrasebank</td>\n",
       "    </tr>\n",
       "    <tr>\n",
       "      <th>3</th>\n",
       "      <td>positive</td>\n",
       "      <td>With the new production plant the company would increase its capacity to meet the expected increase in demand and would improve the use of raw materials and therefore increase the production profitability .</td>\n",
       "      <td>financialphrasebank</td>\n",
       "    </tr>\n",
       "    <tr>\n",
       "      <th>4</th>\n",
       "      <td>positive</td>\n",
       "      <td>According to the company 's updated strategy for the years 2009-2012 , Basware targets a long-term net sales growth in the range of 20 % -40 % with an operating profit margin of 10 % -20 % of net sales .</td>\n",
       "      <td>financialphrasebank</td>\n",
       "    </tr>\n",
       "  </tbody>\n",
       "</table>\n",
       "</div>"
      ],
      "text/plain": [
       "  sentiment_label  \\\n",
       "0         neutral   \n",
       "1         neutral   \n",
       "2        negative   \n",
       "3        positive   \n",
       "4        positive   \n",
       "\n",
       "                                                                                                                                                                                                                               sentence  \\\n",
       "0                                                                                                       According to Gran , the company has no plans to move all production to Russia , although that is where the company is growing .   \n",
       "1                                        Technopolis plans to develop in stages an area of no less than 100,000 square meters in order to host companies working in computer technologies and telecommunications , the statement said .   \n",
       "2  The international electronic industry company Elcoteq has laid off tens of employees from its Tallinn facility ; contrary to earlier layoffs the company contracted the ranks of its office workers , the daily Postimees reported .   \n",
       "3                        With the new production plant the company would increase its capacity to meet the expected increase in demand and would improve the use of raw materials and therefore increase the production profitability .   \n",
       "4                           According to the company 's updated strategy for the years 2009-2012 , Basware targets a long-term net sales growth in the range of 20 % -40 % with an operating profit margin of 10 % -20 % of net sales .   \n",
       "\n",
       "                source  \n",
       "0  financialphrasebank  \n",
       "1  financialphrasebank  \n",
       "2  financialphrasebank  \n",
       "3  financialphrasebank  \n",
       "4  financialphrasebank  "
      ]
     },
     "execution_count": 3,
     "metadata": {},
     "output_type": "execute_result"
    }
   ],
   "source": [
    "df1 = pd.read_csv(financial_phrasebank_file_name,header=None,names=['label','sentence'])\n",
    "df1.rename(columns={'label':'sentiment_label'}, inplace=True)\n",
    "print('Shape of financial phrase bank dataset ', df1.shape[0])\n",
    "df1['source'] = 'financialphrasebank'\n",
    "df1.head()"
   ]
  },
  {
   "cell_type": "code",
   "execution_count": 5,
   "id": "8f565e29-404e-43be-9edf-8a08466b2659",
   "metadata": {},
   "outputs": [
    {
     "name": "stdout",
     "output_type": "stream",
     "text": [
      "Shape of SemEval 2017 Headline bank dataset  1633\n"
     ]
    },
    {
     "data": {
      "text/html": [
       "<div>\n",
       "<style scoped>\n",
       "    .dataframe tbody tr th:only-of-type {\n",
       "        vertical-align: middle;\n",
       "    }\n",
       "\n",
       "    .dataframe tbody tr th {\n",
       "        vertical-align: top;\n",
       "    }\n",
       "\n",
       "    .dataframe thead th {\n",
       "        text-align: right;\n",
       "    }\n",
       "</style>\n",
       "<table border=\"1\" class=\"dataframe\">\n",
       "  <thead>\n",
       "    <tr style=\"text-align: right;\">\n",
       "      <th></th>\n",
       "      <th>sentence</th>\n",
       "      <th>sentiment_score</th>\n",
       "      <th>source</th>\n",
       "      <th>sentiment_label</th>\n",
       "    </tr>\n",
       "  </thead>\n",
       "  <tbody>\n",
       "    <tr>\n",
       "      <th>0</th>\n",
       "      <td>Morrisons book second consecutive quarter of sales growth</td>\n",
       "      <td>0.430</td>\n",
       "      <td>headline</td>\n",
       "      <td>positive</td>\n",
       "    </tr>\n",
       "    <tr>\n",
       "      <th>1</th>\n",
       "      <td>IMI posts drop in first-quarter organic revenue; warns on full year</td>\n",
       "      <td>-0.344</td>\n",
       "      <td>headline</td>\n",
       "      <td>negative</td>\n",
       "    </tr>\n",
       "    <tr>\n",
       "      <th>2</th>\n",
       "      <td>Glencore to refinance its short-term debt early, shares rise</td>\n",
       "      <td>0.340</td>\n",
       "      <td>headline</td>\n",
       "      <td>positive</td>\n",
       "    </tr>\n",
       "    <tr>\n",
       "      <th>3</th>\n",
       "      <td>EasyJet attracts more passengers in June but still lags Ryanair</td>\n",
       "      <td>0.259</td>\n",
       "      <td>headline</td>\n",
       "      <td>positive</td>\n",
       "    </tr>\n",
       "    <tr>\n",
       "      <th>4</th>\n",
       "      <td>Barclays 'bad bank' chief to step down</td>\n",
       "      <td>-0.231</td>\n",
       "      <td>headline</td>\n",
       "      <td>negative</td>\n",
       "    </tr>\n",
       "  </tbody>\n",
       "</table>\n",
       "</div>"
      ],
      "text/plain": [
       "                                                              sentence  \\\n",
       "0            Morrisons book second consecutive quarter of sales growth   \n",
       "1  IMI posts drop in first-quarter organic revenue; warns on full year   \n",
       "2         Glencore to refinance its short-term debt early, shares rise   \n",
       "3      EasyJet attracts more passengers in June but still lags Ryanair   \n",
       "4                               Barclays 'bad bank' chief to step down   \n",
       "\n",
       "   sentiment_score    source sentiment_label  \n",
       "0            0.430  headline        positive  \n",
       "1           -0.344  headline        negative  \n",
       "2            0.340  headline        positive  \n",
       "3            0.259  headline        positive  \n",
       "4           -0.231  headline        negative  "
      ]
     },
     "execution_count": 5,
     "metadata": {},
     "output_type": "execute_result"
    }
   ],
   "source": [
    "df2_headline_train = pd.read_json(semeval2_2017_train_file_name)\n",
    "df2_headline_test = pd.read_json(semeval2_2017_test_file_name)\n",
    "df2_headline = pd.concat([df2_headline_train, df2_headline_test]).reset_index()\n",
    "df2_headline.rename(columns={'title':'sentence', 'sentiment':'sentiment_score'}, inplace=True)\n",
    "df2_headline = df2_headline[['sentence','sentiment_score']]\n",
    "df2_headline['source'] = 'headline'\n",
    "df2_headline['sentiment_label'] = df2_headline['sentiment_score'].apply(lambda x: 'positive' if x>0 else ('negative' if x<0 else 'neutral' ))\n",
    "print('Shape of SemEval 2017 Headline bank dataset ', df2_headline.shape[0])\n",
    "df2_headline.head()\n"
   ]
  },
  {
   "cell_type": "code",
   "execution_count": 6,
   "id": "8215589c-5e46-4c68-8ba9-12134b224fd3",
   "metadata": {},
   "outputs": [
    {
     "data": {
      "text/plain": [
       "positive    653\n",
       "neutral     529\n",
       "negative    451\n",
       "Name: sentiment_label, dtype: int64"
      ]
     },
     "execution_count": 6,
     "metadata": {},
     "output_type": "execute_result"
    }
   ],
   "source": [
    "df2_headline.sentiment_label.value_counts()"
   ]
  },
  {
   "cell_type": "code",
   "execution_count": 7,
   "id": "a5061824-bad9-4e7e-a6e0-a02e77d1daaf",
   "metadata": {},
   "outputs": [],
   "source": [
    "# df2_microblog_train = pd.read_json(semeval2_2017_train_microblog_file_name)\n",
    "# df2_microblog_test = pd.read_json(semeval2_2017_test_microblog_file_name)\n",
    "# df2_microblog = pd.concat([df2_microblog_train, df2_microblog_test]).reset_index(drop=True)\n",
    "# df2_microblog.dropna(inplace=True)\n",
    "# df2_microblog['spans'] = df2_microblog['spans'].apply(lambda x: x if type(x)==str else (x[0] if len(x)==1 else ' '.join(x)))\n",
    "# df2_microblog.rename(columns={'spans':'sentence','sentiment score':'sentiment_score'}, inplace=True)\n",
    "# df2_microblog = df2_microblog[['sentence','sentiment_score']]\n",
    "# df2_microblog['source'] = 'microblog'\n",
    "# # df2_microblog['spans'] = df2_microblog['spans'].apply(lambda x: if shape_list\n",
    "# print(df2_microblog.shape)\n",
    "# df2_microblog.head()"
   ]
  },
  {
   "cell_type": "code",
   "execution_count": 8,
   "id": "f569b6a9-cddd-48dc-b5f3-ea1c9bd087b3",
   "metadata": {},
   "outputs": [
    {
     "data": {
      "text/html": [
       "<div>\n",
       "<style scoped>\n",
       "    .dataframe tbody tr th:only-of-type {\n",
       "        vertical-align: middle;\n",
       "    }\n",
       "\n",
       "    .dataframe tbody tr th {\n",
       "        vertical-align: top;\n",
       "    }\n",
       "\n",
       "    .dataframe thead th {\n",
       "        text-align: right;\n",
       "    }\n",
       "</style>\n",
       "<table border=\"1\" class=\"dataframe\">\n",
       "  <thead>\n",
       "    <tr style=\"text-align: right;\">\n",
       "      <th></th>\n",
       "      <th>sentiment_label</th>\n",
       "      <th>sentence</th>\n",
       "      <th>source</th>\n",
       "    </tr>\n",
       "  </thead>\n",
       "  <tbody>\n",
       "    <tr>\n",
       "      <th>0</th>\n",
       "      <td>neutral</td>\n",
       "      <td>According to Gran , the company has no plans to move all production to Russia , although that is where the company is growing .</td>\n",
       "      <td>financialphrasebank</td>\n",
       "    </tr>\n",
       "    <tr>\n",
       "      <th>1</th>\n",
       "      <td>neutral</td>\n",
       "      <td>Technopolis plans to develop in stages an area of no less than 100,000 square meters in order to host companies working in computer technologies and telecommunications , the statement said .</td>\n",
       "      <td>financialphrasebank</td>\n",
       "    </tr>\n",
       "    <tr>\n",
       "      <th>2</th>\n",
       "      <td>negative</td>\n",
       "      <td>The international electronic industry company Elcoteq has laid off tens of employees from its Tallinn facility ; contrary to earlier layoffs the company contracted the ranks of its office workers , the daily Postimees reported .</td>\n",
       "      <td>financialphrasebank</td>\n",
       "    </tr>\n",
       "    <tr>\n",
       "      <th>3</th>\n",
       "      <td>positive</td>\n",
       "      <td>With the new production plant the company would increase its capacity to meet the expected increase in demand and would improve the use of raw materials and therefore increase the production profitability .</td>\n",
       "      <td>financialphrasebank</td>\n",
       "    </tr>\n",
       "    <tr>\n",
       "      <th>4</th>\n",
       "      <td>positive</td>\n",
       "      <td>According to the company 's updated strategy for the years 2009-2012 , Basware targets a long-term net sales growth in the range of 20 % -40 % with an operating profit margin of 10 % -20 % of net sales .</td>\n",
       "      <td>financialphrasebank</td>\n",
       "    </tr>\n",
       "  </tbody>\n",
       "</table>\n",
       "</div>"
      ],
      "text/plain": [
       "  sentiment_label  \\\n",
       "0         neutral   \n",
       "1         neutral   \n",
       "2        negative   \n",
       "3        positive   \n",
       "4        positive   \n",
       "\n",
       "                                                                                                                                                                                                                               sentence  \\\n",
       "0                                                                                                       According to Gran , the company has no plans to move all production to Russia , although that is where the company is growing .   \n",
       "1                                        Technopolis plans to develop in stages an area of no less than 100,000 square meters in order to host companies working in computer technologies and telecommunications , the statement said .   \n",
       "2  The international electronic industry company Elcoteq has laid off tens of employees from its Tallinn facility ; contrary to earlier layoffs the company contracted the ranks of its office workers , the daily Postimees reported .   \n",
       "3                        With the new production plant the company would increase its capacity to meet the expected increase in demand and would improve the use of raw materials and therefore increase the production profitability .   \n",
       "4                           According to the company 's updated strategy for the years 2009-2012 , Basware targets a long-term net sales growth in the range of 20 % -40 % with an operating profit margin of 10 % -20 % of net sales .   \n",
       "\n",
       "                source  \n",
       "0  financialphrasebank  \n",
       "1  financialphrasebank  \n",
       "2  financialphrasebank  \n",
       "3  financialphrasebank  \n",
       "4  financialphrasebank  "
      ]
     },
     "execution_count": 8,
     "metadata": {},
     "output_type": "execute_result"
    }
   ],
   "source": [
    "final_df = pd.concat([df1, df2_headline.drop('sentiment_score', axis=1)])\n",
    "final_df.head()"
   ]
  },
  {
   "cell_type": "code",
   "execution_count": 9,
   "id": "8322a9a4-85d2-4a72-8c60-9382a5331429",
   "metadata": {},
   "outputs": [
    {
     "data": {
      "text/plain": [
       "neutral     3408\n",
       "positive    2016\n",
       "negative    1055\n",
       "Name: sentiment_label, dtype: int64"
      ]
     },
     "execution_count": 9,
     "metadata": {},
     "output_type": "execute_result"
    }
   ],
   "source": [
    "final_df.sentiment_label.value_counts()"
   ]
  },
  {
   "cell_type": "code",
   "execution_count": 10,
   "id": "f45a4b5d-77a5-4305-b6b2-85f379b9060f",
   "metadata": {},
   "outputs": [
    {
     "data": {
      "text/html": [
       "<div>\n",
       "<style scoped>\n",
       "    .dataframe tbody tr th:only-of-type {\n",
       "        vertical-align: middle;\n",
       "    }\n",
       "\n",
       "    .dataframe tbody tr th {\n",
       "        vertical-align: top;\n",
       "    }\n",
       "\n",
       "    .dataframe thead th {\n",
       "        text-align: right;\n",
       "    }\n",
       "</style>\n",
       "<table border=\"1\" class=\"dataframe\">\n",
       "  <thead>\n",
       "    <tr style=\"text-align: right;\">\n",
       "      <th></th>\n",
       "      <th>sentiment_label</th>\n",
       "      <th>sentence</th>\n",
       "      <th>source</th>\n",
       "    </tr>\n",
       "  </thead>\n",
       "  <tbody>\n",
       "    <tr>\n",
       "      <th>2</th>\n",
       "      <td>negative</td>\n",
       "      <td>The international electronic industry company Elcoteq has laid off tens of employees from its Tallinn facility ; contrary to earlier layoffs the company contracted the ranks of its office workers , the daily Postimees reported .</td>\n",
       "      <td>financialphrasebank</td>\n",
       "    </tr>\n",
       "    <tr>\n",
       "      <th>415</th>\n",
       "      <td>negative</td>\n",
       "      <td>A tinyurl link takes users to a scamming site promising that users can earn thousands of dollars by becoming a Google ( NASDAQ : GOOG ) Cash advertiser .</td>\n",
       "      <td>financialphrasebank</td>\n",
       "    </tr>\n",
       "    <tr>\n",
       "      <th>421</th>\n",
       "      <td>negative</td>\n",
       "      <td>Compared with the FTSE 100 index , which rose 36.7 points ( or 0.6 % ) on the day , this was a relative price change of -0.2 % .</td>\n",
       "      <td>financialphrasebank</td>\n",
       "    </tr>\n",
       "    <tr>\n",
       "      <th>423</th>\n",
       "      <td>negative</td>\n",
       "      <td>Compared with the FTSE 100 index , which rose 94.9 points ( or 1.6 % ) on the day , this was a relative price change of -0.4 % .</td>\n",
       "      <td>financialphrasebank</td>\n",
       "    </tr>\n",
       "    <tr>\n",
       "      <th>500</th>\n",
       "      <td>negative</td>\n",
       "      <td>One of the challenges in the oil production in the North Sea is scale formation that can plug pipelines and halt production .</td>\n",
       "      <td>financialphrasebank</td>\n",
       "    </tr>\n",
       "    <tr>\n",
       "      <th>...</th>\n",
       "      <td>...</td>\n",
       "      <td>...</td>\n",
       "      <td>...</td>\n",
       "    </tr>\n",
       "    <tr>\n",
       "      <th>1129</th>\n",
       "      <td>negative</td>\n",
       "      <td>Oil majors like Royal Dutch Shell, Chevron, BP fail to find reserves to counter ...</td>\n",
       "      <td>headline</td>\n",
       "    </tr>\n",
       "    <tr>\n",
       "      <th>1130</th>\n",
       "      <td>negative</td>\n",
       "      <td>Four ex-Barclays bankers sentenced for roles in Libor rate-rigging scandal</td>\n",
       "      <td>headline</td>\n",
       "    </tr>\n",
       "    <tr>\n",
       "      <th>1133</th>\n",
       "      <td>negative</td>\n",
       "      <td>Tesco leads leap in FTSE 100; Marks &amp; Spencer drops</td>\n",
       "      <td>headline</td>\n",
       "    </tr>\n",
       "    <tr>\n",
       "      <th>1139</th>\n",
       "      <td>negative</td>\n",
       "      <td>Kingfisher share price slides on cost to implement new strategy</td>\n",
       "      <td>headline</td>\n",
       "    </tr>\n",
       "    <tr>\n",
       "      <th>1141</th>\n",
       "      <td>negative</td>\n",
       "      <td>Standard Chartered Shifts Emerging-Markets Strategy After Losses</td>\n",
       "      <td>headline</td>\n",
       "    </tr>\n",
       "  </tbody>\n",
       "</table>\n",
       "<p>1055 rows × 3 columns</p>\n",
       "</div>"
      ],
      "text/plain": [
       "     sentiment_label  \\\n",
       "2           negative   \n",
       "415         negative   \n",
       "421         negative   \n",
       "423         negative   \n",
       "500         negative   \n",
       "...              ...   \n",
       "1129        negative   \n",
       "1130        negative   \n",
       "1133        negative   \n",
       "1139        negative   \n",
       "1141        negative   \n",
       "\n",
       "                                                                                                                                                                                                                                  sentence  \\\n",
       "2     The international electronic industry company Elcoteq has laid off tens of employees from its Tallinn facility ; contrary to earlier layoffs the company contracted the ranks of its office workers , the daily Postimees reported .   \n",
       "415                                                                              A tinyurl link takes users to a scamming site promising that users can earn thousands of dollars by becoming a Google ( NASDAQ : GOOG ) Cash advertiser .   \n",
       "421                                                                                                       Compared with the FTSE 100 index , which rose 36.7 points ( or 0.6 % ) on the day , this was a relative price change of -0.2 % .   \n",
       "423                                                                                                       Compared with the FTSE 100 index , which rose 94.9 points ( or 1.6 % ) on the day , this was a relative price change of -0.4 % .   \n",
       "500                                                                                                          One of the challenges in the oil production in the North Sea is scale formation that can plug pipelines and halt production .   \n",
       "...                                                                                                                                                                                                                                    ...   \n",
       "1129                                                                                                                                                   Oil majors like Royal Dutch Shell, Chevron, BP fail to find reserves to counter ...   \n",
       "1130                                                                                                                                                            Four ex-Barclays bankers sentenced for roles in Libor rate-rigging scandal   \n",
       "1133                                                                                                                                                                                   Tesco leads leap in FTSE 100; Marks & Spencer drops   \n",
       "1139                                                                                                                                                                       Kingfisher share price slides on cost to implement new strategy   \n",
       "1141                                                                                                                                                                      Standard Chartered Shifts Emerging-Markets Strategy After Losses   \n",
       "\n",
       "                   source  \n",
       "2     financialphrasebank  \n",
       "415   financialphrasebank  \n",
       "421   financialphrasebank  \n",
       "423   financialphrasebank  \n",
       "500   financialphrasebank  \n",
       "...                   ...  \n",
       "1129             headline  \n",
       "1130             headline  \n",
       "1133             headline  \n",
       "1139             headline  \n",
       "1141             headline  \n",
       "\n",
       "[1055 rows x 3 columns]"
      ]
     },
     "execution_count": 10,
     "metadata": {},
     "output_type": "execute_result"
    }
   ],
   "source": [
    "final_df[final_df.sentiment_label=='negative']"
   ]
  },
  {
   "cell_type": "code",
   "execution_count": 155,
   "id": "be17e1b4-89e4-4e07-b0e0-6cc0332a6955",
   "metadata": {},
   "outputs": [],
   "source": [
    "final_df.to_csv('final_df.csv', index=False)"
   ]
  },
  {
   "cell_type": "code",
   "execution_count": 167,
   "id": "a3e97344-45c9-4d0b-942a-8ad097cbb99f",
   "metadata": {},
   "outputs": [
    {
     "data": {
      "text/html": [
       "<div>\n",
       "<style scoped>\n",
       "    .dataframe tbody tr th:only-of-type {\n",
       "        vertical-align: middle;\n",
       "    }\n",
       "\n",
       "    .dataframe tbody tr th {\n",
       "        vertical-align: top;\n",
       "    }\n",
       "\n",
       "    .dataframe thead th {\n",
       "        text-align: right;\n",
       "    }\n",
       "</style>\n",
       "<table border=\"1\" class=\"dataframe\">\n",
       "  <thead>\n",
       "    <tr style=\"text-align: right;\">\n",
       "      <th></th>\n",
       "      <th>sentiment_label</th>\n",
       "      <th>sentence</th>\n",
       "      <th>source</th>\n",
       "      <th>cleaned_sentence</th>\n",
       "    </tr>\n",
       "  </thead>\n",
       "  <tbody>\n",
       "    <tr>\n",
       "      <th>0</th>\n",
       "      <td>neutral</td>\n",
       "      <td>According to Gran , the company has no plans to move all production to Russia , although that is where the company is growing .</td>\n",
       "      <td>financialphrasebank</td>\n",
       "      <td>according to gran the company has no plans to move all production to russia although that is where the company is growing</td>\n",
       "    </tr>\n",
       "    <tr>\n",
       "      <th>1</th>\n",
       "      <td>neutral</td>\n",
       "      <td>Technopolis plans to develop in stages an area of no less than 100,000 square meters in order to host companies working in computer technologies and telecommunications , the statement said .</td>\n",
       "      <td>financialphrasebank</td>\n",
       "      <td>technopolis plans to develop in stages an area of no less than square meters in order to host companies working in computer technologies and telecommunications the statement said</td>\n",
       "    </tr>\n",
       "    <tr>\n",
       "      <th>2</th>\n",
       "      <td>negative</td>\n",
       "      <td>The international electronic industry company Elcoteq has laid off tens of employees from its Tallinn facility ; contrary to earlier layoffs the company contracted the ranks of its office workers , the daily Postimees reported .</td>\n",
       "      <td>financialphrasebank</td>\n",
       "      <td>the international electronic industry company elcoteq has laid off tens of employees from its tallinn facility contrary to earlier layoffs the company contracted the ranks of its office workers the daily postimees reported</td>\n",
       "    </tr>\n",
       "    <tr>\n",
       "      <th>3</th>\n",
       "      <td>positive</td>\n",
       "      <td>With the new production plant the company would increase its capacity to meet the expected increase in demand and would improve the use of raw materials and therefore increase the production profitability .</td>\n",
       "      <td>financialphrasebank</td>\n",
       "      <td>with the new production plant the company would increase its capacity to meet the expected increase in demand and would improve the use of raw materials and therefore increase the production profitability</td>\n",
       "    </tr>\n",
       "    <tr>\n",
       "      <th>4</th>\n",
       "      <td>positive</td>\n",
       "      <td>According to the company 's updated strategy for the years 2009-2012 , Basware targets a long-term net sales growth in the range of 20 % -40 % with an operating profit margin of 10 % -20 % of net sales .</td>\n",
       "      <td>financialphrasebank</td>\n",
       "      <td>according to the company s updated strategy for the years basware targets a longterm net sales growth in the range of with an operating profit margin of of net sales</td>\n",
       "    </tr>\n",
       "  </tbody>\n",
       "</table>\n",
       "</div>"
      ],
      "text/plain": [
       "  sentiment_label  \\\n",
       "0         neutral   \n",
       "1         neutral   \n",
       "2        negative   \n",
       "3        positive   \n",
       "4        positive   \n",
       "\n",
       "                                                                                                                                                                                                                               sentence  \\\n",
       "0                                                                                                       According to Gran , the company has no plans to move all production to Russia , although that is where the company is growing .   \n",
       "1                                        Technopolis plans to develop in stages an area of no less than 100,000 square meters in order to host companies working in computer technologies and telecommunications , the statement said .   \n",
       "2  The international electronic industry company Elcoteq has laid off tens of employees from its Tallinn facility ; contrary to earlier layoffs the company contracted the ranks of its office workers , the daily Postimees reported .   \n",
       "3                        With the new production plant the company would increase its capacity to meet the expected increase in demand and would improve the use of raw materials and therefore increase the production profitability .   \n",
       "4                           According to the company 's updated strategy for the years 2009-2012 , Basware targets a long-term net sales growth in the range of 20 % -40 % with an operating profit margin of 10 % -20 % of net sales .   \n",
       "\n",
       "                source  \\\n",
       "0  financialphrasebank   \n",
       "1  financialphrasebank   \n",
       "2  financialphrasebank   \n",
       "3  financialphrasebank   \n",
       "4  financialphrasebank   \n",
       "\n",
       "                                                                                                                                                                                                                 cleaned_sentence  \n",
       "0                                                                                                       according to gran the company has no plans to move all production to russia although that is where the company is growing  \n",
       "1                                              technopolis plans to develop in stages an area of no less than square meters in order to host companies working in computer technologies and telecommunications the statement said  \n",
       "2  the international electronic industry company elcoteq has laid off tens of employees from its tallinn facility contrary to earlier layoffs the company contracted the ranks of its office workers the daily postimees reported  \n",
       "3                    with the new production plant the company would increase its capacity to meet the expected increase in demand and would improve the use of raw materials and therefore increase the production profitability  \n",
       "4                                                           according to the company s updated strategy for the years basware targets a longterm net sales growth in the range of with an operating profit margin of of net sales  "
      ]
     },
     "execution_count": 167,
     "metadata": {},
     "output_type": "execute_result"
    }
   ],
   "source": [
    "## cleaning functions:\n",
    "### 1. lower case\n",
    "final_df['cleaned_sentence'] = final_df['sentence'].apply(lambda x: x.lower())\n",
    "\n",
    "### 2. remove punctuations\n",
    "final_df['cleaned_sentence'] = final_df['cleaned_sentence'].apply(lambda x: x.translate(str.maketrans('', '', string.punctuation)))\n",
    "\n",
    "### 3. remove numbers\n",
    "final_df['cleaned_sentence'] = final_df['cleaned_sentence'].apply(lambda x: re.sub(\" \\d+\", \" \", x))\n",
    "\n",
    "### 4. Clear whitespaces\n",
    "final_df['cleaned_sentence'] = final_df['cleaned_sentence'].apply(lambda x: re.sub(' +', ' ', x.lstrip().rstrip()))\n",
    "\n",
    "final_df.head()"
   ]
  },
  {
   "cell_type": "code",
   "execution_count": 19,
   "id": "ee228a15-0795-4ab2-9af0-fee61d643033",
   "metadata": {},
   "outputs": [],
   "source": [
    "from sklearn.base import TransformerMixin, BaseEstimator\n",
    "\n",
    "class TextPreprocessor(BaseEstimator, TransformerMixin):\n",
    "    \n",
    "    def __init__(self,n_jobs=-1):\n",
    "        self.n_jobs = n_jobs\n",
    "    \n",
    "    def fit(self, X,y):\n",
    "        return self\n",
    "    \n",
    "    def transform(self, X):\n",
    "        lower_case_text       = X.apply(lambda x:x.lower())\n",
    "        removed_punct_text    = lower_case_text.apply(lambda x: x.translate(str.maketrans('', '', string.punctuation)))\n",
    "        removed_numbers_text  = removed_punct_text.apply(lambda x: re.sub(\" \\d+\", \" \", x))\n",
    "        clear_whitespace_text = removed_numbers_text.apply(lambda x: re.sub(' +', ' ', x.lstrip().rstrip()))\n",
    "        return clear_whitespace_text"
   ]
  },
  {
   "cell_type": "code",
   "execution_count": 22,
   "id": "ec4c99aa-795a-4b38-926b-6aaf22292bca",
   "metadata": {},
   "outputs": [],
   "source": [
    "#split the data into train and test\n",
    "X_train, X_test, y_train, y_test = train_test_split(final_df.sentence, final_df.sentiment_label, \n",
    "                                                    test_size=0.2, random_state=42)"
   ]
  },
  {
   "cell_type": "code",
   "execution_count": 46,
   "id": "d3f768e6-81a6-49f5-b905-464e0c000a05",
   "metadata": {},
   "outputs": [],
   "source": [
    "##creating model pipeline\n",
    "from sklearn.feature_extraction.text import CountVectorizer\n",
    "from sklearn.feature_selection import chi2, SelectKBest, f_classif\n",
    "from sklearn.model_selection import GridSearchCV\n",
    "from sklearn.svm import SVC\n",
    "from sklearn.pipeline import Pipeline\n",
    "from sklearn.linear_model import LogisticRegression\n",
    "from sklearn.ensemble import RandomForestClassifier\n",
    "\n",
    "\n",
    "preprocessor = TextPreprocessor()\n",
    "\n",
    "vectorizer = CountVectorizer(analyzer      = 'word',\n",
    "                             token_pattern = r'\\S+',\n",
    "                             stop_words    = 'english',\n",
    "                             ngram_range   = (1,3),\n",
    "                             binary        = True)\n",
    "func = f_classif\n",
    "selector = SelectKBest(func, k=1000)\n",
    "\n",
    "svc_classifier = SVC( kernel       = 'rbf',\n",
    "                      C            =  100,\n",
    "                      random_state = 42)\n",
    "\n",
    "lr_classfier   = LogisticRegression(random_state=42, max_iter=400)\n",
    "\n",
    "pipe_lr = Pipeline([('prep', preprocessor),\n",
    "                    ('vec', vectorizer),\n",
    "                    ('sel', selector),\n",
    "                    ('clf',lr_classfier)\n",
    "                   ])\n",
    "\n",
    "pipe_svm = Pipeline([('prep', preprocessor),\n",
    "                    ('vec', vectorizer),\n",
    "                    ('sel', selector),\n",
    "                    ('clf',svc_classifier)\n",
    "                   ])\n"
   ]
  },
  {
   "cell_type": "code",
   "execution_count": 89,
   "id": "094b68f2-7c31-4ccf-a34d-142f4538d676",
   "metadata": {},
   "outputs": [
    {
     "data": {
      "text/plain": [
       "'C:\\\\Users\\\\musta\\\\Github\\\\Stanford_Assignments\\\\cs224u'"
      ]
     },
     "execution_count": 89,
     "metadata": {},
     "output_type": "execute_result"
    }
   ],
   "source": [
    "pwd"
   ]
  },
  {
   "cell_type": "code",
   "execution_count": 52,
   "id": "3da42d63-2faa-45bd-ad0a-01bf11b66010",
   "metadata": {},
   "outputs": [],
   "source": [
    "grid_params_lr = [{'clf__gamma': ['l1', 'l2'],\n",
    "                   'clf__C': [1.0, 0.5, 0.1],\n",
    "                   'clf__solver': ['liblinear'],\n",
    "                  \n",
    "                   'sel__k':[1000, 5000, 10000, 20000, 40000],\n",
    "                  \n",
    "                   'sel__score_func':[f_classif, chi2],\n",
    "                   \n",
    "                   'vec__ngram_range':[(1,3),(2,3),(1,2)],\n",
    "                   'vec__binary':[True, False]}] \n",
    "\n",
    "grid_params_svm = [{'clf__gamma': ['scale', 'auto'],\n",
    "                   'clf__C': [100, 10, 1.0, 0.1, 0.01],\n",
    "                  \n",
    "                   'sel__k':[1000, 5000, 10000, 20000, 40000],\n",
    "                  \n",
    "                   'sel__score_func':[chi2],\n",
    "                   \n",
    "                   'vec__ngram_range':[(1,3),(2,3),(1,2)],\n",
    "                   'vec__binary':[True, False]}] "
   ]
  },
  {
   "cell_type": "code",
   "execution_count": 53,
   "id": "f4f1f6fe-7aa0-439a-bb98-33f52bbee662",
   "metadata": {},
   "outputs": [],
   "source": [
    "LR_model = GridSearchCV(estimator  = pipe_lr,\n",
    "                        param_grid = grid_params_lr,\n",
    "                        scoring    = 'f1_macro',\n",
    "                        cv         = 5,\n",
    "                        n_jobs     = -1,\n",
    "                        verbose    = 2) \n",
    "\n",
    "SVC_model = GridSearchCV(estimator  = pipe_svm,\n",
    "                        param_grid = grid_params_svm,\n",
    "                        scoring    = 'f1_macro',\n",
    "                        cv         = 5,\n",
    "                        n_jobs     = -1,\n",
    "                        verbose    = 2) "
   ]
  },
  {
   "cell_type": "code",
   "execution_count": 49,
   "id": "bddf553c-3a1c-49f2-9c99-f2fc8cda53ff",
   "metadata": {
    "collapsed": true,
    "jupyter": {
     "outputs_hidden": true
    },
    "tags": []
   },
   "outputs": [
    {
     "name": "stdout",
     "output_type": "stream",
     "text": [
      "Fitting 5 folds for each of 360 candidates, totalling 1800 fits\n"
     ]
    },
    {
     "name": "stderr",
     "output_type": "stream",
     "text": [
      "C:\\Users\\musta\\AppData\\Local\\Continuum\\anaconda3\\envs\\nlu\\lib\\site-packages\\sklearn\\model_selection\\_search.py:918: UserWarning: One or more of the test scores are non-finite: [0.58598609 0.43949925 0.59871201 0.58712254 0.43913365 0.59906354\n",
      " 0.58578321 0.44153614 0.59855013 0.58569956 0.43861484 0.59585927\n",
      " 0.60964535 0.4451729  0.60678337 0.60465123 0.4357776  0.60208646\n",
      " 0.61000478 0.4432798  0.60668406 0.6069492  0.44057268 0.60406539\n",
      " 0.61136627 0.449364   0.61191195 0.60772723 0.44963585 0.61140749\n",
      " 0.61203186 0.44945112 0.61152703 0.60696173 0.44660854 0.6112579\n",
      " 0.6150648  0.451079   0.6127835  0.61646375 0.44901566 0.61451727\n",
      " 0.6150648  0.451079   0.6127835  0.61698982 0.44918767 0.61413331\n",
      " 0.61662925 0.45333529        nan 0.61649562 0.45271026        nan\n",
      " 0.61662925 0.45333529        nan 0.61619203 0.45329114        nan\n",
      " 0.58582774 0.44521264 0.596145   0.58475617 0.44256739 0.59770793\n",
      " 0.58576012 0.44521264 0.59632863 0.58118782 0.44328966 0.59713546\n",
      " 0.58018    0.43735026 0.57917342 0.57980033 0.43527965 0.57941138\n",
      " 0.57985828 0.43735026 0.5793971  0.58279368 0.43718529 0.58299502\n",
      " 0.55474068 0.44627321 0.58188606 0.55905101 0.44879613 0.58211668\n",
      " 0.55566444 0.4463889  0.58188606 0.55755561 0.44841745 0.57748028\n",
      " 0.54895376 0.43366491 0.57481921 0.55048452 0.43291011 0.57391623\n",
      " 0.54895376 0.43366491 0.57481921 0.55021128 0.43295642 0.57387443\n",
      " 0.55337731 0.44557295        nan 0.55402464 0.44239767        nan\n",
      " 0.55337731 0.44557295        nan 0.55339818 0.44180081        nan\n",
      " 0.56663957 0.39423611 0.5748493  0.56718529 0.39813036 0.57887421\n",
      " 0.56612524 0.39423611 0.57511024 0.56714402 0.39783205 0.58049009\n",
      " 0.58055101 0.39547993 0.57916516 0.58118308 0.39657738 0.58067586\n",
      " 0.58035831 0.39547993 0.57897246 0.58183332 0.39701007 0.58039845\n",
      " 0.58156518 0.39776785 0.57829149 0.58489843 0.40072969 0.58182423\n",
      " 0.58222653 0.39727047 0.57829149 0.58601478 0.39866492 0.58094302\n",
      " 0.57843286 0.39507268 0.5782728  0.58367516 0.40130379 0.5825801\n",
      " 0.57843286 0.39507268 0.5782728  0.58206863 0.39790708 0.58307934\n",
      " 0.57914468 0.39482641        nan 0.58366303 0.39971393        nan\n",
      " 0.57914468 0.39482641        nan 0.58366303 0.40116556        nan\n",
      " 0.57514916 0.4233065  0.5834888  0.5721537  0.42418037 0.58375159\n",
      " 0.5747782  0.4233065  0.58398903 0.57529753 0.42439912 0.58152665\n",
      " 0.56828211 0.4174762  0.57566233 0.57050813 0.41857741 0.57376298\n",
      " 0.568886   0.41769243 0.57625911 0.57174846 0.41942769 0.573047\n",
      " 0.55294956 0.43461446 0.5725888  0.55478014 0.43394336 0.57221411\n",
      " 0.55356845 0.43468509 0.57272222 0.55326371 0.43481229 0.57432888\n",
      " 0.55083475 0.42829707 0.57248754 0.55149816 0.42805945 0.57250976\n",
      " 0.55086611 0.42829707 0.57248754 0.55045587 0.42844492 0.57235651\n",
      " 0.54882568 0.43808355        nan 0.55002496 0.43820492        nan\n",
      " 0.54882568 0.43808355        nan 0.55138758 0.43829997        nan\n",
      " 0.42627204 0.29105907 0.42444494 0.42512196 0.30565561 0.42524707\n",
      " 0.42780368 0.29105907 0.42453825 0.42430161 0.30565561 0.42458642\n",
      " 0.42412738 0.29105907 0.42387632 0.42455298 0.30565561 0.42524707\n",
      " 0.42412738 0.29105907 0.42387632 0.42455298 0.30565561 0.42524707\n",
      " 0.42412738 0.29105907 0.42398899 0.42455298 0.30565561 0.42524707\n",
      " 0.42412738 0.29105907 0.42398899 0.42455298 0.30565561 0.42528474\n",
      " 0.42384508 0.29105907 0.42398899 0.42455298 0.30565561 0.42528474\n",
      " 0.42384508 0.29105907 0.42398899 0.42459065 0.30565561 0.42528474\n",
      " 0.42384508 0.29105907        nan 0.42459065 0.30565561        nan\n",
      " 0.42384508 0.29105907        nan 0.42459065 0.30565561        nan\n",
      " 0.50952041 0.36454542 0.51424861 0.50550936 0.36930884 0.51463102\n",
      " 0.50916929 0.364197   0.51346371 0.50672757 0.37113709 0.51758212\n",
      " 0.51008289 0.36494074 0.51554555 0.50916055 0.3689962  0.51196905\n",
      " 0.51029605 0.36494074 0.51568323 0.50927419 0.36950375 0.51263784\n",
      " 0.50058686 0.37586655 0.52343396 0.50098066 0.37906578 0.52141765\n",
      " 0.49963699 0.37652415 0.52343396 0.50378193 0.37933743 0.52159252\n",
      " 0.4992411  0.37226818 0.52177677 0.50035444 0.37383558 0.52119944\n",
      " 0.4992411  0.37226818 0.52177677 0.50048308 0.37339331 0.52196901\n",
      " 0.50161108 0.38923818        nan 0.50704775 0.39309414        nan\n",
      " 0.50161108 0.38923818        nan 0.50814693 0.39309414        nan]\n",
      "  warnings.warn(\n"
     ]
    },
    {
     "data": {
      "text/plain": [
       "GridSearchCV(cv=5,\n",
       "             estimator=Pipeline(steps=[('prep', TextPreprocessor()),\n",
       "                                       ('vec',\n",
       "                                        CountVectorizer(binary=True,\n",
       "                                                        ngram_range=(1, 3),\n",
       "                                                        stop_words='english',\n",
       "                                                        token_pattern='\\\\S+')),\n",
       "                                       ('sel', SelectKBest(k=1000)),\n",
       "                                       ('clf',\n",
       "                                        LogisticRegression(max_iter=400,\n",
       "                                                           random_state=42))]),\n",
       "             n_jobs=-1,\n",
       "             param_grid=[{'clf__C': [1.0, 0.5, 0.1],\n",
       "                          'clf__penalty': ['l1', 'l2'],\n",
       "                          'clf__solver': ['liblinear'],\n",
       "                          'sel__k': [1000, 5000, 10000, 20000, 40000],\n",
       "                          'sel__score_func': [<function f_classif at 0x0000026C1394F670>,\n",
       "                                              <function chi2 at 0x0000026C1394F4C0>],\n",
       "                          'vec__binary': [True, False],\n",
       "                          'vec__ngram_range': [(1, 3), (2, 3), (1, 2)]}],\n",
       "             scoring='f1_macro', verbose=2)"
      ]
     },
     "execution_count": 49,
     "metadata": {},
     "output_type": "execute_result"
    }
   ],
   "source": [
    "LR_model.fit(X_train, y_train)\n"
   ]
  },
  {
   "cell_type": "code",
   "execution_count": 50,
   "id": "d4ec912d-c3dd-44b3-bb59-be1d953ea9e3",
   "metadata": {},
   "outputs": [
    {
     "name": "stdout",
     "output_type": "stream",
     "text": [
      "Best params are : {'clf__C': 1.0, 'clf__penalty': 'l1', 'clf__solver': 'liblinear', 'sel__k': 20000, 'sel__score_func': <function chi2 at 0x0000026C1394F4C0>, 'vec__binary': False, 'vec__ngram_range': (1, 3)}\n",
      "Best training f1_macro: 0.617\n"
     ]
    }
   ],
   "source": [
    "print('Best params are : %s' % LR_model.best_params_)\n",
    "# Best training data accuracy\n",
    "print('Best training f1_macro: %.3f' % LR_model.best_score_)\n",
    "# Predict on test data with best params\n",
    "y_pred = LR_model.predict(X_test)"
   ]
  },
  {
   "cell_type": "code",
   "execution_count": 64,
   "id": "78a254a8-ffcd-4ee9-9b35-43a2bb7acd30",
   "metadata": {},
   "outputs": [
    {
     "name": "stdout",
     "output_type": "stream",
     "text": [
      "              precision    recall  f1-score   support\n",
      "\n",
      "    negative       0.65      0.44      0.53       205\n",
      "     neutral       0.72      0.83      0.77       713\n",
      "    positive       0.67      0.60      0.63       378\n",
      "\n",
      "    accuracy                           0.70      1296\n",
      "   macro avg       0.68      0.62      0.64      1296\n",
      "weighted avg       0.70      0.70      0.69      1296\n",
      "\n"
     ]
    }
   ],
   "source": [
    "print(classification_report(y_test, y_pred))"
   ]
  },
  {
   "cell_type": "code",
   "execution_count": 75,
   "id": "e712c893-2a1c-4661-8600-b3de43ffc3aa",
   "metadata": {},
   "outputs": [],
   "source": [
    "best_lr_vectorizer = CountVectorizer(analyzer      = 'word',\n",
    "                                     token_pattern = r'\\S+',\n",
    "                                     stop_words    = 'english',\n",
    "                                     ngram_range   = (1,3),\n",
    "                                     binary        = False)\n",
    "best_lr_func = chi2\n",
    "best_lr_selector = SelectKBest(func, k=20000)\n",
    "best_lr_model = LogisticRegression(C=1.0, penalty='l1', solver='liblinear')\n",
    "\n",
    "best_lr_pipe = Pipeline([('prep', preprocessor),\n",
    "                    ('vec', best_lr_vectorizer),\n",
    "                    ('sel', best_lr_selector),\n",
    "                    ('clf',best_lr_model)\n",
    "                   ])"
   ]
  },
  {
   "cell_type": "code",
   "execution_count": 76,
   "id": "5616489e-3073-4fb7-8c16-258476e8d6a8",
   "metadata": {},
   "outputs": [
    {
     "data": {
      "text/plain": [
       "Pipeline(steps=[('prep', TextPreprocessor()),\n",
       "                ('vec',\n",
       "                 CountVectorizer(ngram_range=(1, 3), stop_words='english',\n",
       "                                 token_pattern='\\\\S+')),\n",
       "                ('sel', SelectKBest(k=20000)),\n",
       "                ('clf', LogisticRegression(penalty='l1', solver='liblinear'))])"
      ]
     },
     "execution_count": 76,
     "metadata": {},
     "output_type": "execute_result"
    }
   ],
   "source": [
    "best_lr_pipe.fit(X_train, y_train)"
   ]
  },
  {
   "cell_type": "code",
   "execution_count": 77,
   "id": "4ee5bce6-7255-4149-a3da-98a8ea3804cd",
   "metadata": {},
   "outputs": [],
   "source": [
    "y_pred_lr = best_lr_pipe.predict(X_test)"
   ]
  },
  {
   "cell_type": "code",
   "execution_count": 79,
   "id": "cee8409e-0535-40c3-8d0c-f81259380db9",
   "metadata": {},
   "outputs": [
    {
     "name": "stdout",
     "output_type": "stream",
     "text": [
      "              precision    recall  f1-score   support\n",
      "\n",
      "    negative       0.64      0.44      0.52       205\n",
      "     neutral       0.72      0.83      0.77       713\n",
      "    positive       0.66      0.59      0.63       378\n",
      "\n",
      "    accuracy                           0.70      1296\n",
      "   macro avg       0.68      0.62      0.64      1296\n",
      "weighted avg       0.69      0.70      0.69      1296\n",
      "\n"
     ]
    }
   ],
   "source": [
    "print(classification_report(y_test, y_pred_lr))"
   ]
  },
  {
   "cell_type": "code",
   "execution_count": 80,
   "id": "ca436dbf-a662-4bc7-a3d2-ed3e2b8fada8",
   "metadata": {},
   "outputs": [],
   "source": [
    "import pickle\n",
    "pickle.dump(best_lr_pipe, open('LR_model.pkl', 'wb'))\n"
   ]
  },
  {
   "cell_type": "code",
   "execution_count": 81,
   "id": "3fd7646a-5833-4851-8a59-bac2abf9193b",
   "metadata": {
    "collapsed": true,
    "jupyter": {
     "outputs_hidden": true
    },
    "tags": []
   },
   "outputs": [
    {
     "name": "stdout",
     "output_type": "stream",
     "text": [
      "Fitting 5 folds for each of 300 candidates, totalling 1500 fits\n"
     ]
    },
    {
     "name": "stderr",
     "output_type": "stream",
     "text": [
      "C:\\Users\\musta\\AppData\\Local\\Continuum\\anaconda3\\envs\\nlu\\lib\\site-packages\\sklearn\\model_selection\\_search.py:918: UserWarning: One or more of the test scores are non-finite: [0.57020256 0.44976561 0.56954104 0.5526227  0.4520655  0.54703894\n",
      " 0.54041575 0.44690291 0.53394963 0.52914295 0.44827025 0.51961383\n",
      " 0.51628592 0.45140654 0.53298371 0.50680402 0.44491202 0.52723015\n",
      " 0.48471948 0.43644467 0.4972764  0.47654359 0.43317267 0.49907072\n",
      " 0.4492967  0.42343758        nan 0.45942158 0.42461159        nan\n",
      " 0.56231385 0.39941061 0.57683236 0.5589471  0.39972502 0.56752086\n",
      " 0.45796535 0.34481934 0.4621086  0.45848251 0.34643303 0.46175982\n",
      " 0.40181448 0.32119917 0.40852124 0.4009158  0.32735322 0.4045213\n",
      " 0.34469108 0.28837529 0.32332403 0.35501575 0.28826474 0.33674523\n",
      " 0.29465893 0.25481427        nan 0.30339969 0.2689945         nan\n",
      " 0.57133706 0.44976561 0.58470375 0.55796079 0.4520655  0.57005902\n",
      " 0.55214939 0.4473803  0.54792401 0.53306771 0.44837658 0.52969582\n",
      " 0.52015928 0.45039241 0.53114965 0.51082819 0.44482477 0.5235905\n",
      " 0.48280719 0.43589771 0.49810209 0.47325643 0.43331733 0.49883693\n",
      " 0.44965222 0.42044493        nan 0.45690823 0.422565          nan\n",
      " 0.38785384 0.31690829 0.39090783 0.38513042 0.32193015 0.38912644\n",
      " 0.28320217 0.2385667  0.27974273 0.29233657 0.27688637 0.29349436\n",
      " 0.2381994  0.22806129 0.23329558 0.27567449 0.2329856  0.27674762\n",
      " 0.22806129 0.22806129 0.22806129 0.24217151 0.22806129 0.23559915\n",
      " 0.22806129 0.22806129        nan 0.22849678 0.22806129        nan\n",
      " 0.56991977 0.45057364 0.5721145  0.54309498 0.45308123 0.54528826\n",
      " 0.53641536 0.44631551 0.53504833 0.51770056 0.44552001 0.5099205\n",
      " 0.51047957 0.43721236 0.50385892 0.49624274 0.43065477 0.4945224\n",
      " 0.45702185 0.42286228 0.47274359 0.44649597 0.41767312 0.4663675\n",
      " 0.43092751 0.39818859        nan 0.42891881 0.39896671        nan\n",
      " 0.23773822 0.22806129 0.23286136 0.27428247 0.2329856  0.27572539\n",
      " 0.22806129 0.22806129 0.22806129 0.22806129 0.22806129 0.22806129\n",
      " 0.22806129 0.22806129 0.22806129 0.22806129 0.22806129 0.22806129\n",
      " 0.22806129 0.22806129 0.22806129 0.22806129 0.22806129 0.22806129\n",
      " 0.22806129 0.22806129        nan 0.22806129 0.22806129        nan\n",
      " 0.30675564 0.38107799 0.24877469 0.25905467 0.34514324 0.25216753\n",
      " 0.35176149 0.37239251 0.35897033 0.33097115 0.37109704 0.33637142\n",
      " 0.37922548 0.37732381 0.3456138  0.33511496 0.37206938 0.32227882\n",
      " 0.34461442 0.35340011 0.33695256 0.33678291 0.34861071 0.3335907\n",
      " 0.32636633 0.30918035        nan 0.32599418 0.30807498        nan\n",
      " 0.22806129 0.22806129 0.22806129 0.22806129 0.22806129 0.22806129\n",
      " 0.22806129 0.22806129 0.22806129 0.22806129 0.22806129 0.22806129\n",
      " 0.22806129 0.22806129 0.22806129 0.22806129 0.22806129 0.22806129\n",
      " 0.22806129 0.22806129 0.22806129 0.22806129 0.22806129 0.22806129\n",
      " 0.22806129 0.22806129        nan 0.22806129 0.22806129        nan\n",
      " 0.22806129 0.26558769 0.22806129 0.22806129 0.22806129 0.22806129\n",
      " 0.22806129 0.33763349 0.22806129 0.22806129 0.34057467 0.22806129\n",
      " 0.22973042 0.34691476 0.22806129 0.22806129 0.33643998 0.22806129\n",
      " 0.28626786 0.34578531 0.22806129 0.2545141  0.34226175 0.22806129\n",
      " 0.22806129 0.22806129        nan 0.22806129 0.22806129        nan\n",
      " 0.22806129 0.22806129 0.22806129 0.22806129 0.22806129 0.22806129\n",
      " 0.22806129 0.22806129 0.22806129 0.22806129 0.22806129 0.22806129\n",
      " 0.22806129 0.22806129 0.22806129 0.22806129 0.22806129 0.22806129\n",
      " 0.22806129 0.22806129 0.22806129 0.22806129 0.22806129 0.22806129\n",
      " 0.22806129 0.22806129        nan 0.22806129 0.22806129        nan]\n",
      "  warnings.warn(\n"
     ]
    },
    {
     "name": "stdout",
     "output_type": "stream",
     "text": [
      "Wall time: 12min 34s\n"
     ]
    },
    {
     "data": {
      "text/plain": [
       "GridSearchCV(cv=5,\n",
       "             estimator=Pipeline(steps=[('prep', TextPreprocessor()),\n",
       "                                       ('vec',\n",
       "                                        CountVectorizer(binary=True,\n",
       "                                                        ngram_range=(1, 3),\n",
       "                                                        stop_words='english',\n",
       "                                                        token_pattern='\\\\S+')),\n",
       "                                       ('sel', SelectKBest(k=1000)),\n",
       "                                       ('clf', SVC(C=100, random_state=42))]),\n",
       "             n_jobs=-1,\n",
       "             param_grid=[{'clf__C': [100, 10, 1.0, 0.1, 0.01],\n",
       "                          'clf__gamma': ['scale', 'auto'],\n",
       "                          'sel__k': [1000, 5000, 10000, 20000, 40000],\n",
       "                          'sel__score_func': [<function chi2 at 0x0000026C1394F4C0>],\n",
       "                          'vec__binary': [True, False],\n",
       "                          'vec__ngram_range': [(1, 3), (2, 3), (1, 2)]}],\n",
       "             scoring='f1_macro', verbose=2)"
      ]
     },
     "execution_count": 81,
     "metadata": {},
     "output_type": "execute_result"
    }
   ],
   "source": [
    "%%time\n",
    "SVC_model.fit(X_train, y_train)\n"
   ]
  },
  {
   "cell_type": "code",
   "execution_count": 82,
   "id": "01a3f41a-256a-4ec0-b561-9c7e55c6b6b8",
   "metadata": {},
   "outputs": [
    {
     "name": "stdout",
     "output_type": "stream",
     "text": [
      "Best params are : {'clf__C': 10, 'clf__gamma': 'scale', 'sel__k': 1000, 'sel__score_func': <function chi2 at 0x0000026C1394F4C0>, 'vec__binary': True, 'vec__ngram_range': (1, 2)}\n",
      "Best training f1_macro: 0.585\n"
     ]
    }
   ],
   "source": [
    "print('Best params are : %s' % SVC_model.best_params_)\n",
    "# Best training data accuracy\n",
    "print('Best training f1_macro: %.3f' % SVC_model.best_score_)\n",
    "# Predict on test data with best params\n",
    "y_pred = SVC_model.predict(X_test)"
   ]
  },
  {
   "cell_type": "code",
   "execution_count": 85,
   "id": "0bc847da-2ab9-4289-b598-40be50abe8b9",
   "metadata": {},
   "outputs": [
    {
     "data": {
      "text/plain": [
       "Pipeline(steps=[('prep', TextPreprocessor()),\n",
       "                ('vec',\n",
       "                 CountVectorizer(binary=True, ngram_range=(1, 2),\n",
       "                                 stop_words='english', token_pattern='\\\\S+')),\n",
       "                ('sel', SelectKBest(k=1000)),\n",
       "                ('clf', SVC(C=10, random_state=42))])"
      ]
     },
     "execution_count": 85,
     "metadata": {},
     "output_type": "execute_result"
    }
   ],
   "source": [
    "best_svc_vectorizer = CountVectorizer(analyzer      = 'word',\n",
    "                                     token_pattern = r'\\S+',\n",
    "                                     stop_words    = 'english',\n",
    "                                     ngram_range   = (1,2),\n",
    "                                     binary        = True)\n",
    "best_svc_func = chi2\n",
    "best_svc_selector = SelectKBest(func, k=1000)\n",
    "best_svc_model = SVC( kernel       = 'rbf',\n",
    "                      C            =  10,\n",
    "                      gamma        = 'scale',\n",
    "                      random_state = 42)\n",
    "\n",
    "best_svc_pipe = Pipeline([('prep', preprocessor),\n",
    "                    ('vec', best_svc_vectorizer),\n",
    "                    ('sel', best_svc_selector),\n",
    "                    ('clf',best_svc_model)\n",
    "                   ])\n",
    "\n",
    "best_svc_pipe.fit(X_train, y_train)"
   ]
  },
  {
   "cell_type": "code",
   "execution_count": 86,
   "id": "3a30e67f-3923-4cc9-bb5e-06e3745e1d50",
   "metadata": {},
   "outputs": [
    {
     "name": "stdout",
     "output_type": "stream",
     "text": [
      "              precision    recall  f1-score   support\n",
      "\n",
      "    negative       0.57      0.47      0.51       205\n",
      "     neutral       0.72      0.80      0.76       713\n",
      "    positive       0.61      0.54      0.57       378\n",
      "\n",
      "    accuracy                           0.67      1296\n",
      "   macro avg       0.63      0.60      0.61      1296\n",
      "weighted avg       0.66      0.67      0.66      1296\n",
      "\n"
     ]
    }
   ],
   "source": [
    "y_pred_svc = best_svc_pipe.predict(X_test)\n",
    "print(classification_report(y_test, y_pred_svc))"
   ]
  },
  {
   "cell_type": "code",
   "execution_count": 87,
   "id": "5ae5e264-79d6-4838-ab1e-0900a627a949",
   "metadata": {},
   "outputs": [],
   "source": [
    "pickle.dump(best_svc_pipe, open('SVC_model.pkl', 'wb'))\n"
   ]
  },
  {
   "cell_type": "code",
   "execution_count": null,
   "id": "4b9314ad-308e-4a56-a6e5-edcf5455a6e0",
   "metadata": {},
   "outputs": [],
   "source": []
  }
 ],
 "metadata": {
  "kernelspec": {
   "display_name": "nlu",
   "language": "python",
   "name": "nlu"
  },
  "language_info": {
   "codemirror_mode": {
    "name": "ipython",
    "version": 3
   },
   "file_extension": ".py",
   "mimetype": "text/x-python",
   "name": "python",
   "nbconvert_exporter": "python",
   "pygments_lexer": "ipython3",
   "version": "3.8.8"
  }
 },
 "nbformat": 4,
 "nbformat_minor": 5
}
