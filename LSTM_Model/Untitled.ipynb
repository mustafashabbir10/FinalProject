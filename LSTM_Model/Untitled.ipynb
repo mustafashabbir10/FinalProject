{
 "cells": [
  {
   "cell_type": "code",
   "execution_count": 4,
   "id": "0c64e1ad-1f65-4a1d-ae44-3b160094eca9",
   "metadata": {},
   "outputs": [],
   "source": [
    "import torch\n",
    "from torchtext.legacy import data\n",
    "import pandas as pd\n",
    "import os\n",
    "import torch.nn as nn\n",
    "import time\n",
    "from utils import count_parameters\n",
    "import torch.optim as optim\n",
    "import random\n",
    "\n",
    "\n",
    "SEED= 1234\n",
    "torch.manual_seed(SEED)\n",
    "torch.backends.cudnn.deterministic = True\n",
    "\n",
    "device = torch.device('cuda' if torch.cuda.is_available() else 'cpu')"
   ]
  },
  {
   "cell_type": "code",
   "execution_count": 5,
   "id": "1007b2ba-69d0-419d-a105-f02e4d8b91b3",
   "metadata": {},
   "outputs": [
    {
     "data": {
      "text/plain": [
       "device(type='cpu')"
      ]
     },
     "execution_count": 5,
     "metadata": {},
     "output_type": "execute_result"
    }
   ],
   "source": [
    "device"
   ]
  },
  {
   "cell_type": "markdown",
   "id": "603fc079-2f33-42d0-a01f-e937c80ace4c",
   "metadata": {},
   "source": [
    "### Load Data"
   ]
  },
  {
   "cell_type": "code",
   "execution_count": 6,
   "id": "ba4efa6b-09ee-408e-bf13-3a1d6c59f596",
   "metadata": {},
   "outputs": [
    {
     "name": "stdout",
     "output_type": "stream",
     "text": [
      "Unique tokens in TEXT vocabulary: 9990\n",
      "Unique tokens in LABEL vocabulary: 3\n",
      "[('the', 3882), (',', 3215), ('.', 3049), ('of', 2207), ('in', 2051), ('to', 1944), ('and', 1759), ('-', 1314), ('a', 1098), ('for', 896), (\"'s\", 831), ('eur', 653), ('is', 601), ('will', 565), ('company', 557), ('from', 528), ('on', 527), ('as', 483), ('with', 449), ('its', 429)]\n"
     ]
    }
   ],
   "source": [
    "from load_data import load_dataset\n",
    "TEXT, LABEL, vocab_size,  train_iter, valid_iter, test_iter = load_dataset()"
   ]
  },
  {
   "cell_type": "code",
   "execution_count": 7,
   "id": "204c6a9a-c193-49da-94a7-dc64417513cf",
   "metadata": {},
   "outputs": [
    {
     "name": "stdout",
     "output_type": "stream",
     "text": [
      "Training Size: 4146\n",
      "Validation Size: 1037\n",
      "Test Size: 1296\n"
     ]
    }
   ],
   "source": [
    "print('Training Size: %d'%len(train_iter.dataset.examples))\n",
    "print('Validation Size: %d'%len(valid_iter.dataset.examples))\n",
    "print('Test Size: %d'%len(test_iter.dataset.examples))"
   ]
  },
  {
   "cell_type": "code",
   "execution_count": 8,
   "id": "b6140fd5-0dab-4b48-b04b-14808b8cc158",
   "metadata": {},
   "outputs": [
    {
     "name": "stdout",
     "output_type": "stream",
     "text": [
      "Training Label count:\n",
      "{'positive': 1321, 'negative': 688, 'neutral': 2137}\n",
      "###############\n",
      "Validation Label count:\n",
      "{'positive': 317, 'negative': 162, 'neutral': 558}\n",
      "###############\n",
      "Test Label count:\n",
      "{'positive': 378, 'negative': 205, 'neutral': 713}\n"
     ]
    }
   ],
   "source": [
    "train_label_count_dict = {'positive':0, 'negative':0, 'neutral':0}\n",
    "for lab in train_iter.dataset.examples:\n",
    "    train_label_count_dict[lab.label]+=1\n",
    "print('Training Label count:')\n",
    "print(train_label_count_dict)\n",
    "\n",
    "print('###############')\n",
    "val_label_count_dict = {'positive':0, 'negative':0, 'neutral':0}\n",
    "for lab in valid_iter.dataset.examples:\n",
    "    val_label_count_dict[lab.label]+=1\n",
    "print('Validation Label count:')\n",
    "print(val_label_count_dict)\n",
    "\n",
    "print('###############')\n",
    "test_label_count_dict = {'positive':0, 'negative':0, 'neutral':0}\n",
    "for lab in test_iter.dataset.examples:\n",
    "    test_label_count_dict[lab.label]+=1\n",
    "print('Test Label count:')\n",
    "print(test_label_count_dict)"
   ]
  },
  {
   "cell_type": "markdown",
   "id": "2a97a881-29a0-4fa2-9ae1-62438b3a73db",
   "metadata": {},
   "source": [
    "### RNN"
   ]
  },
  {
   "cell_type": "code",
   "execution_count": 9,
   "id": "9e441c46-82b5-4861-9c6f-20d7b568707a",
   "metadata": {},
   "outputs": [
    {
     "name": "stdout",
     "output_type": "stream",
     "text": [
      "The model has 1,091,419 trainable parameters\n"
     ]
    }
   ],
   "source": [
    "from RNN import RNN\n",
    "INPUT_DIM = len(TEXT.vocab)\n",
    "EMBEDDING_DIM = 100\n",
    "HIDDEN_DIM = 256\n",
    "OUTPUT_DIM = 3\n",
    "\n",
    "model = RNN(INPUT_DIM, EMBEDDING_DIM, HIDDEN_DIM, OUTPUT_DIM)\n",
    "model.to(device)\n",
    "criterion = nn.CrossEntropyLoss(reduction='mean').to(device)\n",
    "optimizer = optim.SGD(model.parameters(), lr=1e-3)\n",
    "\n",
    "print(f'The model has {count_parameters(model):,} trainable parameters')"
   ]
  },
  {
   "cell_type": "markdown",
   "id": "3d18e21c-61f8-4991-930d-829fec951654",
   "metadata": {},
   "source": [
    "##### Training RNN"
   ]
  },
  {
   "cell_type": "code",
   "execution_count": 10,
   "id": "d7b40390-bf45-4081-ab00-c23d794b73a9",
   "metadata": {},
   "outputs": [
    {
     "name": "stdout",
     "output_type": "stream",
     "text": [
      "\n",
      "[torchtext.legacy.data.batch.Batch of size 64]\n",
      "\t[.sentence]:[torch.LongTensor of size 17x64]\n",
      "\t[.label]:[torch.LongTensor of size 64]\n"
     ]
    }
   ],
   "source": [
    "for batch in train_iter:\n",
    "    print(batch)\n",
    "    break"
   ]
  },
  {
   "cell_type": "code",
   "execution_count": 31,
   "id": "e8bdce52-964b-45e4-9254-849cec1721e1",
   "metadata": {},
   "outputs": [
    {
     "data": {
      "text/plain": [
       "'positive'"
      ]
     },
     "execution_count": 31,
     "metadata": {},
     "output_type": "execute_result"
    }
   ],
   "source": [
    "batch.dataset.examples[0].label"
   ]
  },
  {
   "cell_type": "code",
   "execution_count": null,
   "id": "fbca9290-c34d-46c9-8ab5-345e65740645",
   "metadata": {
    "collapsed": true,
    "jupyter": {
     "outputs_hidden": true
    },
    "tags": []
   },
   "outputs": [
    {
     "name": "stderr",
     "output_type": "stream",
     "text": [
      "ERROR:root:Internal Python error in the inspect module.\n",
      "Below is the traceback from this internal error.\n",
      "\n",
      "ERROR:root:Internal Python error in the inspect module.\n",
      "Below is the traceback from this internal error.\n",
      "\n"
     ]
    },
    {
     "name": "stdout",
     "output_type": "stream",
     "text": [
      "Traceback (most recent call last):\n",
      "  File \"C:\\Users\\musta\\AppData\\Local\\Continuum\\anaconda3\\envs\\nlu\\lib\\site-packages\\IPython\\core\\interactiveshell.py\", line 3437, in run_code\n",
      "    exec(code_obj, self.user_global_ns, self.user_ns)\n",
      "  File \"<ipython-input-6-0e70ecdad598>\", line 10, in <module>\n",
      "    train_loss, train_macro_f1 = train(model, train_iter, optimizer, criterion, macro_f1)\n",
      "  File \"C:\\Users\\musta\\Github\\FinalProject\\LSTM_Model\\utils.py\", line 39, in train\n",
      "    predictions = model(batch.sentence).squeeze(1)\n",
      "KeyboardInterrupt\n",
      "\n",
      "During handling of the above exception, another exception occurred:\n",
      "\n",
      "Traceback (most recent call last):\n",
      "  File \"C:\\Users\\musta\\AppData\\Local\\Continuum\\anaconda3\\envs\\nlu\\lib\\site-packages\\IPython\\core\\interactiveshell.py\", line 2061, in showtraceback\n",
      "    stb = value._render_traceback_()\n",
      "AttributeError: 'KeyboardInterrupt' object has no attribute '_render_traceback_'\n",
      "\n",
      "During handling of the above exception, another exception occurred:\n",
      "\n",
      "Traceback (most recent call last):\n",
      "  File \"C:\\Users\\musta\\AppData\\Local\\Continuum\\anaconda3\\envs\\nlu\\lib\\site-packages\\IPython\\core\\ultratb.py\", line 1101, in get_records\n",
      "    return _fixed_getinnerframes(etb, number_of_lines_of_context, tb_offset)\n",
      "  File \"C:\\Users\\musta\\AppData\\Local\\Continuum\\anaconda3\\envs\\nlu\\lib\\site-packages\\IPython\\core\\ultratb.py\", line 248, in wrapped\n",
      "    return f(*args, **kwargs)\n",
      "  File \"C:\\Users\\musta\\AppData\\Local\\Continuum\\anaconda3\\envs\\nlu\\lib\\site-packages\\IPython\\core\\ultratb.py\", line 281, in _fixed_getinnerframes\n",
      "    records = fix_frame_records_filenames(inspect.getinnerframes(etb, context))\n",
      "  File \"C:\\Users\\musta\\AppData\\Local\\Continuum\\anaconda3\\envs\\nlu\\lib\\inspect.py\", line 1515, in getinnerframes\n",
      "    frameinfo = (tb.tb_frame,) + getframeinfo(tb, context)\n",
      "  File \"C:\\Users\\musta\\AppData\\Local\\Continuum\\anaconda3\\envs\\nlu\\lib\\inspect.py\", line 1473, in getframeinfo\n",
      "    filename = getsourcefile(frame) or getfile(frame)\n",
      "  File \"C:\\Users\\musta\\AppData\\Local\\Continuum\\anaconda3\\envs\\nlu\\lib\\inspect.py\", line 708, in getsourcefile\n",
      "    if getattr(getmodule(object, filename), '__loader__', None) is not None:\n",
      "  File \"C:\\Users\\musta\\AppData\\Local\\Continuum\\anaconda3\\envs\\nlu\\lib\\inspect.py\", line 751, in getmodule\n",
      "    f = getabsfile(module)\n",
      "  File \"C:\\Users\\musta\\AppData\\Local\\Continuum\\anaconda3\\envs\\nlu\\lib\\inspect.py\", line 720, in getabsfile\n",
      "    _filename = getsourcefile(object) or getfile(object)\n",
      "  File \"C:\\Users\\musta\\AppData\\Local\\Continuum\\anaconda3\\envs\\nlu\\lib\\inspect.py\", line 705, in getsourcefile\n",
      "    if os.path.exists(filename):\n",
      "  File \"C:\\Users\\musta\\AppData\\Local\\Continuum\\anaconda3\\envs\\nlu\\lib\\genericpath.py\", line 19, in exists\n",
      "    os.stat(path)\n",
      "KeyboardInterrupt\n",
      "Traceback (most recent call last):\n",
      "  File \"C:\\Users\\musta\\AppData\\Local\\Continuum\\anaconda3\\envs\\nlu\\lib\\site-packages\\IPython\\core\\interactiveshell.py\", line 3437, in run_code\n",
      "    exec(code_obj, self.user_global_ns, self.user_ns)\n",
      "  File \"<ipython-input-6-0e70ecdad598>\", line 10, in <module>\n",
      "    train_loss, train_macro_f1 = train(model, train_iter, optimizer, criterion, macro_f1)\n",
      "  File \"C:\\Users\\musta\\Github\\FinalProject\\LSTM_Model\\utils.py\", line 39, in train\n",
      "    predictions = model(batch.sentence).squeeze(1)\n",
      "KeyboardInterrupt\n",
      "\n",
      "During handling of the above exception, another exception occurred:\n",
      "\n",
      "Traceback (most recent call last):\n",
      "  File \"C:\\Users\\musta\\AppData\\Local\\Continuum\\anaconda3\\envs\\nlu\\lib\\site-packages\\IPython\\core\\interactiveshell.py\", line 2061, in showtraceback\n",
      "    stb = value._render_traceback_()\n",
      "AttributeError: 'KeyboardInterrupt' object has no attribute '_render_traceback_'\n",
      "\n",
      "During handling of the above exception, another exception occurred:\n",
      "\n",
      "Traceback (most recent call last):\n",
      "  File \"C:\\Users\\musta\\AppData\\Local\\Continuum\\anaconda3\\envs\\nlu\\lib\\site-packages\\IPython\\core\\interactiveshell.py\", line 3357, in run_ast_nodes\n",
      "    if (await self.run_code(code, result,  async_=asy)):\n",
      "  File \"C:\\Users\\musta\\AppData\\Local\\Continuum\\anaconda3\\envs\\nlu\\lib\\site-packages\\IPython\\core\\interactiveshell.py\", line 3454, in run_code\n",
      "    self.showtraceback(running_compiled_code=True)\n",
      "  File \"C:\\Users\\musta\\AppData\\Local\\Continuum\\anaconda3\\envs\\nlu\\lib\\site-packages\\IPython\\core\\interactiveshell.py\", line 2063, in showtraceback\n",
      "    stb = self.InteractiveTB.structured_traceback(etype,\n",
      "  File \"C:\\Users\\musta\\AppData\\Local\\Continuum\\anaconda3\\envs\\nlu\\lib\\site-packages\\IPython\\core\\ultratb.py\", line 1367, in structured_traceback\n",
      "    return FormattedTB.structured_traceback(\n",
      "  File \"C:\\Users\\musta\\AppData\\Local\\Continuum\\anaconda3\\envs\\nlu\\lib\\site-packages\\IPython\\core\\ultratb.py\", line 1267, in structured_traceback\n",
      "    return VerboseTB.structured_traceback(\n",
      "  File \"C:\\Users\\musta\\AppData\\Local\\Continuum\\anaconda3\\envs\\nlu\\lib\\site-packages\\IPython\\core\\ultratb.py\", line 1124, in structured_traceback\n",
      "    formatted_exception = self.format_exception_as_a_whole(etype, evalue, etb, number_of_lines_of_context,\n",
      "  File \"C:\\Users\\musta\\AppData\\Local\\Continuum\\anaconda3\\envs\\nlu\\lib\\site-packages\\IPython\\core\\ultratb.py\", line 1082, in format_exception_as_a_whole\n",
      "    last_unique, recursion_repeat = find_recursion(orig_etype, evalue, records)\n",
      "  File \"C:\\Users\\musta\\AppData\\Local\\Continuum\\anaconda3\\envs\\nlu\\lib\\site-packages\\IPython\\core\\ultratb.py\", line 382, in find_recursion\n",
      "    return len(records), 0\n",
      "TypeError: object of type 'NoneType' has no len()\n",
      "\n",
      "During handling of the above exception, another exception occurred:\n",
      "\n",
      "Traceback (most recent call last):\n",
      "  File \"C:\\Users\\musta\\AppData\\Local\\Continuum\\anaconda3\\envs\\nlu\\lib\\site-packages\\IPython\\core\\interactiveshell.py\", line 2061, in showtraceback\n",
      "    stb = value._render_traceback_()\n",
      "AttributeError: 'TypeError' object has no attribute '_render_traceback_'\n",
      "\n",
      "During handling of the above exception, another exception occurred:\n",
      "\n",
      "Traceback (most recent call last):\n",
      "  File \"C:\\Users\\musta\\AppData\\Local\\Continuum\\anaconda3\\envs\\nlu\\lib\\site-packages\\IPython\\core\\ultratb.py\", line 1101, in get_records\n",
      "    return _fixed_getinnerframes(etb, number_of_lines_of_context, tb_offset)\n",
      "  File \"C:\\Users\\musta\\AppData\\Local\\Continuum\\anaconda3\\envs\\nlu\\lib\\site-packages\\IPython\\core\\ultratb.py\", line 248, in wrapped\n",
      "    return f(*args, **kwargs)\n",
      "  File \"C:\\Users\\musta\\AppData\\Local\\Continuum\\anaconda3\\envs\\nlu\\lib\\site-packages\\IPython\\core\\ultratb.py\", line 281, in _fixed_getinnerframes\n",
      "    records = fix_frame_records_filenames(inspect.getinnerframes(etb, context))\n",
      "  File \"C:\\Users\\musta\\AppData\\Local\\Continuum\\anaconda3\\envs\\nlu\\lib\\inspect.py\", line 1515, in getinnerframes\n",
      "    frameinfo = (tb.tb_frame,) + getframeinfo(tb, context)\n",
      "  File \"C:\\Users\\musta\\AppData\\Local\\Continuum\\anaconda3\\envs\\nlu\\lib\\inspect.py\", line 1473, in getframeinfo\n",
      "    filename = getsourcefile(frame) or getfile(frame)\n",
      "  File \"C:\\Users\\musta\\AppData\\Local\\Continuum\\anaconda3\\envs\\nlu\\lib\\inspect.py\", line 708, in getsourcefile\n",
      "    if getattr(getmodule(object, filename), '__loader__', None) is not None:\n",
      "  File \"C:\\Users\\musta\\AppData\\Local\\Continuum\\anaconda3\\envs\\nlu\\lib\\inspect.py\", line 754, in getmodule\n",
      "    os.path.realpath(f)] = module.__name__\n",
      "  File \"C:\\Users\\musta\\AppData\\Local\\Continuum\\anaconda3\\envs\\nlu\\lib\\ntpath.py\", line 647, in realpath\n",
      "    path = _getfinalpathname(path)\n",
      "KeyboardInterrupt\n"
     ]
    },
    {
     "name": "stderr",
     "output_type": "stream",
     "text": [
      "ERROR:root:Internal Python error in the inspect module.\n",
      "Below is the traceback from this internal error.\n",
      "\n"
     ]
    },
    {
     "name": "stdout",
     "output_type": "stream",
     "text": [
      "Traceback (most recent call last):\n",
      "  File \"C:\\Users\\musta\\AppData\\Local\\Continuum\\anaconda3\\envs\\nlu\\lib\\site-packages\\IPython\\core\\interactiveshell.py\", line 3437, in run_code\n",
      "    exec(code_obj, self.user_global_ns, self.user_ns)\n",
      "  File \"<ipython-input-6-0e70ecdad598>\", line 10, in <module>\n",
      "    train_loss, train_macro_f1 = train(model, train_iter, optimizer, criterion, macro_f1)\n",
      "  File \"C:\\Users\\musta\\Github\\FinalProject\\LSTM_Model\\utils.py\", line 39, in train\n",
      "    predictions = model(batch.sentence).squeeze(1)\n",
      "KeyboardInterrupt\n",
      "\n",
      "During handling of the above exception, another exception occurred:\n",
      "\n",
      "Traceback (most recent call last):\n",
      "  File \"C:\\Users\\musta\\AppData\\Local\\Continuum\\anaconda3\\envs\\nlu\\lib\\site-packages\\IPython\\core\\interactiveshell.py\", line 2061, in showtraceback\n",
      "    stb = value._render_traceback_()\n",
      "AttributeError: 'KeyboardInterrupt' object has no attribute '_render_traceback_'\n",
      "\n",
      "During handling of the above exception, another exception occurred:\n",
      "\n",
      "Traceback (most recent call last):\n",
      "  File \"C:\\Users\\musta\\AppData\\Local\\Continuum\\anaconda3\\envs\\nlu\\lib\\site-packages\\IPython\\core\\interactiveshell.py\", line 3357, in run_ast_nodes\n",
      "    if (await self.run_code(code, result,  async_=asy)):\n",
      "  File \"C:\\Users\\musta\\AppData\\Local\\Continuum\\anaconda3\\envs\\nlu\\lib\\site-packages\\IPython\\core\\interactiveshell.py\", line 3454, in run_code\n",
      "    self.showtraceback(running_compiled_code=True)\n",
      "  File \"C:\\Users\\musta\\AppData\\Local\\Continuum\\anaconda3\\envs\\nlu\\lib\\site-packages\\IPython\\core\\interactiveshell.py\", line 2063, in showtraceback\n",
      "    stb = self.InteractiveTB.structured_traceback(etype,\n",
      "  File \"C:\\Users\\musta\\AppData\\Local\\Continuum\\anaconda3\\envs\\nlu\\lib\\site-packages\\IPython\\core\\ultratb.py\", line 1367, in structured_traceback\n",
      "    return FormattedTB.structured_traceback(\n",
      "  File \"C:\\Users\\musta\\AppData\\Local\\Continuum\\anaconda3\\envs\\nlu\\lib\\site-packages\\IPython\\core\\ultratb.py\", line 1267, in structured_traceback\n",
      "    return VerboseTB.structured_traceback(\n",
      "  File \"C:\\Users\\musta\\AppData\\Local\\Continuum\\anaconda3\\envs\\nlu\\lib\\site-packages\\IPython\\core\\ultratb.py\", line 1124, in structured_traceback\n",
      "    formatted_exception = self.format_exception_as_a_whole(etype, evalue, etb, number_of_lines_of_context,\n",
      "  File \"C:\\Users\\musta\\AppData\\Local\\Continuum\\anaconda3\\envs\\nlu\\lib\\site-packages\\IPython\\core\\ultratb.py\", line 1082, in format_exception_as_a_whole\n",
      "    last_unique, recursion_repeat = find_recursion(orig_etype, evalue, records)\n",
      "  File \"C:\\Users\\musta\\AppData\\Local\\Continuum\\anaconda3\\envs\\nlu\\lib\\site-packages\\IPython\\core\\ultratb.py\", line 382, in find_recursion\n",
      "    return len(records), 0\n",
      "TypeError: object of type 'NoneType' has no len()\n",
      "\n",
      "During handling of the above exception, another exception occurred:\n",
      "\n",
      "Traceback (most recent call last):\n",
      "  File \"C:\\Users\\musta\\AppData\\Local\\Continuum\\anaconda3\\envs\\nlu\\lib\\site-packages\\IPython\\core\\interactiveshell.py\", line 2061, in showtraceback\n",
      "    stb = value._render_traceback_()\n",
      "AttributeError: 'TypeError' object has no attribute '_render_traceback_'\n",
      "\n",
      "During handling of the above exception, another exception occurred:\n",
      "\n",
      "Traceback (most recent call last):\n",
      "  File \"C:\\Users\\musta\\AppData\\Local\\Continuum\\anaconda3\\envs\\nlu\\lib\\site-packages\\IPython\\core\\interactiveshell.py\", line 2940, in _run_cell\n",
      "    return runner(coro)\n",
      "  File \"C:\\Users\\musta\\AppData\\Local\\Continuum\\anaconda3\\envs\\nlu\\lib\\site-packages\\IPython\\core\\async_helpers.py\", line 68, in _pseudo_sync_runner\n",
      "    coro.send(None)\n",
      "  File \"C:\\Users\\musta\\AppData\\Local\\Continuum\\anaconda3\\envs\\nlu\\lib\\site-packages\\IPython\\core\\interactiveshell.py\", line 3165, in run_cell_async\n",
      "    has_raised = await self.run_ast_nodes(code_ast.body, cell_name,\n",
      "  File \"C:\\Users\\musta\\AppData\\Local\\Continuum\\anaconda3\\envs\\nlu\\lib\\site-packages\\IPython\\core\\interactiveshell.py\", line 3376, in run_ast_nodes\n",
      "    self.showtraceback()\n",
      "  File \"C:\\Users\\musta\\AppData\\Local\\Continuum\\anaconda3\\envs\\nlu\\lib\\site-packages\\IPython\\core\\interactiveshell.py\", line 2063, in showtraceback\n",
      "    stb = self.InteractiveTB.structured_traceback(etype,\n",
      "  File \"C:\\Users\\musta\\AppData\\Local\\Continuum\\anaconda3\\envs\\nlu\\lib\\site-packages\\IPython\\core\\ultratb.py\", line 1367, in structured_traceback\n",
      "    return FormattedTB.structured_traceback(\n",
      "  File \"C:\\Users\\musta\\AppData\\Local\\Continuum\\anaconda3\\envs\\nlu\\lib\\site-packages\\IPython\\core\\ultratb.py\", line 1267, in structured_traceback\n",
      "    return VerboseTB.structured_traceback(\n",
      "  File \"C:\\Users\\musta\\AppData\\Local\\Continuum\\anaconda3\\envs\\nlu\\lib\\site-packages\\IPython\\core\\ultratb.py\", line 1142, in structured_traceback\n",
      "    formatted_exceptions += self.format_exception_as_a_whole(etype, evalue, etb, lines_of_context,\n",
      "  File \"C:\\Users\\musta\\AppData\\Local\\Continuum\\anaconda3\\envs\\nlu\\lib\\site-packages\\IPython\\core\\ultratb.py\", line 1082, in format_exception_as_a_whole\n",
      "    last_unique, recursion_repeat = find_recursion(orig_etype, evalue, records)\n",
      "  File \"C:\\Users\\musta\\AppData\\Local\\Continuum\\anaconda3\\envs\\nlu\\lib\\site-packages\\IPython\\core\\ultratb.py\", line 382, in find_recursion\n",
      "    return len(records), 0\n",
      "TypeError: object of type 'NoneType' has no len()\n",
      "\n",
      "During handling of the above exception, another exception occurred:\n",
      "\n",
      "Traceback (most recent call last):\n",
      "  File \"C:\\Users\\musta\\AppData\\Local\\Continuum\\anaconda3\\envs\\nlu\\lib\\site-packages\\IPython\\core\\interactiveshell.py\", line 2061, in showtraceback\n",
      "    stb = value._render_traceback_()\n",
      "AttributeError: 'TypeError' object has no attribute '_render_traceback_'\n",
      "\n",
      "During handling of the above exception, another exception occurred:\n",
      "\n",
      "Traceback (most recent call last):\n",
      "  File \"C:\\Users\\musta\\AppData\\Local\\Continuum\\anaconda3\\envs\\nlu\\lib\\site-packages\\IPython\\core\\ultratb.py\", line 1101, in get_records\n",
      "    return _fixed_getinnerframes(etb, number_of_lines_of_context, tb_offset)\n",
      "  File \"C:\\Users\\musta\\AppData\\Local\\Continuum\\anaconda3\\envs\\nlu\\lib\\site-packages\\IPython\\core\\ultratb.py\", line 248, in wrapped\n",
      "    return f(*args, **kwargs)\n",
      "  File \"C:\\Users\\musta\\AppData\\Local\\Continuum\\anaconda3\\envs\\nlu\\lib\\site-packages\\IPython\\core\\ultratb.py\", line 281, in _fixed_getinnerframes\n",
      "    records = fix_frame_records_filenames(inspect.getinnerframes(etb, context))\n",
      "  File \"C:\\Users\\musta\\AppData\\Local\\Continuum\\anaconda3\\envs\\nlu\\lib\\inspect.py\", line 1515, in getinnerframes\n",
      "    frameinfo = (tb.tb_frame,) + getframeinfo(tb, context)\n",
      "  File \"C:\\Users\\musta\\AppData\\Local\\Continuum\\anaconda3\\envs\\nlu\\lib\\inspect.py\", line 1473, in getframeinfo\n",
      "    filename = getsourcefile(frame) or getfile(frame)\n",
      "  File \"C:\\Users\\musta\\AppData\\Local\\Continuum\\anaconda3\\envs\\nlu\\lib\\inspect.py\", line 708, in getsourcefile\n",
      "    if getattr(getmodule(object, filename), '__loader__', None) is not None:\n",
      "  File \"C:\\Users\\musta\\AppData\\Local\\Continuum\\anaconda3\\envs\\nlu\\lib\\inspect.py\", line 754, in getmodule\n",
      "    os.path.realpath(f)] = module.__name__\n",
      "  File \"C:\\Users\\musta\\AppData\\Local\\Continuum\\anaconda3\\envs\\nlu\\lib\\ntpath.py\", line 647, in realpath\n",
      "    path = _getfinalpathname(path)\n",
      "KeyboardInterrupt\n"
     ]
    }
   ],
   "source": [
    "from utils import train, evaluate, macro_f1\n",
    "N_EPOCHS = 5\n",
    "\n",
    "best_valid_loss = float('inf')\n",
    "\n",
    "for epoch in range(N_EPOCHS):\n",
    "\n",
    "    start_time = time.time()\n",
    "    \n",
    "    train_loss, train_macro_f1 = train(model, train_iter, optimizer, criterion, macro_f1)\n",
    "    valid_loss, valid_macro_f1 = evaluate(model, valid_iter, criterion, macro_f1)\n",
    "    \n",
    "    end_time = time.time()\n",
    "\n",
    "    epoch_mins, epoch_secs = epoch_time(start_time, end_time)\n",
    "    \n",
    "    if valid_loss < best_valid_loss:\n",
    "        best_valid_loss = valid_loss\n",
    "        torch.save(model.state_dict(), 'rnn1-model.pt')\n",
    "    \n",
    "    print(f'Epoch: {epoch+1:02} | Epoch Time: {epoch_mins}m {epoch_secs}s')\n",
    "    print(f'\\tTrain Loss: {train_loss:.3f} | Train Acc: {train_macro_f1*100:.2f}%')\n",
    "    print(f'\\t Val. Loss: {valid_loss:.3f} |  Val. Acc: {valid_macro_f1*100:.2f}%')"
   ]
  },
  {
   "cell_type": "code",
   "execution_count": 8,
   "id": "3cd91781-c3a0-46aa-bce7-b33e255439ab",
   "metadata": {},
   "outputs": [],
   "source": [
    "for i in range(35000):\n",
    "    a = 1+1"
   ]
  }
 ],
 "metadata": {
  "kernelspec": {
   "display_name": "nlu",
   "language": "python",
   "name": "nlu"
  },
  "language_info": {
   "codemirror_mode": {
    "name": "ipython",
    "version": 3
   },
   "file_extension": ".py",
   "mimetype": "text/x-python",
   "name": "python",
   "nbconvert_exporter": "python",
   "pygments_lexer": "ipython3",
   "version": "3.8.8"
  }
 },
 "nbformat": 4,
 "nbformat_minor": 5
}
