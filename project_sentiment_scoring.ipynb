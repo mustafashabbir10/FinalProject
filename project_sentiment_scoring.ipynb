{
 "cells": [
  {
   "cell_type": "markdown",
   "metadata": {},
   "source": [
    "# Sentimential Scoring Model"
   ]
  },
  {
   "cell_type": "markdown",
   "metadata": {},
   "source": [
    "### Loading Previous Package + Reading in the Model Fitted"
   ]
  },
  {
   "cell_type": "code",
   "execution_count": 1,
   "metadata": {},
   "outputs": [],
   "source": [
    "from nltk.translate.bleu_score import corpus_bleu\n",
    "import numpy as np\n",
    "import os\n",
    "import pandas as pd\n",
    "from sklearn.model_selection import train_test_split\n",
    "from transformers import BertModel, BertTokenizer\n",
    "import string\n",
    "#import spacy\n",
    "import re\n",
    "import multiprocessing as mp"
   ]
  },
  {
   "cell_type": "code",
   "execution_count": 2,
   "metadata": {},
   "outputs": [],
   "source": [
    "from sklearn.base import TransformerMixin, BaseEstimator\n",
    "\n",
    "from Shallow_ML_Models.DataPreprocessor import TextPreprocessor\n",
    "from Shallow_ML_Models.DataPreprocessor import TextPreprocessor_withStem"
   ]
  },
  {
   "cell_type": "code",
   "execution_count": 3,
   "metadata": {},
   "outputs": [],
   "source": [
    "from sklearn.feature_extraction.text import CountVectorizer\n",
    "from sklearn.feature_selection import chi2, SelectKBest, f_classif\n",
    "from sklearn.model_selection import GridSearchCV\n",
    "from sklearn.svm import SVC\n",
    "from sklearn.pipeline import Pipeline\n",
    "from sklearn.linear_model import LogisticRegression\n",
    "from sklearn.ensemble import RandomForestClassifier"
   ]
  },
  {
   "cell_type": "code",
   "execution_count": 4,
   "metadata": {},
   "outputs": [],
   "source": [
    "import pickle"
   ]
  },
  {
   "cell_type": "code",
   "execution_count": 5,
   "metadata": {},
   "outputs": [
    {
     "name": "stderr",
     "output_type": "stream",
     "text": [
      "C:\\ProgramData\\Anaconda3\\envs\\nlu\\lib\\site-packages\\sklearn\\base.py:329: UserWarning: Trying to unpickle estimator CountVectorizer from version 0.24.1 when using version 0.23.2. This might lead to breaking code or invalid results. Use at your own risk.\n",
      "  warnings.warn(\n",
      "C:\\ProgramData\\Anaconda3\\envs\\nlu\\lib\\site-packages\\sklearn\\base.py:329: UserWarning: Trying to unpickle estimator SelectKBest from version 0.24.1 when using version 0.23.2. This might lead to breaking code or invalid results. Use at your own risk.\n",
      "  warnings.warn(\n",
      "C:\\ProgramData\\Anaconda3\\envs\\nlu\\lib\\site-packages\\sklearn\\base.py:329: UserWarning: Trying to unpickle estimator LogisticRegression from version 0.24.1 when using version 0.23.2. This might lead to breaking code or invalid results. Use at your own risk.\n",
      "  warnings.warn(\n",
      "C:\\ProgramData\\Anaconda3\\envs\\nlu\\lib\\site-packages\\sklearn\\base.py:329: UserWarning: Trying to unpickle estimator Pipeline from version 0.24.1 when using version 0.23.2. This might lead to breaking code or invalid results. Use at your own risk.\n",
      "  warnings.warn(\n"
     ]
    }
   ],
   "source": [
    "lr_model = pickle.load(open(r'Shallow_ML_Models/LR_model_withStem.pkl', 'rb'))\n",
    "#lstm_model = pickle.load(open(r'LSTM_Model/LSTM_model.pkl', 'rb'))"
   ]
  },
  {
   "cell_type": "markdown",
   "metadata": {},
   "source": [
    "### Creating Table for Sentiment Score"
   ]
  },
  {
   "cell_type": "code",
   "execution_count": 6,
   "metadata": {},
   "outputs": [],
   "source": [
    "year12 = []\n",
    "period12 = []\n",
    "i = 2013\n",
    "for j in range(3, 12):\n",
    "    year12.append(i)\n",
    "    period12.append(j+1)\n",
    "for i in range(2014, 2021):\n",
    "    for j in range(0, 12):\n",
    "        year12.append(i)\n",
    "        period12.append(j+1)\n",
    "i = 2021\n",
    "for j in range(0, 9):\n",
    "    year12.append(i)\n",
    "    period12.append(j+1)"
   ]
  },
  {
   "cell_type": "code",
   "execution_count": 7,
   "metadata": {},
   "outputs": [],
   "source": [
    "column_name = ['positive', 'neutral', 'negative', 'exception']\n",
    "sentiment_score_lr = pd.DataFrame(np.zeros((len(year12), len(column_name))), index = [year12, period12], columns = column_name).reset_index().rename(columns={\"level_0\": \"year\", \"level_1\": \"month\"}).set_index(['year','month'])\n",
    "#sentiment_score_lstm = pd.DataFrame(np.zeros((len(year12), len(column_name))), index = [year12, period12], columns = column_name).reset_index().rename(columns={\"level_0\": \"year\", \"level_1\": \"month\"}).set_index(['year','month'])"
   ]
  },
  {
   "cell_type": "markdown",
   "metadata": {},
   "source": [
    "### Reading the List of files + Reading in the Text + Sentiment Scoring"
   ]
  },
  {
   "cell_type": "code",
   "execution_count": 8,
   "metadata": {},
   "outputs": [],
   "source": [
    "from io import BytesIO\n",
    "from zipfile import ZipFile\n",
    "from urllib.request import urlopen\n",
    "from bs4 import BeautifulSoup\n",
    "import sys, time"
   ]
  },
  {
   "cell_type": "code",
   "execution_count": null,
   "metadata": {},
   "outputs": [],
   "source": [
    "gdelt_list = pd.read_csv(r\"Data/GDELT/gdelt.csv\", encoding= 'unicode_escape').set_index('filename')\n",
    "gdelt_colName = pd.read_csv(r\"Data/GDELT/CSV.header.dailyupdates.txt\", sep='\\t', header=None).iloc[0].to_list()\n",
    "start_time = time.time()\n",
    "\n",
    "for gdelt_list_counter in range(0, len(gdelt_list)):\n",
    "    \n",
    "    zip_file_url = urlopen(gdelt_list.iloc[gdelt_list_counter]['hyperlink'])\n",
    "    zip_file = ZipFile(BytesIO(zip_file_url.read()))\n",
    "    document_list = pd.read_csv(zip_file.open(zip_file.namelist()[0]), sep ='\\t', header=None, names=gdelt_colName).set_index(['GLOBALEVENTID'])\n",
    "    US_document_list = document_list[(document_list['Actor1Geo_ADM1Code'] == \"US\") & (document_list['Actor2Geo_ADM1Code'] == \"US\") & (document_list['ActionGeo_ADM1Code'] == \"US\") & ((document_list['Actor1Code'] == \"USA\") | (document_list['Actor2Code'] == \"USA\"))]\n",
    "    \n",
    "    for doc_count in range(0,len(US_document_list)):\n",
    "        \n",
    "        if (doc_count % 500 == 0):\n",
    "            news_year = int(str(US_document_list.iloc[doc_count, 0])[0:4])\n",
    "            news_month = int(str(US_document_list.iloc[doc_count, 0])[4:6])\n",
    "            news_date = int(str(US_document_list.iloc[doc_count, 0])[6:8])\n",
    "\n",
    "            news_url = document_list.iloc[doc_count, -1]\n",
    "            try:\n",
    "                soup = BeautifulSoup(urlopen(news_url).read(), features=\"html.parser\")\n",
    "                for script in soup([\"script\", \"style\"]):    # kill all script and style elements\n",
    "                    script.decompose()\n",
    "                text = soup.get_text()    # get text\n",
    "                lines = (line.strip() for line in text.splitlines())    # break into lines and remove leading and trailing space on each\n",
    "                chunks = (phrase.strip() for line in lines for phrase in line.split(\"  \"))    # break multi-headlines into a line each\n",
    "                text = '\\n'.join(chunk for chunk in chunks if chunk)    # drop blank lines\n",
    "                sentiment_lr = lr_model.predict(pd.Series(text))[0]\n",
    "                #sentiment_lstm = lstm_model.predict(pd.Series(text))[0]\n",
    "            except:\n",
    "                sentiment_lr = 'exception'\n",
    "                #sentiment_lstm = 'exception'\n",
    "\n",
    "            try:\n",
    "                sentiment_score_lr.loc[(news_year, news_month), sentiment_lr] += 1\n",
    "                #sentiment_score_lstm.loc[(news_year, news_month), sentiment_lstm] += 1\n",
    "            except:\n",
    "                print('Error!')\n",
    "        \n",
    "        current_time = time.time()\n",
    "        sys.stdout.write(\"\\rgdelt_list_counter = %s / %s ; doc_count = %s / %s ; time elasped: %s minutes.\" % (gdelt_list_counter + 1, len(gdelt_list), doc_count + 1, len(US_document_list), round((current_time-start_time)/60,2)))\n",
    "        sys.stdout.flush()\n",
    "    \n",
    "    print(\"\\rGEDLT progress: %s / %s ; Time Elasped: %s minutes.\" % (gdelt_list_counter + 1, len(gdelt_list), round((current_time-start_time)/60,2)))\n",
    "    sentiment_score_lr.to_csv(r\"Data/sentiment_score_lr.csv\")\n",
    "    #sentiment_score_lstm.to_csv(r\"Data/sentiment_score_lstm.csv\")"
   ]
  },
  {
   "cell_type": "code",
   "execution_count": 9,
   "metadata": {},
   "outputs": [],
   "source": [
    "sentiment_score_lr.to_csv(r\"Data/sentiment_score_lr.csv\")\n",
    "#sentiment_score_lstm.to_csv(r\"Data/sentiment_score_lstm.csv\")"
   ]
  }
 ],
 "metadata": {
  "kernelspec": {
   "display_name": "nlu",
   "language": "python",
   "name": "nlu"
  },
  "language_info": {
   "codemirror_mode": {
    "name": "ipython",
    "version": 3
   },
   "file_extension": ".py",
   "mimetype": "text/x-python",
   "name": "python",
   "nbconvert_exporter": "python",
   "pygments_lexer": "ipython3",
   "version": "3.8.5"
  }
 },
 "nbformat": 4,
 "nbformat_minor": 4
}
