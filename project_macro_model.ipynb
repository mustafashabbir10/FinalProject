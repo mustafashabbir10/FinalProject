{
 "cells": [
  {
   "cell_type": "markdown",
   "metadata": {},
   "source": [
    "# Macroeconomic Forecasting Model with Sentiment Scores"
   ]
  },
  {
   "cell_type": "markdown",
   "metadata": {},
   "source": [
    "### Loading Package"
   ]
  },
  {
   "cell_type": "code",
   "execution_count": 1,
   "metadata": {},
   "outputs": [],
   "source": [
    "import numpy as np\n",
    "import pandas as pd"
   ]
  },
  {
   "cell_type": "markdown",
   "metadata": {},
   "source": [
    "### Reading in Macroeconomics Data"
   ]
  },
  {
   "cell_type": "code",
   "execution_count": 2,
   "metadata": {},
   "outputs": [],
   "source": [
    "raw_US_gdp = pd.read_csv(r\"Data\\FRED\\GDPC1.csv\").set_index('DATE')\n",
    "raw_US_inflation = pd.read_csv(r\"Data\\FRED\\FPCPITOTLZGUSA.csv\").set_index('DATE')\n",
    "raw_US_unemployment = pd.read_csv(r\"Data\\FRED\\UNRATE.csv\").set_index('DATE')"
   ]
  },
  {
   "cell_type": "code",
   "execution_count": 3,
   "metadata": {},
   "outputs": [],
   "source": [
    "raw_US_gdp.index = pd.to_datetime(raw_US_gdp.index)\n",
    "raw_US_inflation.index = pd.to_datetime(raw_US_inflation.index)\n",
    "raw_US_unemployment.index = pd.to_datetime(raw_US_unemployment.index)"
   ]
  },
  {
   "cell_type": "code",
   "execution_count": 4,
   "metadata": {},
   "outputs": [],
   "source": [
    "data_US_unemployment = (raw_US_unemployment - raw_US_unemployment.shift(1))[1:]\n",
    "data_US_unemployment['year'] = data_US_unemployment.index.year\n",
    "data_US_unemployment['month'] = data_US_unemployment.index.month\n",
    "data_US_unemployment = data_US_unemployment.reset_index().set_index(['year','month']).drop(columns = ['DATE'])"
   ]
  },
  {
   "cell_type": "code",
   "execution_count": 5,
   "metadata": {},
   "outputs": [],
   "source": [
    "data_US_growth = ((raw_US_gdp - raw_US_gdp.shift(1)) / raw_US_gdp)[1:]\n",
    "data_US_growth['year'] = data_US_growth.index.year\n",
    "data_US_growth['quarter'] = np.ceil(data_US_growth.index.month / 3).astype(int)\n",
    "data_US_growth = data_US_growth.reset_index().set_index(['year','quarter']).drop(columns = ['DATE'])"
   ]
  },
  {
   "cell_type": "code",
   "execution_count": 6,
   "metadata": {},
   "outputs": [],
   "source": [
    "data_US_inflation = (raw_US_inflation - raw_US_inflation.shift(1))[1:]\n",
    "data_US_inflation['year'] = data_US_inflation.index.year\n",
    "data_US_inflation = data_US_inflation.reset_index().set_index(['year']).drop(columns = ['DATE'])"
   ]
  },
  {
   "cell_type": "markdown",
   "metadata": {},
   "source": [
    "### Reading in Sentiment Score Data"
   ]
  },
  {
   "cell_type": "code",
   "execution_count": 7,
   "metadata": {},
   "outputs": [],
   "source": [
    "sentiment_score_lr = pd.read_csv(r\"Data\\sentiment_score_lr.csv\").set_index(['year','month']).drop(columns=['exception'])\n",
    "sentiment_score_lr[\"sum\"] = sentiment_score_lr.sum(axis=1)\n",
    "sentiment_score_lr = sentiment_score_lr.div(sentiment_score_lr[\"sum\"], axis=0).drop(columns=['sum'])\n",
    "\n",
    "sentiment_score_lstm = pd.read_csv(r\"Data\\sentiment_score_lstm.csv\").set_index(['year','month']).drop(columns=['exception'])\n",
    "sentiment_score_lstm[\"sum\"] = sentiment_score_lstm.sum(axis=1)\n",
    "sentiment_score_lstm = sentiment_score_lstm.div(sentiment_score_lstm[\"sum\"], axis=0).drop(columns=['sum'])"
   ]
  },
  {
   "cell_type": "code",
   "execution_count": 8,
   "metadata": {},
   "outputs": [],
   "source": [
    "sentiment_score_lr = sentiment_score_lr.rename(columns={\"positive\": \"positive_lr\", \"neutral\": \"neutral_lr\", \"negative\": \"negative_lr\"})\n",
    "sentiment_score_lstm = sentiment_score_lstm.rename(columns={\"positive\": \"positive_lstm\", \"neutral\": \"neutral_lstm\", \"negative\": \"negative_lstm\"})\n",
    "sentiment_score = sentiment_score_lr.join(sentiment_score_lstm)"
   ]
  },
  {
   "cell_type": "code",
   "execution_count": 9,
   "metadata": {},
   "outputs": [],
   "source": [
    "year1 = []\n",
    "year4 = []\n",
    "period4 = []\n",
    "i = 2013\n",
    "year1.append(i)\n",
    "for j in range(1, 4):\n",
    "    year4.append(i)\n",
    "    period4.append(j+1)\n",
    "for i in range(2014, 2021):\n",
    "    year1.append(i)\n",
    "    for j in range(0, 4):\n",
    "        year4.append(i)\n",
    "        period4.append(j+1)\n",
    "i = 2021\n",
    "year1.append(i)\n",
    "for j in range(0, 3):\n",
    "    year4.append(i)\n",
    "    period4.append(j+1)"
   ]
  },
  {
   "cell_type": "code",
   "execution_count": 10,
   "metadata": {},
   "outputs": [],
   "source": [
    "column_name = ['positive_lr', 'neutral_lr', 'negative_lr', 'positive_lstm', 'neutral_lstm', 'negative_lstm']\n",
    "\n",
    "sentiment_score_yearly = pd.DataFrame(np.zeros((len(year1), len(column_name))), index = year1, columns = column_name)\n",
    "sentiment_score_yearly = sentiment_score_yearly.reset_index().rename(columns={\"index\": \"year\"}).set_index('year')\n",
    "for year in sentiment_score_yearly.index:\n",
    "    sentiment_score_yearly.loc[year] = sentiment_score.loc[year].mean(axis=0)\n",
    "\n",
    "sentiment_score_quarterly = pd.DataFrame(np.zeros((len(year4), len(column_name))), index = [year4, period4], columns = column_name)\n",
    "sentiment_score_quarterly = sentiment_score_quarterly.reset_index().rename(columns={\"level_0\": \"year\", \"level_1\": \"quarter\"}).set_index(['year','quarter'])\n",
    "for (year,quarter) in sentiment_score_quarterly.index:\n",
    "    year_match = sentiment_score.index.get_level_values('year') == year\n",
    "    quarter_match = np.ceil(sentiment_score.index.get_level_values('month') / 3) == quarter\n",
    "    sentiment_score_quarterly.loc[year, quarter] = sentiment_score[year_match * quarter_match].mean(axis=0)\n",
    "\n",
    "sentiment_score_monthly = sentiment_score"
   ]
  },
  {
   "cell_type": "markdown",
   "metadata": {},
   "source": [
    "### Combine the Datasets"
   ]
  },
  {
   "cell_type": "code",
   "execution_count": 11,
   "metadata": {},
   "outputs": [],
   "source": [
    "data_US_unemployment['lag_UNRATE'] = np.nan\n",
    "data_US_unemployment['lag_UNRATE'].iloc[1:] = data_US_unemployment['UNRATE'].iloc[0:-1].to_list()\n",
    "data_withSentiment_US_unemployment = sentiment_score_monthly.join(data_US_unemployment)"
   ]
  },
  {
   "cell_type": "code",
   "execution_count": 12,
   "metadata": {},
   "outputs": [],
   "source": [
    "data_US_growth['lag_GDPC1'] = np.nan\n",
    "data_US_growth['lag_GDPC1'].iloc[1:] = data_US_growth['GDPC1'].iloc[0:-1].to_list()\n",
    "data_withSentiment_US_growth = sentiment_score_quarterly.join(data_US_growth)"
   ]
  },
  {
   "cell_type": "code",
   "execution_count": 13,
   "metadata": {},
   "outputs": [],
   "source": [
    "data_US_inflation['lag_FPCPITOTLZGUSA'] = np.nan\n",
    "data_US_inflation['lag_FPCPITOTLZGUSA'].iloc[1:] = data_US_inflation['FPCPITOTLZGUSA'].iloc[0:-1].to_list()\n",
    "data_withSentiment_US_inflation = sentiment_score_yearly.join(data_US_inflation).drop(2021)"
   ]
  },
  {
   "cell_type": "markdown",
   "metadata": {},
   "source": [
    "### Exploratory Data Analysis"
   ]
  },
  {
   "cell_type": "code",
   "execution_count": 14,
   "metadata": {},
   "outputs": [],
   "source": [
    "from statsmodels.tsa.stattools import adfuller\n",
    "from statsmodels.graphics.tsaplots import plot_pacf"
   ]
  },
  {
   "cell_type": "code",
   "execution_count": 15,
   "metadata": {},
   "outputs": [
    {
     "name": "stdout",
     "output_type": "stream",
     "text": [
      "P-value:  7.397612401647015e-17\n"
     ]
    },
    {
     "data": {
      "image/png": "[encoded data removed]",
      "text/plain": [
       "<Figure size 432x288 with 1 Axes>"
      ]
     },
     "metadata": {
      "needs_background": "light"
     },
     "output_type": "display_data"
    }
   ],
   "source": [
    "df = data_withSentiment_US_unemployment['UNRATE']\n",
    "stationarityTest_US_unemployment = adfuller(df, autolag='AIC')\n",
    "print(\"P-value: \", stationarityTest_US_unemployment[1])\n",
    "pacf = plot_pacf(df, lags=15)"
   ]
  },
  {
   "cell_type": "code",
   "execution_count": 16,
   "metadata": {},
   "outputs": [
    {
     "name": "stdout",
     "output_type": "stream",
     "text": [
      "P-value:  9.641597280523476e-11\n"
     ]
    },
    {
     "data": {
      "image/png": "[encoded data removed]",
      "text/plain": [
       "<Figure size 432x288 with 1 Axes>"
      ]
     },
     "metadata": {
      "needs_background": "light"
     },
     "output_type": "display_data"
    }
   ],
   "source": [
    "df = data_withSentiment_US_growth['GDPC1']\n",
    "stationarityTest_US_growth = adfuller(df, autolag='AIC')\n",
    "print(\"P-value: \", stationarityTest_US_growth[1])\n",
    "pacf = plot_pacf(df, lags=15)"
   ]
  },
  {
   "cell_type": "code",
   "execution_count": 17,
   "metadata": {},
   "outputs": [
    {
     "name": "stdout",
     "output_type": "stream",
     "text": [
      "P-value:  4.2996925813432326e-05\n"
     ]
    },
    {
     "data": {
      "image/png": "[encoded data removed]",
      "text/plain": [
       "<Figure size 432x288 with 1 Axes>"
      ]
     },
     "metadata": {
      "needs_background": "light"
     },
     "output_type": "display_data"
    }
   ],
   "source": [
    "df = data_withSentiment_US_inflation['FPCPITOTLZGUSA']\n",
    "stationarityTest_US_inflation = adfuller(df, autolag='AIC')\n",
    "print(\"P-value: \", stationarityTest_US_inflation[1])\n",
    "pacf = plot_pacf(df, lags=3)"
   ]
  },
  {
   "cell_type": "markdown",
   "metadata": {},
   "source": [
    "### Baseline Model"
   ]
  },
  {
   "cell_type": "code",
   "execution_count": 18,
   "metadata": {},
   "outputs": [],
   "source": [
    "import statsmodels.api as sm"
   ]
  },
  {
   "cell_type": "code",
   "execution_count": 19,
   "metadata": {},
   "outputs": [
    {
     "name": "stdout",
     "output_type": "stream",
     "text": [
      "                            OLS Regression Results                            \n",
      "==============================================================================\n",
      "Dep. Variable:                 UNRATE   R-squared:                       0.000\n",
      "Model:                            OLS   Adj. R-squared:                 -0.010\n",
      "Method:                 Least Squares   F-statistic:                   0.03267\n",
      "Date:                Tue, 02 Nov 2021   Prob (F-statistic):              0.857\n",
      "Time:                        01:42:43   Log-Likelihood:                -154.54\n",
      "No. Observations:                 102   AIC:                             313.1\n",
      "Df Residuals:                     100   BIC:                             318.3\n",
      "Df Model:                           1                                         \n",
      "Covariance Type:            nonrobust                                         \n",
      "==============================================================================\n",
      "                 coef    std err          t      P>|t|      [0.025      0.975]\n",
      "------------------------------------------------------------------------------\n",
      "const         -0.0260      0.110     -0.236      0.814      -0.244       0.192\n",
      "lag_UNRATE     0.0181      0.100      0.181      0.857      -0.180       0.217\n",
      "==============================================================================\n",
      "Omnibus:                      197.609   Durbin-Watson:                   1.994\n",
      "Prob(Omnibus):                  0.000   Jarque-Bera (JB):            25446.697\n",
      "Skew:                           8.135   Prob(JB):                         0.00\n",
      "Kurtosis:                      78.649   Cond. No.                         1.10\n",
      "==============================================================================\n",
      "\n",
      "Notes:\n",
      "[1] Standard Errors assume that the covariance matrix of the errors is correctly specified.\n"
     ]
    }
   ],
   "source": [
    "X = sm.add_constant(data_withSentiment_US_unemployment['lag_UNRATE'])\n",
    "Y = data_withSentiment_US_unemployment['UNRATE']\n",
    "ar_model_US_unemployment = sm.OLS(Y,X).fit()\n",
    "print(ar_model_US_unemployment.summary())"
   ]
  },
  {
   "cell_type": "code",
   "execution_count": 20,
   "metadata": {},
   "outputs": [
    {
     "name": "stdout",
     "output_type": "stream",
     "text": [
      "                            OLS Regression Results                            \n",
      "==============================================================================\n",
      "Dep. Variable:                  GDPC1   R-squared:                       0.074\n",
      "Model:                            OLS   Adj. R-squared:                  0.045\n",
      "Method:                 Least Squares   F-statistic:                     2.560\n",
      "Date:                Tue, 02 Nov 2021   Prob (F-statistic):              0.119\n",
      "Time:                        01:42:43   Log-Likelihood:                 83.556\n",
      "No. Observations:                  34   AIC:                            -163.1\n",
      "Df Residuals:                      32   BIC:                            -160.1\n",
      "Df Model:                           1                                         \n",
      "Covariance Type:            nonrobust                                         \n",
      "==============================================================================\n",
      "                 coef    std err          t      P>|t|      [0.025      0.975]\n",
      "------------------------------------------------------------------------------\n",
      "const          0.0060      0.004      1.609      0.117      -0.002       0.014\n",
      "lag_GDPC1     -0.2721      0.170     -1.600      0.119      -0.618       0.074\n",
      "==============================================================================\n",
      "Omnibus:                       61.857   Durbin-Watson:                   2.083\n",
      "Prob(Omnibus):                  0.000   Jarque-Bera (JB):              593.720\n",
      "Skew:                          -3.919   Prob(JB):                    1.19e-129\n",
      "Kurtosis:                      21.912   Cond. No.                         46.4\n",
      "==============================================================================\n",
      "\n",
      "Notes:\n",
      "[1] Standard Errors assume that the covariance matrix of the errors is correctly specified.\n"
     ]
    }
   ],
   "source": [
    "X = sm.add_constant(data_withSentiment_US_growth['lag_GDPC1'])\n",
    "Y = data_withSentiment_US_growth['GDPC1']\n",
    "ar_model_US_growth = sm.OLS(Y,X).fit()\n",
    "print(ar_model_US_growth.summary())"
   ]
  },
  {
   "cell_type": "code",
   "execution_count": 21,
   "metadata": {},
   "outputs": [
    {
     "name": "stdout",
     "output_type": "stream",
     "text": [
      "                            OLS Regression Results                            \n",
      "==============================================================================\n",
      "Dep. Variable:         FPCPITOTLZGUSA   R-squared:                       0.000\n",
      "Model:                            OLS   Adj. R-squared:                 -0.166\n",
      "Method:                 Least Squares   F-statistic:                  0.001841\n",
      "Date:                Tue, 02 Nov 2021   Prob (F-statistic):              0.967\n",
      "Time:                        01:42:44   Log-Likelihood:                -9.8181\n",
      "No. Observations:                   8   AIC:                             23.64\n",
      "Df Residuals:                       6   BIC:                             23.79\n",
      "Df Model:                           1                                         \n",
      "Covariance Type:            nonrobust                                         \n",
      "======================================================================================\n",
      "                         coef    std err          t      P>|t|      [0.025      0.975]\n",
      "--------------------------------------------------------------------------------------\n",
      "const                 -0.1072      0.343     -0.313      0.765      -0.947       0.732\n",
      "lag_FPCPITOTLZGUSA    -0.0165      0.384     -0.043      0.967      -0.956       0.923\n",
      "==============================================================================\n",
      "Omnibus:                        0.216   Durbin-Watson:                   2.099\n",
      "Prob(Omnibus):                  0.898   Jarque-Bera (JB):                0.370\n",
      "Skew:                          -0.038   Prob(JB):                        0.831\n",
      "Kurtosis:                       1.949   Cond. No.                         1.25\n",
      "==============================================================================\n",
      "\n",
      "Notes:\n",
      "[1] Standard Errors assume that the covariance matrix of the errors is correctly specified.\n"
     ]
    },
    {
     "name": "stderr",
     "output_type": "stream",
     "text": [
      "C:\\ProgramData\\Anaconda3\\envs\\nlu\\lib\\site-packages\\scipy\\stats\\stats.py:1603: UserWarning: kurtosistest only valid for n>=20 ... continuing anyway, n=8\n",
      "  warnings.warn(\"kurtosistest only valid for n>=20 ... continuing \"\n"
     ]
    }
   ],
   "source": [
    "X = sm.add_constant(data_withSentiment_US_inflation['lag_FPCPITOTLZGUSA'])\n",
    "Y = data_withSentiment_US_inflation['FPCPITOTLZGUSA']\n",
    "ar_model_US_inflation = sm.OLS(Y,X).fit()\n",
    "print(ar_model_US_inflation.summary())"
   ]
  },
  {
   "cell_type": "markdown",
   "metadata": {},
   "source": [
    "### Model with Sentiment Scores (LR Model)"
   ]
  },
  {
   "cell_type": "code",
   "execution_count": 22,
   "metadata": {},
   "outputs": [
    {
     "name": "stdout",
     "output_type": "stream",
     "text": [
      "                            OLS Regression Results                            \n",
      "==============================================================================\n",
      "Dep. Variable:                 UNRATE   R-squared:                       0.001\n",
      "Model:                            OLS   Adj. R-squared:                 -0.030\n",
      "Method:                 Least Squares   F-statistic:                   0.02730\n",
      "Date:                Tue, 02 Nov 2021   Prob (F-statistic):              0.994\n",
      "Time:                        01:42:45   Log-Likelihood:                -154.51\n",
      "No. Observations:                 102   AIC:                             317.0\n",
      "Df Residuals:                      98   BIC:                             327.5\n",
      "Df Model:                           3                                         \n",
      "Covariance Type:            nonrobust                                         \n",
      "===============================================================================\n",
      "                  coef    std err          t      P>|t|      [0.025      0.975]\n",
      "-------------------------------------------------------------------------------\n",
      "const          -0.0205      0.085     -0.242      0.810      -0.189       0.148\n",
      "lag_UNRATE      0.0182      0.101      0.180      0.858      -0.183       0.219\n",
      "positive_lr     0.0793      0.405      0.196      0.845      -0.725       0.883\n",
      "neutral_lr     -0.0323      0.452     -0.071      0.943      -0.929       0.864\n",
      "negative_lr    -0.0675      0.427     -0.158      0.874      -0.914       0.779\n",
      "==============================================================================\n",
      "Omnibus:                      197.395   Durbin-Watson:                   1.989\n",
      "Prob(Omnibus):                  0.000   Jarque-Bera (JB):            25317.306\n",
      "Skew:                           8.120   Prob(JB):                         0.00\n",
      "Kurtosis:                      78.454   Cond. No.                     3.39e+16\n",
      "==============================================================================\n",
      "\n",
      "Notes:\n",
      "[1] Standard Errors assume that the covariance matrix of the errors is correctly specified.\n",
      "[2] The smallest eigenvalue is 1.19e-31. This might indicate that there are\n",
      "strong multicollinearity problems or that the design matrix is singular.\n"
     ]
    }
   ],
   "source": [
    "X = sm.add_constant(data_withSentiment_US_unemployment[['lag_UNRATE', 'positive_lr','neutral_lr','negative_lr']])\n",
    "Y = data_withSentiment_US_unemployment['UNRATE']\n",
    "lr_model_withSentiment_current_US_unemployment = sm.OLS(Y,X).fit()\n",
    "print(lr_model_withSentiment_current_US_unemployment.summary())"
   ]
  },
  {
   "cell_type": "code",
   "execution_count": 23,
   "metadata": {},
   "outputs": [
    {
     "name": "stdout",
     "output_type": "stream",
     "text": [
      "                            OLS Regression Results                            \n",
      "==============================================================================\n",
      "Dep. Variable:         FPCPITOTLZGUSA   R-squared:                       0.643\n",
      "Model:                            OLS   Adj. R-squared:                  0.376\n",
      "Method:                 Least Squares   F-statistic:                     2.406\n",
      "Date:                Tue, 02 Nov 2021   Prob (F-statistic):              0.208\n",
      "Time:                        01:42:46   Log-Likelihood:                -5.6939\n",
      "No. Observations:                   8   AIC:                             19.39\n",
      "Df Residuals:                       4   BIC:                             19.71\n",
      "Df Model:                           3                                         \n",
      "Covariance Type:            nonrobust                                         \n",
      "======================================================================================\n",
      "                         coef    std err          t      P>|t|      [0.025      0.975]\n",
      "--------------------------------------------------------------------------------------\n",
      "const                 -0.1349      0.269     -0.501      0.643      -0.882       0.613\n",
      "lag_FPCPITOTLZGUSA     0.0411      0.325      0.126      0.906      -0.863       0.945\n",
      "positive_lr           10.5124      4.019      2.615      0.059      -0.647      21.672\n",
      "neutral_lr            -2.7473      4.993     -0.550      0.611     -16.611      11.116\n",
      "negative_lr           -7.9001      6.634     -1.191      0.300     -26.320      10.520\n",
      "==============================================================================\n",
      "Omnibus:                        0.599   Durbin-Watson:                   0.938\n",
      "Prob(Omnibus):                  0.741   Jarque-Bera (JB):                0.518\n",
      "Skew:                          -0.456   Prob(JB):                        0.772\n",
      "Kurtosis:                       2.151   Cond. No.                     3.31e+16\n",
      "==============================================================================\n",
      "\n",
      "Notes:\n",
      "[1] Standard Errors assume that the covariance matrix of the errors is correctly specified.\n",
      "[2] The smallest eigenvalue is 1.02e-32. This might indicate that there are\n",
      "strong multicollinearity problems or that the design matrix is singular.\n"
     ]
    },
    {
     "name": "stderr",
     "output_type": "stream",
     "text": [
      "C:\\ProgramData\\Anaconda3\\envs\\nlu\\lib\\site-packages\\scipy\\stats\\stats.py:1603: UserWarning: kurtosistest only valid for n>=20 ... continuing anyway, n=8\n",
      "  warnings.warn(\"kurtosistest only valid for n>=20 ... continuing \"\n"
     ]
    }
   ],
   "source": [
    "X = sm.add_constant(data_withSentiment_US_inflation[['lag_FPCPITOTLZGUSA', 'positive_lr','neutral_lr','negative_lr']])\n",
    "Y = data_withSentiment_US_inflation['FPCPITOTLZGUSA']\n",
    "lr_model_withSentiment_current_US_inflation = sm.OLS(Y,X).fit()\n",
    "print(lr_model_withSentiment_current_US_inflation.summary())"
   ]
  },
  {
   "cell_type": "markdown",
   "metadata": {},
   "source": [
    "### Model with Sentiment Scores (LSTM Model)"
   ]
  },
  {
   "cell_type": "code",
   "execution_count": 24,
   "metadata": {},
   "outputs": [
    {
     "name": "stdout",
     "output_type": "stream",
     "text": [
      "                            OLS Regression Results                            \n",
      "==============================================================================\n",
      "Dep. Variable:                 UNRATE   R-squared:                       0.001\n",
      "Model:                            OLS   Adj. R-squared:                 -0.030\n",
      "Method:                 Least Squares   F-statistic:                   0.02730\n",
      "Date:                Tue, 02 Nov 2021   Prob (F-statistic):              0.994\n",
      "Time:                        01:42:47   Log-Likelihood:                -154.51\n",
      "No. Observations:                 102   AIC:                             317.0\n",
      "Df Residuals:                      98   BIC:                             327.5\n",
      "Df Model:                           3                                         \n",
      "Covariance Type:            nonrobust                                         \n",
      "=================================================================================\n",
      "                    coef    std err          t      P>|t|      [0.025      0.975]\n",
      "---------------------------------------------------------------------------------\n",
      "const            -0.0205      0.085     -0.242      0.810      -0.189       0.148\n",
      "lag_UNRATE        0.0182      0.101      0.180      0.858      -0.183       0.219\n",
      "positive_lstm     0.0793      0.405      0.196      0.845      -0.725       0.883\n",
      "neutral_lstm     -0.0323      0.452     -0.071      0.943      -0.929       0.864\n",
      "negative_lstm    -0.0675      0.427     -0.158      0.874      -0.914       0.779\n",
      "==============================================================================\n",
      "Omnibus:                      197.395   Durbin-Watson:                   1.989\n",
      "Prob(Omnibus):                  0.000   Jarque-Bera (JB):            25317.306\n",
      "Skew:                           8.120   Prob(JB):                         0.00\n",
      "Kurtosis:                      78.454   Cond. No.                     3.39e+16\n",
      "==============================================================================\n",
      "\n",
      "Notes:\n",
      "[1] Standard Errors assume that the covariance matrix of the errors is correctly specified.\n",
      "[2] The smallest eigenvalue is 1.19e-31. This might indicate that there are\n",
      "strong multicollinearity problems or that the design matrix is singular.\n"
     ]
    }
   ],
   "source": [
    "X = sm.add_constant(data_withSentiment_US_unemployment[['lag_UNRATE', 'positive_lstm','neutral_lstm','negative_lstm']])\n",
    "Y = data_withSentiment_US_unemployment['UNRATE']\n",
    "lstm_model_withSentiment_current_US_unemployment = sm.OLS(Y,X).fit()\n",
    "print(lstm_model_withSentiment_current_US_unemployment.summary())"
   ]
  },
  {
   "cell_type": "code",
   "execution_count": 25,
   "metadata": {},
   "outputs": [
    {
     "name": "stdout",
     "output_type": "stream",
     "text": [
      "                            OLS Regression Results                            \n",
      "==============================================================================\n",
      "Dep. Variable:                  GDPC1   R-squared:                       0.074\n",
      "Model:                            OLS   Adj. R-squared:                 -0.018\n",
      "Method:                 Least Squares   F-statistic:                    0.8014\n",
      "Date:                Tue, 02 Nov 2021   Prob (F-statistic):              0.503\n",
      "Time:                        01:42:47   Log-Likelihood:                 83.558\n",
      "No. Observations:                  34   AIC:                            -159.1\n",
      "Df Residuals:                      30   BIC:                            -153.0\n",
      "Df Model:                           3                                         \n",
      "Covariance Type:            nonrobust                                         \n",
      "=================================================================================\n",
      "                    coef    std err          t      P>|t|      [0.025      0.975]\n",
      "---------------------------------------------------------------------------------\n",
      "const             0.0046      0.003      1.411      0.168      -0.002       0.011\n",
      "lag_GDPC1        -0.2725      0.190     -1.433      0.162      -0.661       0.116\n",
      "positive_lstm     0.0002      0.026      0.007      0.994      -0.054       0.054\n",
      "neutral_lstm      0.0015      0.033      0.046      0.964      -0.066       0.069\n",
      "negative_lstm     0.0029      0.030      0.096      0.924      -0.058       0.064\n",
      "==============================================================================\n",
      "Omnibus:                       61.770   Durbin-Watson:                   2.085\n",
      "Prob(Omnibus):                  0.000   Jarque-Bera (JB):              591.128\n",
      "Skew:                          -3.912   Prob(JB):                    4.35e-129\n",
      "Kurtosis:                      21.869   Cond. No.                     9.10e+15\n",
      "==============================================================================\n",
      "\n",
      "Notes:\n",
      "[1] Standard Errors assume that the covariance matrix of the errors is correctly specified.\n",
      "[2] The smallest eigenvalue is 5.48e-31. This might indicate that there are\n",
      "strong multicollinearity problems or that the design matrix is singular.\n"
     ]
    }
   ],
   "source": [
    "X = sm.add_constant(data_withSentiment_US_growth[['lag_GDPC1', 'positive_lstm','neutral_lstm','negative_lstm']])\n",
    "Y = data_withSentiment_US_growth['GDPC1']\n",
    "lstm_model_withSentiment_current_US_growth = sm.OLS(Y,X).fit()\n",
    "print(lstm_model_withSentiment_current_US_growth.summary())"
   ]
  },
  {
   "cell_type": "code",
   "execution_count": 26,
   "metadata": {},
   "outputs": [
    {
     "name": "stdout",
     "output_type": "stream",
     "text": [
      "                            OLS Regression Results                            \n",
      "==============================================================================\n",
      "Dep. Variable:         FPCPITOTLZGUSA   R-squared:                       0.643\n",
      "Model:                            OLS   Adj. R-squared:                  0.376\n",
      "Method:                 Least Squares   F-statistic:                     2.406\n",
      "Date:                Tue, 02 Nov 2021   Prob (F-statistic):              0.208\n",
      "Time:                        01:42:48   Log-Likelihood:                -5.6939\n",
      "No. Observations:                   8   AIC:                             19.39\n",
      "Df Residuals:                       4   BIC:                             19.71\n",
      "Df Model:                           3                                         \n",
      "Covariance Type:            nonrobust                                         \n",
      "======================================================================================\n",
      "                         coef    std err          t      P>|t|      [0.025      0.975]\n",
      "--------------------------------------------------------------------------------------\n",
      "const                 -0.1349      0.269     -0.501      0.643      -0.882       0.613\n",
      "lag_FPCPITOTLZGUSA     0.0411      0.325      0.126      0.906      -0.863       0.945\n",
      "positive_lstm         10.5124      4.019      2.615      0.059      -0.647      21.672\n",
      "neutral_lstm          -2.7473      4.993     -0.550      0.611     -16.611      11.116\n",
      "negative_lstm         -7.9001      6.634     -1.191      0.300     -26.320      10.520\n",
      "==============================================================================\n",
      "Omnibus:                        0.599   Durbin-Watson:                   0.938\n",
      "Prob(Omnibus):                  0.741   Jarque-Bera (JB):                0.518\n",
      "Skew:                          -0.456   Prob(JB):                        0.772\n",
      "Kurtosis:                       2.151   Cond. No.                     3.31e+16\n",
      "==============================================================================\n",
      "\n",
      "Notes:\n",
      "[1] Standard Errors assume that the covariance matrix of the errors is correctly specified.\n",
      "[2] The smallest eigenvalue is 1.02e-32. This might indicate that there are\n",
      "strong multicollinearity problems or that the design matrix is singular.\n"
     ]
    },
    {
     "name": "stderr",
     "output_type": "stream",
     "text": [
      "C:\\ProgramData\\Anaconda3\\envs\\nlu\\lib\\site-packages\\scipy\\stats\\stats.py:1603: UserWarning: kurtosistest only valid for n>=20 ... continuing anyway, n=8\n",
      "  warnings.warn(\"kurtosistest only valid for n>=20 ... continuing \"\n"
     ]
    }
   ],
   "source": [
    "X = sm.add_constant(data_withSentiment_US_inflation[['lag_FPCPITOTLZGUSA', 'positive_lstm','neutral_lstm','negative_lstm']])\n",
    "Y = data_withSentiment_US_inflation['FPCPITOTLZGUSA']\n",
    "lstm_model_withSentiment_current_US_inflation = sm.OLS(Y,X).fit()\n",
    "print(lstm_model_withSentiment_current_US_inflation.summary())"
   ]
  }
 ],
 "metadata": {
  "kernelspec": {
   "display_name": "nlu",
   "language": "python",
   "name": "nlu"
  },
  "language_info": {
   "codemirror_mode": {
    "name": "ipython",
    "version": 3
   },
   "file_extension": ".py",
   "mimetype": "text/x-python",
   "name": "python",
   "nbconvert_exporter": "python",
   "pygments_lexer": "ipython3",
   "version": "3.8.5"
  }
 },
 "nbformat": 4,
 "nbformat_minor": 4
}
