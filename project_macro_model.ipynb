{
 "cells": [
  {
   "cell_type": "markdown",
   "metadata": {},
   "source": [
    "# Macroeconomic Forecasting Model with Sentiment Scores"
   ]
  },
  {
   "cell_type": "markdown",
   "metadata": {},
   "source": [
    "#### Cell 7 to be updated, current result are wrong, just for testing."
   ]
  },
  {
   "cell_type": "markdown",
   "metadata": {},
   "source": [
    "### Loading Package"
   ]
  },
  {
   "cell_type": "code",
   "execution_count": 1,
   "metadata": {},
   "outputs": [],
   "source": [
    "import numpy as np\n",
    "import pandas as pd"
   ]
  },
  {
   "cell_type": "markdown",
   "metadata": {},
   "source": [
    "### Reading in Macroeconomics Data"
   ]
  },
  {
   "cell_type": "code",
   "execution_count": 2,
   "metadata": {},
   "outputs": [],
   "source": [
    "raw_US_gdp = pd.read_csv(r\"Data\\FRED\\GDPC1.csv\").set_index('DATE')\n",
    "raw_US_inflation = pd.read_csv(r\"Data\\FRED\\FPCPITOTLZGUSA.csv\").set_index('DATE')\n",
    "raw_US_unemployment = pd.read_csv(r\"Data\\FRED\\UNRATE.csv\").set_index('DATE')"
   ]
  },
  {
   "cell_type": "code",
   "execution_count": 3,
   "metadata": {},
   "outputs": [],
   "source": [
    "raw_US_gdp.index = pd.to_datetime(raw_US_gdp.index)\n",
    "raw_US_inflation.index = pd.to_datetime(raw_US_inflation.index)\n",
    "raw_US_unemployment.index = pd.to_datetime(raw_US_unemployment.index)"
   ]
  },
  {
   "cell_type": "code",
   "execution_count": 4,
   "metadata": {},
   "outputs": [],
   "source": [
    "data_US_unemployment = (raw_US_unemployment - raw_US_unemployment.shift(1))[1:]\n",
    "data_US_unemployment['year'] = data_US_unemployment.index.year\n",
    "data_US_unemployment['month'] = data_US_unemployment.index.month\n",
    "data_US_unemployment = data_US_unemployment.reset_index().set_index(['year','month']).drop(columns = ['DATE'])"
   ]
  },
  {
   "cell_type": "code",
   "execution_count": 5,
   "metadata": {},
   "outputs": [],
   "source": [
    "data_US_growth = ((raw_US_gdp - raw_US_gdp.shift(1)) / raw_US_gdp)[1:]\n",
    "data_US_growth['year'] = data_US_growth.index.year\n",
    "data_US_growth['quarter'] = np.ceil(data_US_growth.index.month / 3).astype(int)\n",
    "data_US_growth = data_US_growth.reset_index().set_index(['year','quarter']).drop(columns = ['DATE'])"
   ]
  },
  {
   "cell_type": "code",
   "execution_count": 6,
   "metadata": {},
   "outputs": [],
   "source": [
    "data_US_inflation = (raw_US_inflation - raw_US_inflation.shift(1))[1:]\n",
    "data_US_inflation['year'] = data_US_inflation.index.year\n",
    "data_US_inflation = data_US_inflation.reset_index().set_index(['year']).drop(columns = ['DATE'])"
   ]
  },
  {
   "cell_type": "markdown",
   "metadata": {},
   "source": [
    "### Reading in Sentiment Score Data"
   ]
  },
  {
   "cell_type": "code",
   "execution_count": 7,
   "metadata": {},
   "outputs": [],
   "source": [
    "########## !!!!!!!!!!!! wrong csv file!\n",
    "sentiment_score = pd.read_csv(r\"Data\\sentiment_score_wrong.csv\").set_index(['year','month']).drop(columns=['exception'])"
   ]
  },
  {
   "cell_type": "code",
   "execution_count": 8,
   "metadata": {},
   "outputs": [],
   "source": [
    "year1 = []\n",
    "year4 = []\n",
    "period4 = []\n",
    "for i in range(1979, 2021):\n",
    "    year1.append(i)\n",
    "    for j in range(0, 4):\n",
    "        year4.append(i)\n",
    "        period4.append(j+1)"
   ]
  },
  {
   "cell_type": "code",
   "execution_count": 9,
   "metadata": {},
   "outputs": [],
   "source": [
    "column_name = ['positive', 'neutral', 'negative']\n",
    "sentiment_score_yearly = pd.DataFrame(np.zeros((len(year1), len(column_name))), index = year1, columns = column_name)\n",
    "sentiment_score_yearly = sentiment_score_yearly.reset_index().rename(columns={\"index\": \"year\"}).set_index('year')\n",
    "sentiment_score_quarterly = pd.DataFrame(np.zeros((len(year4), len(column_name))), index = [year4, period4], columns = column_name)\n",
    "sentiment_score_quarterly = sentiment_score_quarterly.reset_index().rename(columns={\"level_0\": \"year\", \"level_1\": \"quarter\"}).set_index(['year','quarter'])"
   ]
  },
  {
   "cell_type": "code",
   "execution_count": 10,
   "metadata": {},
   "outputs": [],
   "source": [
    "sentiment_score_monthly = sentiment_score\n",
    "sentiment_score_monthly[\"sum\"] = sentiment_score_monthly.sum(axis=1)\n",
    "sentiment_score_monthly = sentiment_score_monthly.div(sentiment_score_monthly[\"sum\"], axis=0).drop(columns=['sum'])"
   ]
  },
  {
   "cell_type": "code",
   "execution_count": 11,
   "metadata": {},
   "outputs": [],
   "source": [
    "for year in sentiment_score_yearly.index:\n",
    "    sentiment_score_yearly.loc[year] = sentiment_score_monthly.loc[year].mean(axis=0)"
   ]
  },
  {
   "cell_type": "code",
   "execution_count": 12,
   "metadata": {},
   "outputs": [],
   "source": [
    "for (year,quarter) in sentiment_score_quarterly.index:\n",
    "    year_match = sentiment_score_monthly.index.get_level_values('year') == year\n",
    "    quarter_match = np.ceil(sentiment_score_monthly.index.get_level_values('month') / 3) == quarter\n",
    "    sentiment_score_quarterly.loc[year, quarter] = sentiment_score_monthly[year_match * quarter_match].mean(axis=0)"
   ]
  },
  {
   "cell_type": "markdown",
   "metadata": {},
   "source": [
    "### Combine the Datasets"
   ]
  },
  {
   "cell_type": "code",
   "execution_count": 13,
   "metadata": {},
   "outputs": [],
   "source": [
    "data_withSentiment_US_unemployment = sentiment_score_monthly.join(data_US_unemployment)\n",
    "data_withSentiment_US_growth = sentiment_score_quarterly.join(data_US_growth)\n",
    "data_withSentiment_US_inflation = sentiment_score_yearly.join(data_US_inflation)"
   ]
  },
  {
   "cell_type": "code",
   "execution_count": 14,
   "metadata": {},
   "outputs": [],
   "source": [
    "data_US_unemployment = data_withSentiment_US_unemployment.drop(columns = ['positive','neutral','negative'])\n",
    "data_US_growth = data_withSentiment_US_growth.drop(columns = ['positive','neutral','negative'])\n",
    "data_US_inflation = data_withSentiment_US_inflation.drop(columns = ['positive','neutral','negative'])"
   ]
  },
  {
   "cell_type": "markdown",
   "metadata": {},
   "source": [
    "### Exploratory Data Analysis"
   ]
  },
  {
   "cell_type": "code",
   "execution_count": 15,
   "metadata": {},
   "outputs": [],
   "source": [
    "from statsmodels.tsa.stattools import adfuller\n",
    "from statsmodels.graphics.tsaplots import plot_pacf"
   ]
  },
  {
   "cell_type": "code",
   "execution_count": 16,
   "metadata": {},
   "outputs": [
    {
     "name": "stdout",
     "output_type": "stream",
     "text": [
      "P-value:  1.8019638493718278e-24\n"
     ]
    },
    {
     "data": {
      "image/png": "[encoded data removed]",
      "text/plain": [
       "<Figure size 432x288 with 1 Axes>"
      ]
     },
     "metadata": {
      "needs_background": "light"
     },
     "output_type": "display_data"
    }
   ],
   "source": [
    "df = data_US_unemployment\n",
    "stationarityTest_US_unemployment = adfuller(df, autolag='AIC')\n",
    "print(\"P-value: \", stationarityTest_US_unemployment[1])\n",
    "pacf = plot_pacf(df, lags=20)"
   ]
  },
  {
   "cell_type": "code",
   "execution_count": 17,
   "metadata": {},
   "outputs": [
    {
     "name": "stdout",
     "output_type": "stream",
     "text": [
      "P-value:  2.0395551840158942e-25\n"
     ]
    },
    {
     "data": {
      "image/png": "[encoded data removed]",
      "text/plain": [
       "<Figure size 432x288 with 1 Axes>"
      ]
     },
     "metadata": {
      "needs_background": "light"
     },
     "output_type": "display_data"
    }
   ],
   "source": [
    "df = data_US_growth\n",
    "stationarityTest_US_growth = adfuller(df, autolag='AIC')\n",
    "print(\"P-value: \", stationarityTest_US_growth[1])\n",
    "pacf = plot_pacf(df, lags=20)"
   ]
  },
  {
   "cell_type": "code",
   "execution_count": 18,
   "metadata": {},
   "outputs": [
    {
     "name": "stdout",
     "output_type": "stream",
     "text": [
      "P-value:  0.00019913420128400285\n"
     ]
    },
    {
     "data": {
      "image/png": "[encoded data removed]",
      "text/plain": [
       "<Figure size 432x288 with 1 Axes>"
      ]
     },
     "metadata": {
      "needs_background": "light"
     },
     "output_type": "display_data"
    }
   ],
   "source": [
    "df = data_US_inflation\n",
    "stationarityTest_US_inflation = adfuller(df, autolag='AIC')\n",
    "print(\"P-value: \", stationarityTest_US_inflation[1])\n",
    "pacf = plot_pacf(df, lags=20)"
   ]
  },
  {
   "cell_type": "markdown",
   "metadata": {},
   "source": [
    "### Baseline Model"
   ]
  },
  {
   "cell_type": "code",
   "execution_count": 19,
   "metadata": {},
   "outputs": [],
   "source": [
    "import statsmodels.api as sm\n",
    "#from statsmodels.tsa.ar_model import AutoReg"
   ]
  },
  {
   "cell_type": "code",
   "execution_count": 20,
   "metadata": {},
   "outputs": [
    {
     "name": "stdout",
     "output_type": "stream",
     "text": [
      "                            OLS Regression Results                            \n",
      "==============================================================================\n",
      "Dep. Variable:                 UNRATE   R-squared:                       0.001\n",
      "Model:                            OLS   Adj. R-squared:                 -0.001\n",
      "Method:                 Least Squares   F-statistic:                    0.4975\n",
      "Date:                Mon, 01 Nov 2021   Prob (F-statistic):              0.481\n",
      "Time:                        01:24:26   Log-Likelihood:                -383.08\n",
      "No. Observations:                 503   AIC:                             770.2\n",
      "Df Residuals:                     501   BIC:                             778.6\n",
      "Df Model:                           1                                         \n",
      "Covariance Type:            nonrobust                                         \n",
      "==============================================================================\n",
      "                 coef    std err          t      P>|t|      [0.025      0.975]\n",
      "------------------------------------------------------------------------------\n",
      "const          0.0015      0.023      0.067      0.947      -0.044       0.047\n",
      "UNRATE         0.0315      0.045      0.705      0.481      -0.056       0.119\n",
      "==============================================================================\n",
      "Omnibus:                     1061.626   Durbin-Watson:                   1.994\n",
      "Prob(Omnibus):                  0.000   Jarque-Bera (JB):          2127173.386\n",
      "Skew:                          15.615   Prob(JB):                         0.00\n",
      "Kurtosis:                     320.049   Cond. No.                         1.93\n",
      "==============================================================================\n",
      "\n",
      "Notes:\n",
      "[1] Standard Errors assume that the covariance matrix of the errors is correctly specified.\n"
     ]
    }
   ],
   "source": [
    "X = sm.add_constant(data_US_unemployment[0:-1].reset_index().drop(columns = ['year','month']))\n",
    "Y = data_US_unemployment[1:].reset_index().drop(columns = ['year','month'])\n",
    "ar_model_US_unemployment = sm.OLS(Y,X).fit()\n",
    "print(ar_model_US_unemployment.summary())\n",
    "\n",
    "#ar_model_US_unemployment = AutoReg(data_US_unemployment, lags=1).fit()\n",
    "#print(ar_model_US_unemployment.summary())"
   ]
  },
  {
   "cell_type": "code",
   "execution_count": 21,
   "metadata": {},
   "outputs": [
    {
     "name": "stdout",
     "output_type": "stream",
     "text": [
      "                            OLS Regression Results                            \n",
      "==============================================================================\n",
      "Dep. Variable:                  GDPC1   R-squared:                       0.003\n",
      "Model:                            OLS   Adj. R-squared:                 -0.003\n",
      "Method:                 Least Squares   F-statistic:                    0.5285\n",
      "Date:                Mon, 01 Nov 2021   Prob (F-statistic):              0.468\n",
      "Time:                        01:24:26   Log-Likelihood:                 505.61\n",
      "No. Observations:                 167   AIC:                            -1007.\n",
      "Df Residuals:                     165   BIC:                            -1001.\n",
      "Df Model:                           1                                         \n",
      "Covariance Type:            nonrobust                                         \n",
      "==============================================================================\n",
      "                 coef    std err          t      P>|t|      [0.025      0.975]\n",
      "------------------------------------------------------------------------------\n",
      "const          0.0064      0.001      6.228      0.000       0.004       0.008\n",
      "GDPC1         -0.0565      0.078     -0.727      0.468      -0.210       0.097\n",
      "==============================================================================\n",
      "Omnibus:                      184.722   Durbin-Watson:                   1.996\n",
      "Prob(Omnibus):                  0.000   Jarque-Bera (JB):            11783.025\n",
      "Skew:                          -3.818   Prob(JB):                         0.00\n",
      "Kurtosis:                      43.436   Cond. No.                         85.2\n",
      "==============================================================================\n",
      "\n",
      "Notes:\n",
      "[1] Standard Errors assume that the covariance matrix of the errors is correctly specified.\n"
     ]
    }
   ],
   "source": [
    "X = sm.add_constant(data_US_growth[0:-1].reset_index().drop(columns = ['year','quarter']))\n",
    "Y = data_US_growth[1:].reset_index().drop(columns = ['year','quarter'])\n",
    "ar_model_US_growth = sm.OLS(Y,X).fit()\n",
    "print(ar_model_US_growth.summary())\n",
    "\n",
    "#ar_model_US_growth = AutoReg(data_US_growth, lags=1).fit()\n",
    "#print(ar_model_US_growth.summary())"
   ]
  },
  {
   "cell_type": "code",
   "execution_count": 22,
   "metadata": {},
   "outputs": [
    {
     "name": "stdout",
     "output_type": "stream",
     "text": [
      "                            OLS Regression Results                            \n",
      "==============================================================================\n",
      "Dep. Variable:         FPCPITOTLZGUSA   R-squared:                       0.013\n",
      "Model:                            OLS   Adj. R-squared:                 -0.013\n",
      "Method:                 Least Squares   F-statistic:                    0.5056\n",
      "Date:                Mon, 01 Nov 2021   Prob (F-statistic):              0.481\n",
      "Time:                        01:24:26   Log-Likelihood:                -73.683\n",
      "No. Observations:                  41   AIC:                             151.4\n",
      "Df Residuals:                      39   BIC:                             154.8\n",
      "Df Model:                           1                                         \n",
      "Covariance Type:            nonrobust                                         \n",
      "==================================================================================\n",
      "                     coef    std err          t      P>|t|      [0.025      0.975]\n",
      "----------------------------------------------------------------------------------\n",
      "const             -0.2295      0.235     -0.978      0.334      -0.704       0.245\n",
      "FPCPITOTLZGUSA     0.1049      0.148      0.711      0.481      -0.194       0.403\n",
      "==============================================================================\n",
      "Omnibus:                        7.443   Durbin-Watson:                   2.061\n",
      "Prob(Omnibus):                  0.024   Jarque-Bera (JB):                6.174\n",
      "Skew:                          -0.852   Prob(JB):                       0.0456\n",
      "Kurtosis:                       3.841   Cond. No.                         1.61\n",
      "==============================================================================\n",
      "\n",
      "Notes:\n",
      "[1] Standard Errors assume that the covariance matrix of the errors is correctly specified.\n"
     ]
    }
   ],
   "source": [
    "X = sm.add_constant(data_US_inflation[0:-1].reset_index().drop(columns = ['year']))\n",
    "Y = data_US_inflation[1:].reset_index().drop(columns = ['year'])\n",
    "ar_model_US_inflation = sm.OLS(Y,X).fit()\n",
    "print(ar_model_US_inflation.summary())\n",
    "\n",
    "#ar_model_US_inflation = AutoReg(data_US_inflation, lags=1).fit()\n",
    "#print(ar_model_US_inflation.summary())"
   ]
  },
  {
   "cell_type": "markdown",
   "metadata": {},
   "source": [
    "### Model with Sentiment Scores (previous quarter)"
   ]
  },
  {
   "cell_type": "code",
   "execution_count": 23,
   "metadata": {},
   "outputs": [
    {
     "name": "stdout",
     "output_type": "stream",
     "text": [
      "                            OLS Regression Results                            \n",
      "==============================================================================\n",
      "Dep. Variable:                 UNRATE   R-squared:                       0.001\n",
      "Model:                            OLS   Adj. R-squared:                 -0.005\n",
      "Method:                 Least Squares   F-statistic:                    0.2316\n",
      "Date:                Mon, 01 Nov 2021   Prob (F-statistic):              0.874\n",
      "Time:                        01:24:28   Log-Likelihood:                -382.98\n",
      "No. Observations:                 503   AIC:                             774.0\n",
      "Df Residuals:                     499   BIC:                             790.8\n",
      "Df Model:                           3                                         \n",
      "Covariance Type:            nonrobust                                         \n",
      "==============================================================================\n",
      "                 coef    std err          t      P>|t|      [0.025      0.975]\n",
      "------------------------------------------------------------------------------\n",
      "const          0.0014      0.018      0.078      0.938      -0.033       0.036\n",
      "positive      -0.0237      0.082     -0.287      0.774      -0.186       0.138\n",
      "neutral        0.0376      0.086      0.435      0.664      -0.132       0.207\n",
      "negative      -0.0126      0.091     -0.138      0.890      -0.192       0.167\n",
      "UNRATE         0.0332      0.045      0.737      0.462      -0.055       0.122\n",
      "==============================================================================\n",
      "Omnibus:                     1060.819   Durbin-Watson:                   1.991\n",
      "Prob(Omnibus):                  0.000   Jarque-Bera (JB):          2118241.010\n",
      "Skew:                          15.589   Prob(JB):                         0.00\n",
      "Kurtosis:                     319.381   Cond. No.                     2.23e+16\n",
      "==============================================================================\n",
      "\n",
      "Notes:\n",
      "[1] Standard Errors assume that the covariance matrix of the errors is correctly specified.\n",
      "[2] The smallest eigenvalue is 1.35e-30. This might indicate that there are\n",
      "strong multicollinearity problems or that the design matrix is singular.\n"
     ]
    }
   ],
   "source": [
    "X = sm.add_constant(data_withSentiment_US_unemployment[0:-1].reset_index().drop(columns = ['year','month']))\n",
    "Y = data_withSentiment_US_unemployment[1:].reset_index().drop(columns = ['year','month','positive','neutral','negative'])\n",
    "ar_model_withSentiment_previous_US_unemployment = sm.OLS(Y,X).fit()\n",
    "print(ar_model_withSentiment_previous_US_unemployment.summary())"
   ]
  },
  {
   "cell_type": "code",
   "execution_count": 24,
   "metadata": {},
   "outputs": [
    {
     "name": "stdout",
     "output_type": "stream",
     "text": [
      "                            OLS Regression Results                            \n",
      "==============================================================================\n",
      "Dep. Variable:                  GDPC1   R-squared:                       0.007\n",
      "Model:                            OLS   Adj. R-squared:                 -0.012\n",
      "Method:                 Least Squares   F-statistic:                    0.3637\n",
      "Date:                Mon, 01 Nov 2021   Prob (F-statistic):              0.779\n",
      "Time:                        01:24:29   Log-Likelihood:                 505.90\n",
      "No. Observations:                 167   AIC:                            -1004.\n",
      "Df Residuals:                     163   BIC:                            -991.3\n",
      "Df Model:                           3                                         \n",
      "Covariance Type:            nonrobust                                         \n",
      "==============================================================================\n",
      "                 coef    std err          t      P>|t|      [0.025      0.975]\n",
      "------------------------------------------------------------------------------\n",
      "const          0.0049      0.001      6.203      0.000       0.003       0.006\n",
      "positive      -0.0023      0.006     -0.408      0.684      -0.013       0.009\n",
      "neutral        0.0018      0.006      0.309      0.757      -0.010       0.013\n",
      "negative       0.0054      0.006      0.868      0.387      -0.007       0.018\n",
      "GDPC1         -0.0591      0.078     -0.755      0.451      -0.214       0.095\n",
      "==============================================================================\n",
      "Omnibus:                      182.281   Durbin-Watson:                   1.988\n",
      "Prob(Omnibus):                  0.000   Jarque-Bera (JB):            11357.768\n",
      "Skew:                          -3.740   Prob(JB):                         0.00\n",
      "Kurtosis:                      42.703   Cond. No.                     4.67e+15\n",
      "==============================================================================\n",
      "\n",
      "Notes:\n",
      "[1] Standard Errors assume that the covariance matrix of the errors is correctly specified.\n",
      "[2] The smallest eigenvalue is 1.02e-29. This might indicate that there are\n",
      "strong multicollinearity problems or that the design matrix is singular.\n"
     ]
    }
   ],
   "source": [
    "X = sm.add_constant(data_withSentiment_US_growth[0:-1].reset_index().drop(columns = ['year','quarter']))\n",
    "Y = data_withSentiment_US_growth[1:].reset_index().drop(columns = ['year','quarter','positive','neutral','negative'])\n",
    "ar_model_withSentiment_previous_US_growth = sm.OLS(Y,X).fit()\n",
    "print(ar_model_withSentiment_previous_US_growth.summary())"
   ]
  },
  {
   "cell_type": "code",
   "execution_count": 25,
   "metadata": {},
   "outputs": [
    {
     "name": "stdout",
     "output_type": "stream",
     "text": [
      "                            OLS Regression Results                            \n",
      "==============================================================================\n",
      "Dep. Variable:         FPCPITOTLZGUSA   R-squared:                       0.114\n",
      "Model:                            OLS   Adj. R-squared:                  0.043\n",
      "Method:                 Least Squares   F-statistic:                     1.594\n",
      "Date:                Mon, 01 Nov 2021   Prob (F-statistic):              0.207\n",
      "Time:                        01:24:30   Log-Likelihood:                -71.455\n",
      "No. Observations:                  41   AIC:                             150.9\n",
      "Df Residuals:                      37   BIC:                             157.8\n",
      "Df Model:                           3                                         \n",
      "Covariance Type:            nonrobust                                         \n",
      "==================================================================================\n",
      "                     coef    std err          t      P>|t|      [0.025      0.975]\n",
      "----------------------------------------------------------------------------------\n",
      "const             -0.1490      0.190     -0.783      0.439      -0.535       0.237\n",
      "positive           2.6793      2.663      1.006      0.321      -2.717       8.076\n",
      "neutral           -7.3460      3.692     -1.990      0.054     -14.827       0.135\n",
      "negative           4.5177      4.103      1.101      0.278      -3.795      12.831\n",
      "FPCPITOTLZGUSA     0.0272      0.152      0.179      0.859      -0.281       0.336\n",
      "==============================================================================\n",
      "Omnibus:                        6.988   Durbin-Watson:                   2.289\n",
      "Prob(Omnibus):                  0.030   Jarque-Bera (JB):                5.718\n",
      "Skew:                          -0.763   Prob(JB):                       0.0573\n",
      "Kurtosis:                       4.009   Cond. No.                     1.59e+16\n",
      "==============================================================================\n",
      "\n",
      "Notes:\n",
      "[1] Standard Errors assume that the covariance matrix of the errors is correctly specified.\n",
      "[2] The smallest eigenvalue is 4.14e-31. This might indicate that there are\n",
      "strong multicollinearity problems or that the design matrix is singular.\n"
     ]
    }
   ],
   "source": [
    "X = sm.add_constant(data_withSentiment_US_inflation[0:-1].reset_index().drop(columns = ['year']))\n",
    "Y = data_withSentiment_US_inflation[1:].reset_index().drop(columns = ['year','positive','neutral','negative'])\n",
    "ar_model_withSentiment_previous_US_inflation = sm.OLS(Y,X).fit()\n",
    "print(ar_model_withSentiment_previous_US_inflation.summary())"
   ]
  },
  {
   "cell_type": "markdown",
   "metadata": {},
   "source": [
    "### Model with Sentiment Scores (current quarter)"
   ]
  },
  {
   "cell_type": "code",
   "execution_count": 26,
   "metadata": {},
   "outputs": [
    {
     "name": "stdout",
     "output_type": "stream",
     "text": [
      "                            OLS Regression Results                            \n",
      "==============================================================================\n",
      "Dep. Variable:                 UNRATE   R-squared:                       0.017\n",
      "Model:                            OLS   Adj. R-squared:                  0.011\n",
      "Method:                 Least Squares   F-statistic:                     2.912\n",
      "Date:                Mon, 01 Nov 2021   Prob (F-statistic):             0.0340\n",
      "Time:                        01:24:31   Log-Likelihood:                -378.97\n",
      "No. Observations:                 503   AIC:                             765.9\n",
      "Df Residuals:                     499   BIC:                             782.8\n",
      "Df Model:                           3                                         \n",
      "Covariance Type:            nonrobust                                         \n",
      "==============================================================================\n",
      "                 coef    std err          t      P>|t|      [0.025      0.975]\n",
      "------------------------------------------------------------------------------\n",
      "UNRATE         0.0332      0.044      0.748      0.455      -0.054       0.120\n",
      "positive       0.2279      0.082      2.773      0.006       0.066       0.389\n",
      "neutral       -0.1195      0.088     -1.351      0.177      -0.293       0.054\n",
      "negative      -0.1278      0.095     -1.341      0.180      -0.315       0.059\n",
      "==============================================================================\n",
      "Omnibus:                     1051.067   Durbin-Watson:                   1.989\n",
      "Prob(Omnibus):                  0.000   Jarque-Bera (JB):          2002528.999\n",
      "Skew:                          15.277   Prob(JB):                         0.00\n",
      "Kurtosis:                     310.595   Cond. No.                         2.78\n",
      "==============================================================================\n",
      "\n",
      "Notes:\n",
      "[1] Standard Errors assume that the covariance matrix of the errors is correctly specified.\n"
     ]
    }
   ],
   "source": [
    "X1 = data_withSentiment_US_unemployment.reset_index().drop(columns = ['year','month','positive','neutral','negative'])[0:-1]\n",
    "X2 = data_withSentiment_US_unemployment[['positive','neutral','negative']][1:].reset_index().drop(columns = ['year','month'])\n",
    "X = X1.join(X2)\n",
    "Y = data_withSentiment_US_unemployment[1:].reset_index().drop(columns = ['year','month','positive','neutral','negative'])\n",
    "ar_model_withSentiment_current_US_unemployment = sm.OLS(Y,X).fit()\n",
    "print(ar_model_withSentiment_current_US_unemployment.summary())"
   ]
  },
  {
   "cell_type": "code",
   "execution_count": 27,
   "metadata": {},
   "outputs": [
    {
     "name": "stdout",
     "output_type": "stream",
     "text": [
      "                            OLS Regression Results                            \n",
      "==============================================================================\n",
      "Dep. Variable:                  GDPC1   R-squared:                       0.008\n",
      "Model:                            OLS   Adj. R-squared:                 -0.010\n",
      "Method:                 Least Squares   F-statistic:                    0.4606\n",
      "Date:                Mon, 01 Nov 2021   Prob (F-statistic):              0.710\n",
      "Time:                        01:24:32   Log-Likelihood:                 506.04\n",
      "No. Observations:                 167   AIC:                            -1004.\n",
      "Df Residuals:                     163   BIC:                            -991.6\n",
      "Df Model:                           3                                         \n",
      "Covariance Type:            nonrobust                                         \n",
      "==============================================================================\n",
      "                 coef    std err          t      P>|t|      [0.025      0.975]\n",
      "------------------------------------------------------------------------------\n",
      "GDPC1         -0.0686      0.080     -0.861      0.391      -0.226       0.089\n",
      "positive       0.0038      0.006      0.682      0.496      -0.007       0.015\n",
      "neutral        0.0037      0.006      0.632      0.529      -0.008       0.015\n",
      "negative       0.0124      0.007      1.877      0.062      -0.001       0.026\n",
      "==============================================================================\n",
      "Omnibus:                      184.260   Durbin-Watson:                   2.004\n",
      "Prob(Omnibus):                  0.000   Jarque-Bera (JB):            11691.238\n",
      "Skew:                          -3.804   Prob(JB):                         0.00\n",
      "Kurtosis:                      43.278   Cond. No.                         50.3\n",
      "==============================================================================\n",
      "\n",
      "Notes:\n",
      "[1] Standard Errors assume that the covariance matrix of the errors is correctly specified.\n"
     ]
    }
   ],
   "source": [
    "X1 = data_withSentiment_US_growth.reset_index().drop(columns = ['year','quarter','positive','neutral','negative'])[0:-1]\n",
    "X2 = data_withSentiment_US_growth[['positive','neutral','negative']][1:].reset_index().drop(columns = ['year','quarter'])\n",
    "X = X1.join(X2)\n",
    "Y = data_withSentiment_US_growth[1:].reset_index().drop(columns = ['year','quarter','positive','neutral','negative'])\n",
    "ar_model_withSentiment_current_US_growth = sm.OLS(Y,X).fit()\n",
    "print(ar_model_withSentiment_current_US_growth.summary())"
   ]
  },
  {
   "cell_type": "code",
   "execution_count": 28,
   "metadata": {},
   "outputs": [
    {
     "name": "stdout",
     "output_type": "stream",
     "text": [
      "                            OLS Regression Results                            \n",
      "==============================================================================\n",
      "Dep. Variable:         FPCPITOTLZGUSA   R-squared:                       0.140\n",
      "Model:                            OLS   Adj. R-squared:                  0.070\n",
      "Method:                 Least Squares   F-statistic:                     2.007\n",
      "Date:                Mon, 01 Nov 2021   Prob (F-statistic):              0.130\n",
      "Time:                        01:24:33   Log-Likelihood:                -70.856\n",
      "No. Observations:                  41   AIC:                             149.7\n",
      "Df Residuals:                      37   BIC:                             156.6\n",
      "Df Model:                           3                                         \n",
      "Covariance Type:            nonrobust                                         \n",
      "==================================================================================\n",
      "                     coef    std err          t      P>|t|      [0.025      0.975]\n",
      "----------------------------------------------------------------------------------\n",
      "FPCPITOTLZGUSA     0.1553      0.145      1.072      0.290      -0.138       0.449\n",
      "positive           0.3092      2.565      0.121      0.905      -4.889       5.507\n",
      "neutral           -8.1388      3.481     -2.338      0.025     -15.193      -1.085\n",
      "negative           7.6100      3.943      1.930      0.061      -0.379      15.599\n",
      "==============================================================================\n",
      "Omnibus:                        4.042   Durbin-Watson:                   2.240\n",
      "Prob(Omnibus):                  0.133   Jarque-Bera (JB):                2.840\n",
      "Skew:                          -0.595   Prob(JB):                        0.242\n",
      "Kurtosis:                       3.498   Cond. No.                         34.7\n",
      "==============================================================================\n",
      "\n",
      "Notes:\n",
      "[1] Standard Errors assume that the covariance matrix of the errors is correctly specified.\n"
     ]
    }
   ],
   "source": [
    "X1 = data_withSentiment_US_inflation.reset_index().drop(columns = ['year','positive','neutral','negative'])[0:-1]\n",
    "X2 = data_withSentiment_US_inflation[['positive','neutral','negative']][1:].reset_index().drop(columns = ['year'])\n",
    "X = X1.join(X2)\n",
    "Y = data_withSentiment_US_inflation[1:].reset_index().drop(columns = ['year','positive','neutral','negative'])\n",
    "ar_model_withSentiment_current_US_inflation = sm.OLS(Y,X).fit()\n",
    "print(ar_model_withSentiment_current_US_inflation.summary())"
   ]
  }
 ],
 "metadata": {
  "kernelspec": {
   "display_name": "nlu",
   "language": "python",
   "name": "nlu"
  },
  "language_info": {
   "codemirror_mode": {
    "name": "ipython",
    "version": 3
   },
   "file_extension": ".py",
   "mimetype": "text/x-python",
   "name": "python",
   "nbconvert_exporter": "python",
   "pygments_lexer": "ipython3",
   "version": "3.8.5"
  }
 },
 "nbformat": 4,
 "nbformat_minor": 4
}
