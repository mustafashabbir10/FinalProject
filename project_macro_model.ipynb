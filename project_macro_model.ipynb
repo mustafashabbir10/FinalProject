{
 "cells": [
  {
   "cell_type": "markdown",
   "metadata": {},
   "source": [
    "# Macroeconomic Forecasting Model with Sentiment Scores"
   ]
  },
  {
   "cell_type": "markdown",
   "metadata": {},
   "source": [
    "### Loading Package"
   ]
  },
  {
   "cell_type": "code",
   "execution_count": 1,
   "metadata": {},
   "outputs": [],
   "source": [
    "import numpy as np\n",
    "import pandas as pd"
   ]
  },
  {
   "cell_type": "markdown",
   "metadata": {},
   "source": [
    "### Reading in Macroeconomics Data"
   ]
  },
  {
   "cell_type": "code",
   "execution_count": 2,
   "metadata": {},
   "outputs": [],
   "source": [
    "data_US_unemployment = pd.read_csv(r\"Data\\FRED\\UNRATE.csv\").set_index('DATE')\n",
    "data_US_unemployment.index = pd.to_datetime(data_US_unemployment.index)\n",
    "data_US_unemployment['year'] = data_US_unemployment.index.year\n",
    "data_US_unemployment['month'] = data_US_unemployment.index.month\n",
    "data_US_unemployment = data_US_unemployment.reset_index().set_index(['year','month']).drop(columns = ['DATE'])"
   ]
  },
  {
   "cell_type": "code",
   "execution_count": 3,
   "metadata": {},
   "outputs": [],
   "source": [
    "data_US_gdp = pd.read_csv(r\"Data\\FRED\\GDPC1.csv\").set_index('DATE')\n",
    "data_US_gdp.index = pd.to_datetime(data_US_gdp.index)\n",
    "data_US_gdp['year'] = data_US_gdp.index.year\n",
    "data_US_gdp['quarter'] = np.ceil(data_US_gdp.index.month / 3).astype(int)\n",
    "data_US_gdp = data_US_gdp.reset_index().set_index(['year','quarter']).drop(columns = ['DATE'])"
   ]
  },
  {
   "cell_type": "code",
   "execution_count": 4,
   "metadata": {},
   "outputs": [],
   "source": [
    "data_US_inflation = pd.read_csv(r\"Data\\FRED\\CPIAUCNS.csv\").set_index('DATE')\n",
    "data_US_inflation.index = pd.to_datetime(data_US_inflation.index)\n",
    "data_US_inflation['year'] = data_US_inflation.index.year\n",
    "data_US_inflation['month'] = data_US_inflation.index.month\n",
    "data_US_inflation = data_US_inflation.reset_index().set_index(['year','month']).drop(columns = ['DATE'])"
   ]
  },
  {
   "cell_type": "markdown",
   "metadata": {},
   "source": [
    "### Reading in Sentiment Score Data"
   ]
  },
  {
   "cell_type": "code",
   "execution_count": 5,
   "metadata": {},
   "outputs": [],
   "source": [
    "sentiment_score_lr = pd.read_csv(r\"Data\\sentiment_score_lr.csv\").set_index(['year','month']).drop(columns=['exception'])\n",
    "sentiment_score_lr[\"sum\"] = sentiment_score_lr.sum(axis=1)\n",
    "sentiment_score_lr = sentiment_score_lr.div(sentiment_score_lr[\"sum\"], axis=0).drop(columns=['sum'])\n",
    "\n",
    "sentiment_score_lstm = pd.read_csv(r\"Data\\sentiment_score_lstm.csv\").set_index(['year','month']).drop(columns=['exception'])\n",
    "sentiment_score_lstm[\"sum\"] = sentiment_score_lstm.sum(axis=1)\n",
    "sentiment_score_lstm = sentiment_score_lstm.div(sentiment_score_lstm[\"sum\"], axis=0).drop(columns=['sum'])"
   ]
  },
  {
   "cell_type": "code",
   "execution_count": 6,
   "metadata": {},
   "outputs": [],
   "source": [
    "sentiment_score_lr = sentiment_score_lr.rename(columns={\"positive\": \"positive_lr\", \"neutral\": \"neutral_lr\", \"negative\": \"negative_lr\"})\n",
    "sentiment_score_lstm = sentiment_score_lstm.rename(columns={\"positive\": \"positive_lstm\", \"neutral\": \"neutral_lstm\", \"negative\": \"negative_lstm\"})\n",
    "sentiment_score_lr[\"sentiment_lr_diff\"] = sentiment_score_lr[\"positive_lr\"] - sentiment_score_lr[\"negative_lr\"]\n",
    "sentiment_score_lstm[\"sentiment_lstm_diff\"] = sentiment_score_lstm[\"positive_lstm\"] - sentiment_score_lstm[\"negative_lstm\"]\n",
    "sentiment_score_lr[\"sentiment_lr_ratio\"] = sentiment_score_lr[\"positive_lr\"] / sentiment_score_lr[\"negative_lr\"]\n",
    "sentiment_score_lstm[\"sentiment_lstm_ratio\"] = np.log(sentiment_score_lstm[\"positive_lstm\"] / sentiment_score_lstm[\"negative_lstm\"])\n",
    "sentiment_score = sentiment_score_lr.join(sentiment_score_lstm)"
   ]
  },
  {
   "cell_type": "code",
   "execution_count": 7,
   "metadata": {},
   "outputs": [],
   "source": [
    "year1 = []\n",
    "year4 = []\n",
    "period4 = []\n",
    "i = 2013\n",
    "year1.append(i)\n",
    "for j in range(1, 4):\n",
    "    year4.append(i)\n",
    "    period4.append(j+1)\n",
    "for i in range(2014, 2021):\n",
    "    year1.append(i)\n",
    "    for j in range(0, 4):\n",
    "        year4.append(i)\n",
    "        period4.append(j+1)\n",
    "i = 2021\n",
    "year1.append(i)\n",
    "for j in range(0, 3):\n",
    "    year4.append(i)\n",
    "    period4.append(j+1)"
   ]
  },
  {
   "cell_type": "code",
   "execution_count": 8,
   "metadata": {},
   "outputs": [],
   "source": [
    "column_name = ['positive_lr', 'neutral_lr', 'negative_lr', 'sentiment_lr_diff', 'sentiment_lr_ratio', 'positive_lstm', 'neutral_lstm', 'negative_lstm', 'sentiment_lstm_diff', 'sentiment_lstm_ratio']\n",
    "\n",
    "sentiment_score_yearly = pd.DataFrame(np.zeros((len(year1), len(column_name))), index = year1, columns = column_name)\n",
    "sentiment_score_yearly = sentiment_score_yearly.reset_index().rename(columns={\"index\": \"year\"}).set_index('year')\n",
    "for year in sentiment_score_yearly.index:\n",
    "    sentiment_score_yearly.loc[year] = sentiment_score.loc[year].mean(axis=0)\n",
    "\n",
    "sentiment_score_quarterly = pd.DataFrame(np.zeros((len(year4), len(column_name))), index = [year4, period4], columns = column_name)\n",
    "sentiment_score_quarterly = sentiment_score_quarterly.reset_index().rename(columns={\"level_0\": \"year\", \"level_1\": \"quarter\"}).set_index(['year','quarter'])\n",
    "for (year,quarter) in sentiment_score_quarterly.index:\n",
    "    year_match = sentiment_score.index.get_level_values('year') == year\n",
    "    quarter_match = np.ceil(sentiment_score.index.get_level_values('month') / 3) == quarter\n",
    "    sentiment_score_quarterly.loc[year, quarter] = sentiment_score[year_match * quarter_match].mean(axis=0)\n",
    "\n",
    "sentiment_score_monthly = sentiment_score"
   ]
  },
  {
   "cell_type": "markdown",
   "metadata": {},
   "source": [
    "### Combine the Datasets"
   ]
  },
  {
   "cell_type": "code",
   "execution_count": 9,
   "metadata": {},
   "outputs": [],
   "source": [
    "data_US_unemployment['lag_UNRATE'] = np.nan\n",
    "data_US_unemployment['lag_UNRATE'].iloc[1:] = data_US_unemployment['UNRATE'].iloc[0:-1].to_list()\n",
    "data_withSentiment_US_unemployment = sentiment_score_monthly.join(data_US_unemployment)"
   ]
  },
  {
   "cell_type": "code",
   "execution_count": 10,
   "metadata": {},
   "outputs": [],
   "source": [
    "data_US_gdp['lag_GDPC1'] = np.nan\n",
    "data_US_gdp['lag_GDPC1'].iloc[1:] = data_US_gdp['GDPC1'].iloc[0:-1].to_list()\n",
    "data_withSentiment_US_gdp = sentiment_score_quarterly.join(data_US_gdp)"
   ]
  },
  {
   "cell_type": "code",
   "execution_count": 11,
   "metadata": {},
   "outputs": [],
   "source": [
    "data_US_inflation['lag_CPIAUCNS'] = np.nan\n",
    "data_US_inflation['lag_CPIAUCNS'].iloc[1:] = data_US_inflation['CPIAUCNS'].iloc[0:-1].to_list()\n",
    "data_withSentiment_US_inflation = sentiment_score_monthly.join(data_US_inflation)"
   ]
  },
  {
   "cell_type": "markdown",
   "metadata": {},
   "source": [
    "### Exploratory Data Analysis"
   ]
  },
  {
   "cell_type": "code",
   "execution_count": 12,
   "metadata": {},
   "outputs": [],
   "source": [
    "from statsmodels.tsa.stattools import adfuller\n",
    "from statsmodels.graphics.tsaplots import plot_pacf\n",
    "from statsmodels.graphics.tsaplots import plot_acf"
   ]
  },
  {
   "cell_type": "code",
   "execution_count": 13,
   "metadata": {},
   "outputs": [
    {
     "name": "stdout",
     "output_type": "stream",
     "text": [
      "P-value:  0.02122838306954644\n"
     ]
    },
    {
     "data": {
      "image/png": "[encoded data removed]",
      "text/plain": [
       "<Figure size 432x288 with 1 Axes>"
      ]
     },
     "metadata": {
      "needs_background": "light"
     },
     "output_type": "display_data"
    },
    {
     "data": {
      "image/png": "[encoded data removed]",
      "text/plain": [
       "<Figure size 432x288 with 1 Axes>"
      ]
     },
     "metadata": {
      "needs_background": "light"
     },
     "output_type": "display_data"
    }
   ],
   "source": [
    "df = data_withSentiment_US_unemployment['UNRATE']\n",
    "stationarityTest_US_unemployment = adfuller(df, autolag='AIC')\n",
    "print(\"P-value: \", stationarityTest_US_unemployment[1])\n",
    "acf = plot_acf(df, lags=15)\n",
    "pacf = plot_pacf(df, lags=15)"
   ]
  },
  {
   "cell_type": "code",
   "execution_count": 14,
   "metadata": {},
   "outputs": [
    {
     "name": "stdout",
     "output_type": "stream",
     "text": [
      "P-value:  0.5984475172171898\n"
     ]
    },
    {
     "data": {
      "image/png": "[encoded data removed]",
      "text/plain": [
       "<Figure size 432x288 with 1 Axes>"
      ]
     },
     "metadata": {
      "needs_background": "light"
     },
     "output_type": "display_data"
    },
    {
     "data": {
      "image/png": "[encoded data removed]",
      "text/plain": [
       "<Figure size 432x288 with 1 Axes>"
      ]
     },
     "metadata": {
      "needs_background": "light"
     },
     "output_type": "display_data"
    }
   ],
   "source": [
    "df = data_withSentiment_US_gdp['GDPC1']\n",
    "stationarityTest_US_gdp = adfuller(df, autolag='AIC')\n",
    "print(\"P-value: \", stationarityTest_US_gdp[1])\n",
    "acf = plot_acf(df, lags=15)\n",
    "pacf = plot_pacf(df, lags=15)"
   ]
  },
  {
   "cell_type": "code",
   "execution_count": 15,
   "metadata": {},
   "outputs": [
    {
     "name": "stdout",
     "output_type": "stream",
     "text": [
      "P-value:  0.9984327109949332\n"
     ]
    },
    {
     "data": {
      "image/png": "[encoded data removed]",
      "text/plain": [
       "<Figure size 432x288 with 1 Axes>"
      ]
     },
     "metadata": {
      "needs_background": "light"
     },
     "output_type": "display_data"
    },
    {
     "data": {
      "image/png": "[encoded data removed]",
      "text/plain": [
       "<Figure size 432x288 with 1 Axes>"
      ]
     },
     "metadata": {
      "needs_background": "light"
     },
     "output_type": "display_data"
    }
   ],
   "source": [
    "df = data_withSentiment_US_inflation['CPIAUCNS']\n",
    "stationarityTest_US_inflation = adfuller(df, autolag='AIC')\n",
    "print(\"P-value: \", stationarityTest_US_inflation[1])\n",
    "acf = plot_acf(df, lags=15)\n",
    "pacf = plot_pacf(df, lags=15)"
   ]
  },
  {
   "cell_type": "markdown",
   "metadata": {},
   "source": [
    "### Baseline Model"
   ]
  },
  {
   "cell_type": "code",
   "execution_count": 16,
   "metadata": {},
   "outputs": [],
   "source": [
    "import statsmodels.api as sm"
   ]
  },
  {
   "cell_type": "code",
   "execution_count": 17,
   "metadata": {},
   "outputs": [
    {
     "name": "stdout",
     "output_type": "stream",
     "text": [
      "                            OLS Regression Results                            \n",
      "==============================================================================\n",
      "Dep. Variable:                 UNRATE   R-squared:                       0.686\n",
      "Model:                            OLS   Adj. R-squared:                  0.683\n",
      "Method:                 Least Squares   F-statistic:                     218.7\n",
      "Date:                Thu, 04 Nov 2021   Prob (F-statistic):           6.49e-27\n",
      "Time:                        15:34:14   Log-Likelihood:                -149.70\n",
      "No. Observations:                 102   AIC:                             303.4\n",
      "Df Residuals:                     100   BIC:                             308.6\n",
      "Df Model:                           1                                         \n",
      "Covariance Type:            nonrobust                                         \n",
      "==============================================================================\n",
      "                 coef    std err          t      P>|t|      [0.025      0.975]\n",
      "------------------------------------------------------------------------------\n",
      "const          0.9325      0.321      2.904      0.005       0.295       1.570\n",
      "lag_UNRATE     0.8239      0.056     14.788      0.000       0.713       0.934\n",
      "==============================================================================\n",
      "Omnibus:                      209.748   Durbin-Watson:                   1.813\n",
      "Prob(Omnibus):                  0.000   Jarque-Bera (JB):            32695.797\n",
      "Skew:                           9.084   Prob(JB):                         0.00\n",
      "Kurtosis:                      88.808   Cond. No.                         18.1\n",
      "==============================================================================\n",
      "\n",
      "Notes:\n",
      "[1] Standard Errors assume that the covariance matrix of the errors is correctly specified.\n"
     ]
    }
   ],
   "source": [
    "X = sm.add_constant(data_withSentiment_US_unemployment['lag_UNRATE'])\n",
    "Y = data_withSentiment_US_unemployment['UNRATE']\n",
    "ar_model_US_unemployment = sm.OLS(Y,X).fit()\n",
    "print(ar_model_US_unemployment.summary())"
   ]
  },
  {
   "cell_type": "code",
   "execution_count": 18,
   "metadata": {},
   "outputs": [
    {
     "name": "stdout",
     "output_type": "stream",
     "text": [
      "                            OLS Regression Results                            \n",
      "==============================================================================\n",
      "Dep. Variable:                  GDPC1   R-squared:                       0.819\n",
      "Model:                            OLS   Adj. R-squared:                  0.814\n",
      "Method:                 Least Squares   F-statistic:                     145.0\n",
      "Date:                Thu, 04 Nov 2021   Prob (F-statistic):           1.99e-13\n",
      "Time:                        15:34:14   Log-Likelihood:                -249.54\n",
      "No. Observations:                  34   AIC:                             503.1\n",
      "Df Residuals:                      32   BIC:                             506.1\n",
      "Df Model:                           1                                         \n",
      "Covariance Type:            nonrobust                                         \n",
      "==============================================================================\n",
      "                 coef    std err          t      P>|t|      [0.025      0.975]\n",
      "------------------------------------------------------------------------------\n",
      "const       1797.2265   1347.180      1.334      0.192    -946.889    4541.342\n",
      "lag_GDPC1      0.9046      0.075     12.043      0.000       0.752       1.058\n",
      "==============================================================================\n",
      "Omnibus:                       35.810   Durbin-Watson:                   2.425\n",
      "Prob(Omnibus):                  0.000   Jarque-Bera (JB):              222.385\n",
      "Skew:                          -1.824   Prob(JB):                     5.12e-49\n",
      "Kurtosis:                      14.986   Cond. No.                     3.67e+05\n",
      "==============================================================================\n",
      "\n",
      "Notes:\n",
      "[1] Standard Errors assume that the covariance matrix of the errors is correctly specified.\n",
      "[2] The condition number is large, 3.67e+05. This might indicate that there are\n",
      "strong multicollinearity or other numerical problems.\n"
     ]
    }
   ],
   "source": [
    "X = sm.add_constant(data_withSentiment_US_gdp['lag_GDPC1'])\n",
    "Y = data_withSentiment_US_gdp['GDPC1']\n",
    "ar_model_US_gdp = sm.OLS(Y,X).fit()\n",
    "print(ar_model_US_gdp.summary())"
   ]
  },
  {
   "cell_type": "code",
   "execution_count": 19,
   "metadata": {},
   "outputs": [
    {
     "name": "stdout",
     "output_type": "stream",
     "text": [
      "                            OLS Regression Results                            \n",
      "==============================================================================\n",
      "Dep. Variable:               CPIAUCNS   R-squared:                       0.996\n",
      "Model:                            OLS   Adj. R-squared:                  0.995\n",
      "Method:                 Least Squares   F-statistic:                 2.225e+04\n",
      "Date:                Thu, 04 Nov 2021   Prob (F-statistic):          2.73e-119\n",
      "Time:                        15:34:14   Log-Likelihood:                -112.64\n",
      "No. Observations:                 102   AIC:                             229.3\n",
      "Df Residuals:                     100   BIC:                             234.5\n",
      "Df Model:                           1                                         \n",
      "Covariance Type:            nonrobust                                         \n",
      "================================================================================\n",
      "                   coef    std err          t      P>|t|      [0.025      0.975]\n",
      "--------------------------------------------------------------------------------\n",
      "const           -4.7618      1.691     -2.817      0.006      -8.116      -1.408\n",
      "lag_CPIAUCNS     1.0209      0.007    149.170      0.000       1.007       1.035\n",
      "==============================================================================\n",
      "Omnibus:                        1.426   Durbin-Watson:                   0.878\n",
      "Prob(Omnibus):                  0.490   Jarque-Bera (JB):                1.087\n",
      "Skew:                          -0.249   Prob(JB):                        0.581\n",
      "Kurtosis:                       3.092   Cond. No.                     5.72e+03\n",
      "==============================================================================\n",
      "\n",
      "Notes:\n",
      "[1] Standard Errors assume that the covariance matrix of the errors is correctly specified.\n",
      "[2] The condition number is large, 5.72e+03. This might indicate that there are\n",
      "strong multicollinearity or other numerical problems.\n"
     ]
    }
   ],
   "source": [
    "X = sm.add_constant(data_withSentiment_US_inflation['lag_CPIAUCNS'])\n",
    "Y = data_withSentiment_US_inflation['CPIAUCNS']\n",
    "ar_model_US_inflation = sm.OLS(Y,X).fit()\n",
    "print(ar_model_US_inflation.summary())"
   ]
  },
  {
   "cell_type": "markdown",
   "metadata": {},
   "source": [
    "### Model with Sentiment Scores (LR Model)"
   ]
  },
  {
   "cell_type": "code",
   "execution_count": 20,
   "metadata": {},
   "outputs": [
    {
     "name": "stdout",
     "output_type": "stream",
     "text": [
      "                            OLS Regression Results                            \n",
      "==============================================================================\n",
      "Dep. Variable:                 UNRATE   R-squared:                       0.698\n",
      "Model:                            OLS   Adj. R-squared:                  0.689\n",
      "Method:                 Least Squares   F-statistic:                     75.65\n",
      "Date:                Thu, 04 Nov 2021   Prob (F-statistic):           2.07e-25\n",
      "Time:                        15:34:14   Log-Likelihood:                -147.67\n",
      "No. Observations:                 102   AIC:                             303.3\n",
      "Df Residuals:                      98   BIC:                             313.8\n",
      "Df Model:                           3                                         \n",
      "Covariance Type:            nonrobust                                         \n",
      "===============================================================================\n",
      "                  coef    std err          t      P>|t|      [0.025      0.975]\n",
      "-------------------------------------------------------------------------------\n",
      "const           0.7069      0.239      2.961      0.004       0.233       1.181\n",
      "lag_UNRATE      0.8114      0.056     14.497      0.000       0.700       0.922\n",
      "positive_lr    -0.2076      1.711     -0.121      0.904      -3.603       3.188\n",
      "neutral_lr     -2.6617      1.890     -1.409      0.162      -6.412       1.088\n",
      "negative_lr     3.5762      1.747      2.048      0.043       0.110       7.042\n",
      "==============================================================================\n",
      "Omnibus:                      199.808   Durbin-Watson:                   1.865\n",
      "Prob(Omnibus):                  0.000   Jarque-Bera (JB):            25927.866\n",
      "Skew:                           8.322   Prob(JB):                         0.00\n",
      "Kurtosis:                      79.313   Cond. No.                     2.84e+17\n",
      "==============================================================================\n",
      "\n",
      "Notes:\n",
      "[1] Standard Errors assume that the covariance matrix of the errors is correctly specified.\n",
      "[2] The smallest eigenvalue is 4.36e-32. This might indicate that there are\n",
      "strong multicollinearity problems or that the design matrix is singular.\n"
     ]
    }
   ],
   "source": [
    "X = sm.add_constant(data_withSentiment_US_unemployment[['lag_UNRATE', 'positive_lr','neutral_lr','negative_lr']])\n",
    "Y = data_withSentiment_US_unemployment['UNRATE']\n",
    "lr_model_withSentiment1_current_US_unemployment = sm.OLS(Y,X).fit()\n",
    "print(lr_model_withSentiment1_current_US_unemployment.summary())"
   ]
  },
  {
   "cell_type": "code",
   "execution_count": 21,
   "metadata": {},
   "outputs": [
    {
     "name": "stdout",
     "output_type": "stream",
     "text": [
      "                            OLS Regression Results                            \n",
      "==============================================================================\n",
      "Dep. Variable:                 UNRATE   R-squared:                       0.691\n",
      "Model:                            OLS   Adj. R-squared:                  0.685\n",
      "Method:                 Least Squares   F-statistic:                     110.8\n",
      "Date:                Thu, 04 Nov 2021   Prob (F-statistic):           5.48e-26\n",
      "Time:                        15:34:14   Log-Likelihood:                -148.88\n",
      "No. Observations:                 102   AIC:                             303.8\n",
      "Df Residuals:                      99   BIC:                             311.6\n",
      "Df Model:                           2                                         \n",
      "Covariance Type:            nonrobust                                         \n",
      "=====================================================================================\n",
      "                        coef    std err          t      P>|t|      [0.025      0.975]\n",
      "-------------------------------------------------------------------------------------\n",
      "const                 0.9230      0.320      2.882      0.005       0.288       1.558\n",
      "lag_UNRATE            0.8256      0.056     14.858      0.000       0.715       0.936\n",
      "sentiment_lr_diff    -1.8377      1.452     -1.265      0.209      -4.720       1.044\n",
      "==============================================================================\n",
      "Omnibus:                      203.153   Durbin-Watson:                   1.855\n",
      "Prob(Omnibus):                  0.000   Jarque-Bera (JB):            28038.941\n",
      "Skew:                           8.573   Prob(JB):                         0.00\n",
      "Kurtosis:                      82.394   Cond. No.                         81.0\n",
      "==============================================================================\n",
      "\n",
      "Notes:\n",
      "[1] Standard Errors assume that the covariance matrix of the errors is correctly specified.\n"
     ]
    }
   ],
   "source": [
    "X = sm.add_constant(data_withSentiment_US_unemployment[['lag_UNRATE', 'sentiment_lr_diff']])\n",
    "Y = data_withSentiment_US_unemployment['UNRATE']\n",
    "lr_model_withSentiment2_current_US_unemployment = sm.OLS(Y,X).fit()\n",
    "print(lr_model_withSentiment2_current_US_unemployment.summary())"
   ]
  },
  {
   "cell_type": "code",
   "execution_count": 22,
   "metadata": {},
   "outputs": [
    {
     "name": "stdout",
     "output_type": "stream",
     "text": [
      "                            OLS Regression Results                            \n",
      "==============================================================================\n",
      "Dep. Variable:                 UNRATE   R-squared:                       0.689\n",
      "Model:                            OLS   Adj. R-squared:                  0.682\n",
      "Method:                 Least Squares   F-statistic:                     109.5\n",
      "Date:                Thu, 04 Nov 2021   Prob (F-statistic):           8.24e-26\n",
      "Time:                        15:34:14   Log-Likelihood:                -149.30\n",
      "No. Observations:                 102   AIC:                             304.6\n",
      "Df Residuals:                      99   BIC:                             312.5\n",
      "Df Model:                           2                                         \n",
      "Covariance Type:            nonrobust                                         \n",
      "======================================================================================\n",
      "                         coef    std err          t      P>|t|      [0.025      0.975]\n",
      "--------------------------------------------------------------------------------------\n",
      "const                  1.3659      0.588      2.324      0.022       0.200       2.532\n",
      "lag_UNRATE             0.8272      0.056     14.797      0.000       0.716       0.938\n",
      "sentiment_lr_ratio    -0.4423      0.502     -0.881      0.381      -1.439       0.554\n",
      "==============================================================================\n",
      "Omnibus:                      205.713   Durbin-Watson:                   1.840\n",
      "Prob(Omnibus):                  0.000   Jarque-Bera (JB):            29765.892\n",
      "Skew:                           8.769   Prob(JB):                         0.00\n",
      "Kurtosis:                      84.830   Cond. No.                         41.8\n",
      "==============================================================================\n",
      "\n",
      "Notes:\n",
      "[1] Standard Errors assume that the covariance matrix of the errors is correctly specified.\n"
     ]
    }
   ],
   "source": [
    "X = sm.add_constant(data_withSentiment_US_unemployment[['lag_UNRATE', 'sentiment_lr_ratio']])\n",
    "Y = data_withSentiment_US_unemployment['UNRATE']\n",
    "lr_model_withSentiment3_current_US_unemployment = sm.OLS(Y,X).fit()\n",
    "print(lr_model_withSentiment3_current_US_unemployment.summary())"
   ]
  },
  {
   "cell_type": "code",
   "execution_count": 23,
   "metadata": {},
   "outputs": [
    {
     "name": "stdout",
     "output_type": "stream",
     "text": [
      "                            OLS Regression Results                            \n",
      "==============================================================================\n",
      "Dep. Variable:                  GDPC1   R-squared:                       0.839\n",
      "Model:                            OLS   Adj. R-squared:                  0.823\n",
      "Method:                 Least Squares   F-statistic:                     52.09\n",
      "Date:                Thu, 04 Nov 2021   Prob (F-statistic):           5.25e-12\n",
      "Time:                        15:34:14   Log-Likelihood:                -247.58\n",
      "No. Observations:                  34   AIC:                             503.2\n",
      "Df Residuals:                      30   BIC:                             509.3\n",
      "Df Model:                           3                                         \n",
      "Covariance Type:            nonrobust                                         \n",
      "===============================================================================\n",
      "                  coef    std err          t      P>|t|      [0.025      0.975]\n",
      "-------------------------------------------------------------------------------\n",
      "const       -1060.9046   1601.685     -0.662      0.513   -4331.982    2210.173\n",
      "lag_GDPC1       1.0842      0.119      9.098      0.000       0.841       1.328\n",
      "positive_lr  2975.9930   1638.220      1.817      0.079    -369.699    6321.685\n",
      "neutral_lr   -164.1615   1654.527     -0.099      0.922   -3543.156    3214.833\n",
      "negative_lr -3872.7361   2349.278     -1.648      0.110   -8670.602     925.130\n",
      "==============================================================================\n",
      "Omnibus:                       15.913   Durbin-Watson:                   2.313\n",
      "Prob(Omnibus):                  0.000   Jarque-Bera (JB):               82.507\n",
      "Skew:                          -0.062   Prob(JB):                     1.21e-18\n",
      "Kurtosis:                      10.631   Cond. No.                     2.70e+20\n",
      "==============================================================================\n",
      "\n",
      "Notes:\n",
      "[1] Standard Errors assume that the covariance matrix of the errors is correctly specified.\n",
      "[2] The smallest eigenvalue is 1.49e-31. This might indicate that there are\n",
      "strong multicollinearity problems or that the design matrix is singular.\n"
     ]
    }
   ],
   "source": [
    "X = sm.add_constant(data_withSentiment_US_gdp[['lag_GDPC1', 'positive_lr','neutral_lr','negative_lr']])\n",
    "Y = data_withSentiment_US_gdp['GDPC1']\n",
    "lr_model_withSentiment1_current_US_gdp = sm.OLS(Y,X).fit()\n",
    "print(lr_model_withSentiment1_current_US_gdp.summary())"
   ]
  },
  {
   "cell_type": "code",
   "execution_count": 24,
   "metadata": {},
   "outputs": [
    {
     "name": "stdout",
     "output_type": "stream",
     "text": [
      "                            OLS Regression Results                            \n",
      "==============================================================================\n",
      "Dep. Variable:                  GDPC1   R-squared:                       0.839\n",
      "Model:                            OLS   Adj. R-squared:                  0.828\n",
      "Method:                 Least Squares   F-statistic:                     80.69\n",
      "Date:                Thu, 04 Nov 2021   Prob (F-statistic):           5.15e-13\n",
      "Time:                        15:34:14   Log-Likelihood:                -247.59\n",
      "No. Observations:                  34   AIC:                             501.2\n",
      "Df Residuals:                      31   BIC:                             505.8\n",
      "Df Model:                           2                                         \n",
      "Covariance Type:            nonrobust                                         \n",
      "=====================================================================================\n",
      "                        coef    std err          t      P>|t|      [0.025      0.975]\n",
      "-------------------------------------------------------------------------------------\n",
      "const             -1419.8159   2100.941     -0.676      0.504   -5704.713    2865.081\n",
      "lag_GDPC1             1.0843      0.117      9.247      0.000       0.845       1.323\n",
      "sentiment_lr_diff  3431.8179   1767.010      1.942      0.061    -172.022    7035.658\n",
      "==============================================================================\n",
      "Omnibus:                       16.013   Durbin-Watson:                   2.335\n",
      "Prob(Omnibus):                  0.000   Jarque-Bera (JB):               83.945\n",
      "Skew:                          -0.070   Prob(JB):                     5.91e-19\n",
      "Kurtosis:                      10.696   Cond. No.                     7.38e+05\n",
      "==============================================================================\n",
      "\n",
      "Notes:\n",
      "[1] Standard Errors assume that the covariance matrix of the errors is correctly specified.\n",
      "[2] The condition number is large, 7.38e+05. This might indicate that there are\n",
      "strong multicollinearity or other numerical problems.\n"
     ]
    }
   ],
   "source": [
    "X = sm.add_constant(data_withSentiment_US_gdp[['lag_GDPC1', 'sentiment_lr_diff']])\n",
    "Y = data_withSentiment_US_gdp['GDPC1']\n",
    "lr_model_withSentiment2_current_US_gdp = sm.OLS(Y,X).fit()\n",
    "print(lr_model_withSentiment2_current_US_gdp.summary())"
   ]
  },
  {
   "cell_type": "code",
   "execution_count": 25,
   "metadata": {},
   "outputs": [
    {
     "name": "stdout",
     "output_type": "stream",
     "text": [
      "                            OLS Regression Results                            \n",
      "==============================================================================\n",
      "Dep. Variable:                  GDPC1   R-squared:                       0.827\n",
      "Model:                            OLS   Adj. R-squared:                  0.816\n",
      "Method:                 Least Squares   F-statistic:                     74.23\n",
      "Date:                Thu, 04 Nov 2021   Prob (F-statistic):           1.51e-12\n",
      "Time:                        15:34:14   Log-Likelihood:                -248.77\n",
      "No. Observations:                  34   AIC:                             503.5\n",
      "Df Residuals:                      31   BIC:                             508.1\n",
      "Df Model:                           2                                         \n",
      "Covariance Type:            nonrobust                                         \n",
      "======================================================================================\n",
      "                         coef    std err          t      P>|t|      [0.025      0.975]\n",
      "--------------------------------------------------------------------------------------\n",
      "const              -1205.4569   2841.470     -0.424      0.674   -7000.673    4589.759\n",
      "lag_GDPC1              1.0272      0.127      8.113      0.000       0.769       1.285\n",
      "sentiment_lr_ratio   791.9129    661.097      1.198      0.240    -556.403    2140.229\n",
      "==============================================================================\n",
      "Omnibus:                       22.363   Durbin-Watson:                   2.405\n",
      "Prob(Omnibus):                  0.000   Jarque-Bera (JB):              128.008\n",
      "Skew:                          -0.808   Prob(JB):                     1.60e-28\n",
      "Kurtosis:                      12.367   Cond. No.                     7.95e+05\n",
      "==============================================================================\n",
      "\n",
      "Notes:\n",
      "[1] Standard Errors assume that the covariance matrix of the errors is correctly specified.\n",
      "[2] The condition number is large, 7.95e+05. This might indicate that there are\n",
      "strong multicollinearity or other numerical problems.\n"
     ]
    }
   ],
   "source": [
    "X = sm.add_constant(data_withSentiment_US_gdp[['lag_GDPC1', 'sentiment_lr_ratio']])\n",
    "Y = data_withSentiment_US_gdp['GDPC1']\n",
    "lr_model_withSentiment3_current_US_gdp = sm.OLS(Y,X).fit()\n",
    "print(lr_model_withSentiment3_current_US_gdp.summary())"
   ]
  },
  {
   "cell_type": "code",
   "execution_count": 26,
   "metadata": {},
   "outputs": [
    {
     "name": "stdout",
     "output_type": "stream",
     "text": [
      "                            OLS Regression Results                            \n",
      "==============================================================================\n",
      "Dep. Variable:               CPIAUCNS   R-squared:                       1.000\n",
      "Model:                            OLS   Adj. R-squared:                  1.000\n",
      "Method:                 Least Squares   F-statistic:                 3.030e+28\n",
      "Date:                Thu, 04 Nov 2021   Prob (F-statistic):               0.00\n",
      "Time:                        15:34:14   Log-Likelihood:                 2778.3\n",
      "No. Observations:                 102   AIC:                            -5549.\n",
      "Df Residuals:                      98   BIC:                            -5538.\n",
      "Df Model:                           3                                         \n",
      "Covariance Type:            nonrobust                                         \n",
      "===============================================================================\n",
      "                  coef    std err          t      P>|t|      [0.025      0.975]\n",
      "-------------------------------------------------------------------------------\n",
      "const       -2.842e-13   7.49e-13     -0.380      0.705   -1.77e-12     1.2e-12\n",
      "CPIAUCNS        1.0000   4.05e-15   2.47e+14      0.000       1.000       1.000\n",
      "positive_lr -2.274e-13   5.89e-13     -0.386      0.700    -1.4e-12    9.42e-13\n",
      "neutral_lr   5.684e-14   6.62e-13      0.086      0.932   -1.26e-12    1.37e-12\n",
      "negative_lr -2.274e-13   8.92e-13     -0.255      0.799      -2e-12    1.54e-12\n",
      "==============================================================================\n",
      "Omnibus:                        7.441   Durbin-Watson:                   0.006\n",
      "Prob(Omnibus):                  0.024   Jarque-Bera (JB):                6.654\n",
      "Skew:                           0.548   Prob(JB):                       0.0359\n",
      "Kurtosis:                       2.396   Cond. No.                     1.23e+19\n",
      "==============================================================================\n",
      "\n",
      "Notes:\n",
      "[1] Standard Errors assume that the covariance matrix of the errors is correctly specified.\n",
      "[2] The smallest eigenvalue is 4.16e-32. This might indicate that there are\n",
      "strong multicollinearity problems or that the design matrix is singular.\n"
     ]
    }
   ],
   "source": [
    "X = sm.add_constant(data_withSentiment_US_inflation[['CPIAUCNS', 'positive_lr','neutral_lr','negative_lr']])\n",
    "Y = data_withSentiment_US_inflation['CPIAUCNS']\n",
    "lr_model_withSentiment1_current_US_inflation = sm.OLS(Y,X).fit()\n",
    "print(lr_model_withSentiment1_current_US_inflation.summary())"
   ]
  },
  {
   "cell_type": "code",
   "execution_count": 27,
   "metadata": {},
   "outputs": [
    {
     "name": "stdout",
     "output_type": "stream",
     "text": [
      "                            OLS Regression Results                            \n",
      "==============================================================================\n",
      "Dep. Variable:               CPIAUCNS   R-squared:                       1.000\n",
      "Model:                            OLS   Adj. R-squared:                  1.000\n",
      "Method:                 Least Squares   F-statistic:                 3.121e+28\n",
      "Date:                Thu, 04 Nov 2021   Prob (F-statistic):               0.00\n",
      "Time:                        15:34:14   Log-Likelihood:                 2758.6\n",
      "No. Observations:                 102   AIC:                            -5511.\n",
      "Df Residuals:                      99   BIC:                            -5503.\n",
      "Df Model:                           2                                         \n",
      "Covariance Type:            nonrobust                                         \n",
      "=====================================================================================\n",
      "                        coef    std err          t      P>|t|      [0.025      0.975]\n",
      "-------------------------------------------------------------------------------------\n",
      "const             -2.842e-13   1.18e-12     -0.241      0.810   -2.63e-12    2.06e-12\n",
      "CPIAUCNS              1.0000   4.77e-15   2.09e+14      0.000       1.000       1.000\n",
      "sentiment_lr_diff  1.137e-13   7.23e-13      0.157      0.875   -1.32e-12    1.55e-12\n",
      "==============================================================================\n",
      "Omnibus:                        1.905   Durbin-Watson:                   0.001\n",
      "Prob(Omnibus):                  0.386   Jarque-Bera (JB):                1.557\n",
      "Skew:                           0.139   Prob(JB):                        0.459\n",
      "Kurtosis:                       2.463   Cond. No.                     7.16e+03\n",
      "==============================================================================\n",
      "\n",
      "Notes:\n",
      "[1] Standard Errors assume that the covariance matrix of the errors is correctly specified.\n",
      "[2] The condition number is large, 7.16e+03. This might indicate that there are\n",
      "strong multicollinearity or other numerical problems.\n"
     ]
    }
   ],
   "source": [
    "X = sm.add_constant(data_withSentiment_US_inflation[['CPIAUCNS', 'sentiment_lr_diff']])\n",
    "Y = data_withSentiment_US_inflation['CPIAUCNS']\n",
    "lr_model_withSentiment2_current_US_inflation = sm.OLS(Y,X).fit()\n",
    "print(lr_model_withSentiment2_current_US_inflation.summary())"
   ]
  },
  {
   "cell_type": "code",
   "execution_count": 28,
   "metadata": {},
   "outputs": [
    {
     "name": "stdout",
     "output_type": "stream",
     "text": [
      "                            OLS Regression Results                            \n",
      "==============================================================================\n",
      "Dep. Variable:               CPIAUCNS   R-squared:                       1.000\n",
      "Model:                            OLS   Adj. R-squared:                  1.000\n",
      "Method:                 Least Squares   F-statistic:                 1.825e+30\n",
      "Date:                Thu, 04 Nov 2021   Prob (F-statistic):               0.00\n",
      "Time:                        15:34:14   Log-Likelihood:                 2966.1\n",
      "No. Observations:                 102   AIC:                            -5926.\n",
      "Df Residuals:                      99   BIC:                            -5918.\n",
      "Df Model:                           2                                         \n",
      "Covariance Type:            nonrobust                                         \n",
      "======================================================================================\n",
      "                         coef    std err          t      P>|t|      [0.025      0.975]\n",
      "--------------------------------------------------------------------------------------\n",
      "const                       0   1.76e-13          0      1.000    -3.5e-13     3.5e-13\n",
      "CPIAUCNS               1.0000    6.3e-16   1.59e+15      0.000       1.000       1.000\n",
      "sentiment_lr_ratio          0   3.28e-14          0      1.000    -6.5e-14     6.5e-14\n",
      "==============================================================================\n",
      "Omnibus:                      502.560   Durbin-Watson:                   0.000\n",
      "Prob(Omnibus):                  0.000   Jarque-Bera (JB):               38.250\n",
      "Skew:                           0.000   Prob(JB):                     4.94e-09\n",
      "Kurtosis:                       0.000   Cond. No.                     7.70e+03\n",
      "==============================================================================\n",
      "\n",
      "Notes:\n",
      "[1] Standard Errors assume that the covariance matrix of the errors is correctly specified.\n",
      "[2] The condition number is large, 7.7e+03. This might indicate that there are\n",
      "strong multicollinearity or other numerical problems.\n"
     ]
    }
   ],
   "source": [
    "X = sm.add_constant(data_withSentiment_US_inflation[['CPIAUCNS', 'sentiment_lr_ratio']])\n",
    "Y = data_withSentiment_US_inflation['CPIAUCNS']\n",
    "lr_model_withSentiment3_current_US_inflation = sm.OLS(Y,X).fit()\n",
    "print(lr_model_withSentiment3_current_US_inflation.summary())"
   ]
  },
  {
   "cell_type": "markdown",
   "metadata": {},
   "source": [
    "### Model with Sentiment Scores (LSTM Model)"
   ]
  },
  {
   "cell_type": "code",
   "execution_count": 29,
   "metadata": {},
   "outputs": [
    {
     "name": "stdout",
     "output_type": "stream",
     "text": [
      "                            OLS Regression Results                            \n",
      "==============================================================================\n",
      "Dep. Variable:                 UNRATE   R-squared:                       0.703\n",
      "Model:                            OLS   Adj. R-squared:                  0.694\n",
      "Method:                 Least Squares   F-statistic:                     77.29\n",
      "Date:                Thu, 04 Nov 2021   Prob (F-statistic):           9.95e-26\n",
      "Time:                        15:34:14   Log-Likelihood:                -146.91\n",
      "No. Observations:                 102   AIC:                             301.8\n",
      "Df Residuals:                      98   BIC:                             312.3\n",
      "Df Model:                           3                                         \n",
      "Covariance Type:            nonrobust                                         \n",
      "=================================================================================\n",
      "                    coef    std err          t      P>|t|      [0.025      0.975]\n",
      "---------------------------------------------------------------------------------\n",
      "const             4.8532      1.954      2.484      0.015       0.975       8.731\n",
      "lag_UNRATE        0.7840      0.058     13.528      0.000       0.669       0.899\n",
      "positive_lstm     2.3351      3.015      0.775      0.440      -3.648       8.318\n",
      "neutral_lstm     -5.0419      2.358     -2.138      0.035      -9.721      -0.363\n",
      "negative_lstm     7.5600      5.378      1.406      0.163      -3.113      18.233\n",
      "==============================================================================\n",
      "Omnibus:                      203.124   Durbin-Watson:                   1.891\n",
      "Prob(Omnibus):                  0.000   Jarque-Bera (JB):            28025.424\n",
      "Skew:                           8.571   Prob(JB):                         0.00\n",
      "Kurtosis:                      82.375   Cond. No.                     6.71e+16\n",
      "==============================================================================\n",
      "\n",
      "Notes:\n",
      "[1] Standard Errors assume that the covariance matrix of the errors is correctly specified.\n",
      "[2] The smallest eigenvalue is 7.89e-31. This might indicate that there are\n",
      "strong multicollinearity problems or that the design matrix is singular.\n"
     ]
    }
   ],
   "source": [
    "X = sm.add_constant(data_withSentiment_US_unemployment[['lag_UNRATE', 'positive_lstm','neutral_lstm','negative_lstm']])\n",
    "Y = data_withSentiment_US_unemployment['UNRATE']\n",
    "lstm_model_withSentiment1_current_US_unemployment = sm.OLS(Y,X).fit()\n",
    "print(lstm_model_withSentiment1_current_US_unemployment.summary())"
   ]
  },
  {
   "cell_type": "code",
   "execution_count": 30,
   "metadata": {},
   "outputs": [
    {
     "name": "stdout",
     "output_type": "stream",
     "text": [
      "                            OLS Regression Results                            \n",
      "==============================================================================\n",
      "Dep. Variable:                 UNRATE   R-squared:                       0.688\n",
      "Model:                            OLS   Adj. R-squared:                  0.682\n",
      "Method:                 Least Squares   F-statistic:                     109.1\n",
      "Date:                Thu, 04 Nov 2021   Prob (F-statistic):           9.19e-26\n",
      "Time:                        15:34:14   Log-Likelihood:                -149.41\n",
      "No. Observations:                 102   AIC:                             304.8\n",
      "Df Residuals:                      99   BIC:                             312.7\n",
      "Df Model:                           2                                         \n",
      "Covariance Type:            nonrobust                                         \n",
      "=======================================================================================\n",
      "                          coef    std err          t      P>|t|      [0.025      0.975]\n",
      "---------------------------------------------------------------------------------------\n",
      "const                   0.7531      0.402      1.874      0.064      -0.044       1.550\n",
      "lag_UNRATE              0.8257      0.056     14.774      0.000       0.715       0.937\n",
      "sentiment_lstm_diff     2.3355      3.132      0.746      0.458      -3.879       8.550\n",
      "==============================================================================\n",
      "Omnibus:                      206.525   Durbin-Watson:                   1.824\n",
      "Prob(Omnibus):                  0.000   Jarque-Bera (JB):            30350.711\n",
      "Skew:                           8.831   Prob(JB):                         0.00\n",
      "Kurtosis:                      85.640   Cond. No.                         174.\n",
      "==============================================================================\n",
      "\n",
      "Notes:\n",
      "[1] Standard Errors assume that the covariance matrix of the errors is correctly specified.\n"
     ]
    }
   ],
   "source": [
    "X = sm.add_constant(data_withSentiment_US_unemployment[['lag_UNRATE', 'sentiment_lstm_diff']])\n",
    "Y = data_withSentiment_US_unemployment['UNRATE']\n",
    "lstm_model_withSentiment2_current_US_unemployment = sm.OLS(Y,X).fit()\n",
    "print(lstm_model_withSentiment2_current_US_unemployment.summary())"
   ]
  },
  {
   "cell_type": "code",
   "execution_count": 31,
   "metadata": {},
   "outputs": [
    {
     "name": "stdout",
     "output_type": "stream",
     "text": [
      "                            OLS Regression Results                            \n",
      "==============================================================================\n",
      "Dep. Variable:                 UNRATE   R-squared:                       0.687\n",
      "Model:                            OLS   Adj. R-squared:                  0.680\n",
      "Method:                 Least Squares   F-statistic:                     108.5\n",
      "Date:                Thu, 04 Nov 2021   Prob (F-statistic):           1.13e-25\n",
      "Time:                        15:34:14   Log-Likelihood:                -149.63\n",
      "No. Observations:                 102   AIC:                             305.3\n",
      "Df Residuals:                      99   BIC:                             313.1\n",
      "Df Model:                           2                                         \n",
      "Covariance Type:            nonrobust                                         \n",
      "========================================================================================\n",
      "                           coef    std err          t      P>|t|      [0.025      0.975]\n",
      "----------------------------------------------------------------------------------------\n",
      "const                    1.0399      0.435      2.389      0.019       0.176       1.903\n",
      "lag_UNRATE               0.8203      0.057     14.437      0.000       0.708       0.933\n",
      "sentiment_lstm_ratio    -0.0826      0.225     -0.367      0.714      -0.529       0.363\n",
      "==============================================================================\n",
      "Omnibus:                      210.791   Durbin-Watson:                   1.812\n",
      "Prob(Omnibus):                  0.000   Jarque-Bera (JB):            33487.261\n",
      "Skew:                           9.167   Prob(JB):                         0.00\n",
      "Kurtosis:                      89.852   Cond. No.                         26.2\n",
      "==============================================================================\n",
      "\n",
      "Notes:\n",
      "[1] Standard Errors assume that the covariance matrix of the errors is correctly specified.\n"
     ]
    }
   ],
   "source": [
    "X = sm.add_constant(data_withSentiment_US_unemployment[['lag_UNRATE', 'sentiment_lstm_ratio']])\n",
    "Y = data_withSentiment_US_unemployment['UNRATE']\n",
    "lstm_model_withSentiment3_current_US_unemployment = sm.OLS(Y,X).fit()\n",
    "print(lstm_model_withSentiment3_current_US_unemployment.summary())"
   ]
  },
  {
   "cell_type": "code",
   "execution_count": 32,
   "metadata": {},
   "outputs": [
    {
     "name": "stdout",
     "output_type": "stream",
     "text": [
      "                            OLS Regression Results                            \n",
      "==============================================================================\n",
      "Dep. Variable:                  GDPC1   R-squared:                       0.826\n",
      "Model:                            OLS   Adj. R-squared:                  0.809\n",
      "Method:                 Least Squares   F-statistic:                     47.54\n",
      "Date:                Thu, 04 Nov 2021   Prob (F-statistic):           1.63e-11\n",
      "Time:                        15:34:14   Log-Likelihood:                -248.88\n",
      "No. Observations:                  34   AIC:                             505.8\n",
      "Df Residuals:                      30   BIC:                             511.9\n",
      "Df Model:                           3                                         \n",
      "Covariance Type:            nonrobust                                         \n",
      "=================================================================================\n",
      "                    coef    std err          t      P>|t|      [0.025      0.975]\n",
      "---------------------------------------------------------------------------------\n",
      "const           900.8138   2030.883      0.444      0.661   -3246.803    5048.430\n",
      "lag_GDPC1         0.8199      0.144      5.675      0.000       0.525       1.115\n",
      "positive_lstm  3910.4561   5110.955      0.765      0.450   -6527.506    1.43e+04\n",
      "neutral_lstm   2595.5548   2037.957      1.274      0.213   -1566.508    6757.618\n",
      "negative_lstm -5605.1971   5842.060     -0.959      0.345   -1.75e+04    6325.881\n",
      "==============================================================================\n",
      "Omnibus:                       40.056   Durbin-Watson:                   2.277\n",
      "Prob(Omnibus):                  0.000   Jarque-Bera (JB):              227.656\n",
      "Skew:                          -2.233   Prob(JB):                     3.67e-50\n",
      "Kurtosis:                      14.864   Cond. No.                     1.23e+20\n",
      "==============================================================================\n",
      "\n",
      "Notes:\n",
      "[1] Standard Errors assume that the covariance matrix of the errors is correctly specified.\n",
      "[2] The smallest eigenvalue is 7.18e-31. This might indicate that there are\n",
      "strong multicollinearity problems or that the design matrix is singular.\n"
     ]
    }
   ],
   "source": [
    "X = sm.add_constant(data_withSentiment_US_gdp[['lag_GDPC1', 'positive_lstm','neutral_lstm','negative_lstm']])\n",
    "Y = data_withSentiment_US_gdp['GDPC1']\n",
    "lstm_model_withSentiment1_current_US_gdp = sm.OLS(Y,X).fit()\n",
    "print(lstm_model_withSentiment1_current_US_gdp.summary())"
   ]
  },
  {
   "cell_type": "code",
   "execution_count": 33,
   "metadata": {},
   "outputs": [
    {
     "name": "stdout",
     "output_type": "stream",
     "text": [
      "                            OLS Regression Results                            \n",
      "==============================================================================\n",
      "Dep. Variable:                  GDPC1   R-squared:                       0.821\n",
      "Model:                            OLS   Adj. R-squared:                  0.809\n",
      "Method:                 Least Squares   F-statistic:                     70.88\n",
      "Date:                Thu, 04 Nov 2021   Prob (F-statistic):           2.73e-12\n",
      "Time:                        15:34:14   Log-Likelihood:                -249.42\n",
      "No. Observations:                  34   AIC:                             504.8\n",
      "Df Residuals:                      31   BIC:                             509.4\n",
      "Df Model:                           2                                         \n",
      "Covariance Type:            nonrobust                                         \n",
      "=======================================================================================\n",
      "                          coef    std err          t      P>|t|      [0.025      0.975]\n",
      "---------------------------------------------------------------------------------------\n",
      "const                2658.9089   2267.981      1.172      0.250   -1966.668    7284.486\n",
      "lag_GDPC1               0.8478      0.142      5.986      0.000       0.559       1.137\n",
      "sentiment_lstm_diff  2150.2084   4521.951      0.476      0.638   -7072.371    1.14e+04\n",
      "==============================================================================\n",
      "Omnibus:                       41.993   Durbin-Watson:                   2.392\n",
      "Prob(Omnibus):                  0.000   Jarque-Bera (JB):              267.696\n",
      "Skew:                          -2.321   Prob(JB):                     7.42e-59\n",
      "Kurtosis:                      15.939   Cond. No.                     1.32e+06\n",
      "==============================================================================\n",
      "\n",
      "Notes:\n",
      "[1] Standard Errors assume that the covariance matrix of the errors is correctly specified.\n",
      "[2] The condition number is large, 1.32e+06. This might indicate that there are\n",
      "strong multicollinearity or other numerical problems.\n"
     ]
    }
   ],
   "source": [
    "X = sm.add_constant(data_withSentiment_US_gdp[['lag_GDPC1', 'sentiment_lstm_diff']])\n",
    "Y = data_withSentiment_US_gdp['GDPC1']\n",
    "lstm_model_withSentiment2_current_US_gdp = sm.OLS(Y,X).fit()\n",
    "print(lstm_model_withSentiment2_current_US_gdp.summary())"
   ]
  },
  {
   "cell_type": "code",
   "execution_count": 34,
   "metadata": {},
   "outputs": [
    {
     "name": "stdout",
     "output_type": "stream",
     "text": [
      "                            OLS Regression Results                            \n",
      "==============================================================================\n",
      "Dep. Variable:                  GDPC1   R-squared:                       0.830\n",
      "Model:                            OLS   Adj. R-squared:                  0.819\n",
      "Method:                 Least Squares   F-statistic:                     75.44\n",
      "Date:                Thu, 04 Nov 2021   Prob (F-statistic):           1.23e-12\n",
      "Time:                        15:34:14   Log-Likelihood:                -248.55\n",
      "No. Observations:                  34   AIC:                             503.1\n",
      "Df Residuals:                      31   BIC:                             507.7\n",
      "Df Model:                           2                                         \n",
      "Covariance Type:            nonrobust                                         \n",
      "========================================================================================\n",
      "                           coef    std err          t      P>|t|      [0.025      0.975]\n",
      "----------------------------------------------------------------------------------------\n",
      "const                 3788.7425   1970.439      1.923      0.064    -229.994    7807.480\n",
      "lag_GDPC1                0.7699      0.123      6.248      0.000       0.519       1.021\n",
      "sentiment_lstm_ratio   398.2338    290.879      1.369      0.181    -195.018     991.486\n",
      "==============================================================================\n",
      "Omnibus:                       44.338   Durbin-Watson:                   2.285\n",
      "Prob(Omnibus):                  0.000   Jarque-Bera (JB):              263.838\n",
      "Skew:                          -2.575   Prob(JB):                     5.11e-58\n",
      "Kurtosis:                      15.637   Cond. No.                     5.47e+05\n",
      "==============================================================================\n",
      "\n",
      "Notes:\n",
      "[1] Standard Errors assume that the covariance matrix of the errors is correctly specified.\n",
      "[2] The condition number is large, 5.47e+05. This might indicate that there are\n",
      "strong multicollinearity or other numerical problems.\n"
     ]
    }
   ],
   "source": [
    "X = sm.add_constant(data_withSentiment_US_gdp[['lag_GDPC1', 'sentiment_lstm_ratio']])\n",
    "Y = data_withSentiment_US_gdp['GDPC1']\n",
    "lstm_model_withSentiment3_current_US_gdp = sm.OLS(Y,X).fit()\n",
    "print(lstm_model_withSentiment3_current_US_gdp.summary())"
   ]
  },
  {
   "cell_type": "code",
   "execution_count": 35,
   "metadata": {},
   "outputs": [
    {
     "name": "stdout",
     "output_type": "stream",
     "text": [
      "                            OLS Regression Results                            \n",
      "==============================================================================\n",
      "Dep. Variable:               CPIAUCNS   R-squared:                       0.996\n",
      "Model:                            OLS   Adj. R-squared:                  0.995\n",
      "Method:                 Least Squares   F-statistic:                     7389.\n",
      "Date:                Thu, 04 Nov 2021   Prob (F-statistic):          2.73e-115\n",
      "Time:                        15:34:14   Log-Likelihood:                -111.81\n",
      "No. Observations:                 102   AIC:                             231.6\n",
      "Df Residuals:                      98   BIC:                             242.1\n",
      "Df Model:                           3                                         \n",
      "Covariance Type:            nonrobust                                         \n",
      "=================================================================================\n",
      "                    coef    std err          t      P>|t|      [0.025      0.975]\n",
      "---------------------------------------------------------------------------------\n",
      "const            -5.2482      2.297     -2.285      0.024      -9.807      -0.689\n",
      "lag_CPIAUCNS      1.0214      0.010    106.011      0.000       1.002       1.041\n",
      "positive_lstm    -0.8027      3.400     -0.236      0.814      -7.551       5.945\n",
      "neutral_lstm      0.7878      1.613      0.488      0.626      -2.414       3.989\n",
      "negative_lstm    -5.2333      3.755     -1.394      0.167     -12.685       2.219\n",
      "==============================================================================\n",
      "Omnibus:                        0.615   Durbin-Watson:                   0.863\n",
      "Prob(Omnibus):                  0.735   Jarque-Bera (JB):                0.390\n",
      "Skew:                          -0.149   Prob(JB):                        0.823\n",
      "Kurtosis:                       3.055   Cond. No.                     2.97e+18\n",
      "==============================================================================\n",
      "\n",
      "Notes:\n",
      "[1] Standard Errors assume that the covariance matrix of the errors is correctly specified.\n",
      "[2] The smallest eigenvalue is 7.05e-31. This might indicate that there are\n",
      "strong multicollinearity problems or that the design matrix is singular.\n"
     ]
    }
   ],
   "source": [
    "X = sm.add_constant(data_withSentiment_US_inflation[['lag_CPIAUCNS', 'positive_lstm','neutral_lstm','negative_lstm']])\n",
    "Y = data_withSentiment_US_inflation['CPIAUCNS']\n",
    "lstm_model_withSentiment1_current_US_inflation = sm.OLS(Y,X).fit()\n",
    "print(lstm_model_withSentiment1_current_US_inflation.summary())"
   ]
  },
  {
   "cell_type": "code",
   "execution_count": 36,
   "metadata": {},
   "outputs": [
    {
     "name": "stdout",
     "output_type": "stream",
     "text": [
      "                            OLS Regression Results                            \n",
      "==============================================================================\n",
      "Dep. Variable:               CPIAUCNS   R-squared:                       0.996\n",
      "Model:                            OLS   Adj. R-squared:                  0.995\n",
      "Method:                 Least Squares   F-statistic:                 1.102e+04\n",
      "Date:                Thu, 04 Nov 2021   Prob (F-statistic):          4.89e-117\n",
      "Time:                        15:34:14   Log-Likelihood:                -112.59\n",
      "No. Observations:                 102   AIC:                             231.2\n",
      "Df Residuals:                      99   BIC:                             239.1\n",
      "Df Model:                           2                                         \n",
      "Covariance Type:            nonrobust                                         \n",
      "=======================================================================================\n",
      "                          coef    std err          t      P>|t|      [0.025      0.975]\n",
      "---------------------------------------------------------------------------------------\n",
      "const                  -4.3471      2.191     -1.984      0.050      -8.695       0.001\n",
      "lag_CPIAUCNS            1.0190      0.009    107.753      0.000       1.000       1.038\n",
      "sentiment_lstm_diff     0.8985      3.000      0.300      0.765      -5.054       6.851\n",
      "==============================================================================\n",
      "Omnibus:                        1.564   Durbin-Watson:                   0.881\n",
      "Prob(Omnibus):                  0.457   Jarque-Bera (JB):                1.148\n",
      "Skew:                          -0.249   Prob(JB):                        0.563\n",
      "Kurtosis:                       3.152   Cond. No.                     1.14e+04\n",
      "==============================================================================\n",
      "\n",
      "Notes:\n",
      "[1] Standard Errors assume that the covariance matrix of the errors is correctly specified.\n",
      "[2] The condition number is large, 1.14e+04. This might indicate that there are\n",
      "strong multicollinearity or other numerical problems.\n"
     ]
    }
   ],
   "source": [
    "X = sm.add_constant(data_withSentiment_US_inflation[['lag_CPIAUCNS', 'sentiment_lstm_diff']])\n",
    "Y = data_withSentiment_US_inflation['CPIAUCNS']\n",
    "lstm_model_withSentiment2_current_US_inflation = sm.OLS(Y,X).fit()\n",
    "print(lstm_model_withSentiment2_current_US_inflation.summary())"
   ]
  },
  {
   "cell_type": "code",
   "execution_count": 37,
   "metadata": {},
   "outputs": [
    {
     "name": "stdout",
     "output_type": "stream",
     "text": [
      "                            OLS Regression Results                            \n",
      "==============================================================================\n",
      "Dep. Variable:               CPIAUCNS   R-squared:                       0.996\n",
      "Model:                            OLS   Adj. R-squared:                  0.995\n",
      "Method:                 Least Squares   F-statistic:                 1.110e+04\n",
      "Date:                Thu, 04 Nov 2021   Prob (F-statistic):          3.54e-117\n",
      "Time:                        15:34:15   Log-Likelihood:                -112.26\n",
      "No. Observations:                 102   AIC:                             230.5\n",
      "Df Residuals:                      99   BIC:                             238.4\n",
      "Df Model:                           2                                         \n",
      "Covariance Type:            nonrobust                                         \n",
      "========================================================================================\n",
      "                           coef    std err          t      P>|t|      [0.025      0.975]\n",
      "----------------------------------------------------------------------------------------\n",
      "const                   -3.9617      1.932     -2.050      0.043      -7.795      -0.128\n",
      "lag_CPIAUCNS             1.0170      0.008    123.483      0.000       1.001       1.033\n",
      "sentiment_lstm_ratio     0.1584      0.184      0.859      0.392      -0.208       0.524\n",
      "==============================================================================\n",
      "Omnibus:                        1.247   Durbin-Watson:                   0.884\n",
      "Prob(Omnibus):                  0.536   Jarque-Bera (JB):                0.823\n",
      "Skew:                          -0.200   Prob(JB):                        0.662\n",
      "Kurtosis:                       3.185   Cond. No.                     6.54e+03\n",
      "==============================================================================\n",
      "\n",
      "Notes:\n",
      "[1] Standard Errors assume that the covariance matrix of the errors is correctly specified.\n",
      "[2] The condition number is large, 6.54e+03. This might indicate that there are\n",
      "strong multicollinearity or other numerical problems.\n"
     ]
    }
   ],
   "source": [
    "X = sm.add_constant(data_withSentiment_US_inflation[['lag_CPIAUCNS', 'sentiment_lstm_ratio']])\n",
    "Y = data_withSentiment_US_inflation['CPIAUCNS']\n",
    "lstm_model_withSentiment3_current_US_inflation = sm.OLS(Y,X).fit()\n",
    "print(lstm_model_withSentiment3_current_US_inflation.summary())"
   ]
  },
  {
   "cell_type": "markdown",
   "metadata": {},
   "source": [
    "## === End of Project ==="
   ]
  }
 ],
 "metadata": {
  "kernelspec": {
   "display_name": "nlu",
   "language": "python",
   "name": "nlu"
  },
  "language_info": {
   "codemirror_mode": {
    "name": "ipython",
    "version": 3
   },
   "file_extension": ".py",
   "mimetype": "text/x-python",
   "name": "python",
   "nbconvert_exporter": "python",
   "pygments_lexer": "ipython3",
   "version": "3.8.5"
  }
 },
 "nbformat": 4,
 "nbformat_minor": 4
}
